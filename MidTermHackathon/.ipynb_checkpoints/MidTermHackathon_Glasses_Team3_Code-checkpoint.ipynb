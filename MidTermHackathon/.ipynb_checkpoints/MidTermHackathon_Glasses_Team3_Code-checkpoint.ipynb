{
 "cells": [
  {
   "cell_type": "code",
   "execution_count": 1,
   "metadata": {},
   "outputs": [],
   "source": [
    "## import required libraries\n",
    "\n",
    "%matplotlib inline\n",
    "\n",
    "import numpy as np\n",
    "import matplotlib.pyplot as plt\n",
    "from sklearn.decomposition import PCA\n",
    "from sklearn.preprocessing import StandardScaler\n",
    "from sklearn.model_selection import GridSearchCV\n",
    "from sklearn.svm import SVC\n",
    "from sklearn.linear_model import LogisticRegression\n",
    "from sklearn.ensemble import RandomForestClassifier\n",
    "\n",
    "import warnings\n",
    "warnings.filterwarnings('ignore')\n"
   ]
  },
  {
   "cell_type": "code",
   "execution_count": 2,
   "metadata": {},
   "outputs": [],
   "source": [
    "## load data\n",
    "data = np.load('FaceData.npz')\n",
    "Faces = data['Faces'] #238x4096\n",
    "FaceImages = data['FaceImages'] #238x64x64\n",
    "y = data['y'] #238x1"
   ]
  },
  {
   "cell_type": "code",
   "execution_count": 3,
   "metadata": {},
   "outputs": [],
   "source": [
    "## Normalize features\n",
    "FacesNorm = StandardScaler().fit_transform(Faces)"
   ]
  },
  {
   "cell_type": "code",
   "execution_count": 4,
   "metadata": {},
   "outputs": [
    {
     "data": {
      "image/png": "[encoded data removed]",
      "text/plain": [
       "<Figure size 864x288 with 2 Axes>"
      ]
     },
     "metadata": {
      "needs_background": "light"
     },
     "output_type": "display_data"
    },
    {
     "name": "stdout",
     "output_type": "stream",
     "text": [
      "Number of Optimal PCs : 165\n"
     ]
    }
   ],
   "source": [
    "## PCA to reduce high dimensionality\n",
    "\n",
    "# PCA with all features\n",
    "GlassesPCA = PCA()\n",
    "GlassesPCs = GlassesPCA.fit_transform(FacesNorm)\n",
    "\n",
    "# Determine optimal number of components\n",
    "plt.figure(figsize=[12,4])\n",
    "plt.subplot(121)\n",
    "plt.plot(np.arange(1,239), GlassesPCA.explained_variance_ratio_, 'ro-', linewidth=2)\n",
    "plt.title('Scree Plot')\n",
    "plt.xlabel('# of Principal Components')\n",
    "plt.ylabel('Eigenvalue')\n",
    "plt.subplot(122)\n",
    "plt.plot(np.arange(1,239), np.cumsum(GlassesPCA.explained_variance_ratio_))\n",
    "plt.title('Cumulative explained variance')\n",
    "plt.xlabel('# of Principal Components')\n",
    "plt.ylabel('Proportion Explained')\n",
    "plt.show()\n",
    "\n",
    "# Finding the number of PCs that explained 99% of variation\n",
    "nIC = np.min(np.where(np.cumsum(GlassesPCA.explained_variance_ratio_)>.99))+1\n",
    "print (\"Number of Optimal PCs : %s\" % nIC)\n",
    "\n",
    "# Running optimal PCA\n",
    "GlassesPCA = PCA(n_components=nIC)\n",
    "GlassesPCs = GlassesPCA.fit_transform(FacesNorm)"
   ]
  },
  {
   "cell_type": "code",
   "execution_count": 5,
   "metadata": {},
   "outputs": [
    {
     "name": "stdout",
     "output_type": "stream",
     "text": [
      "Optimal Parameters: {'criterion': 'gini', 'max_depth': 7, 'min_samples_leaf': 7, 'n_estimators': 10}\n",
      "Model Accuracy: 0.7983193277310925\n"
     ]
    }
   ],
   "source": [
    "## Classification Model 1 : Random Forest\n",
    "\n",
    "# build base model\n",
    "rf = RandomForestClassifier()\n",
    "# rf.get_params().keys()\n",
    "\n",
    "# list hyperparameters of model\n",
    "param_rf = {'criterion': ['entropy','gini'], 'n_estimators': [1,5,7,10], \n",
    "            'max_depth':[4,5,6,7,8], 'min_samples_leaf': [1,2,3,4,5,6,7,8]}\n",
    "            \n",
    "# using a grid search to build hyper parameters to test\n",
    "grid_rf = GridSearchCV(rf, param_rf, cv=10)\n",
    "grid_rf.fit(GlassesPCs,y)\n",
    "\n",
    "# Optimal set of hyperparameters and its corresponding accuracy score\n",
    "print (\"Optimal Parameters: %s\" % grid_rf.best_params_)\n",
    "print (\"Model Accuracy: %s\" % grid_rf.best_score_)"
   ]
  },
  {
   "cell_type": "code",
   "execution_count": 6,
   "metadata": {},
   "outputs": [
    {
     "name": "stdout",
     "output_type": "stream",
     "text": [
      "Optimal Parameters: {'C': 0.1, 'penalty': 'l2', 'solver': 'newton-cg'}\n",
      "Model Accuracy: 0.9873949579831933\n"
     ]
    }
   ],
   "source": [
    "## Classification Model 2 : Logistic Regression\n",
    "\n",
    "# build base model\n",
    "logreg = LogisticRegression()\n",
    "\n",
    "# list hyperparameters of model\n",
    "param_logreg = {'C': [.001, 0.01,.1,1,10,100,1000],\n",
    "               'penalty':['l2'],\n",
    "               'solver':['newton-cg','lbfgs','liblinear','sag','saga']}\n",
    "\n",
    "# using a grid search to build hyper parameters to test\n",
    "grid_logreg = GridSearchCV(logreg, param_logreg, cv=10)\n",
    "grid_logreg.fit(GlassesPCs,y)\n",
    "\n",
    "# Optimal set of hyperparameters and its corresponding accuracy score\n",
    "print (\"Optimal Parameters: %s\" % grid_logreg.best_params_)\n",
    "print (\"Model Accuracy: %s\" % grid_logreg.best_score_)"
   ]
  },
  {
   "cell_type": "code",
   "execution_count": 7,
   "metadata": {},
   "outputs": [
    {
     "name": "stdout",
     "output_type": "stream",
     "text": [
      "Optimal Parameters: {'C': 0.001, 'coef0': 3, 'degree': 4, 'gamma': 'scale', 'kernel': 'poly'}\n",
      "Model Accuracy: 0.9957983193277311\n"
     ]
    }
   ],
   "source": [
    "## Classification Model 3 : SVM\n",
    "\n",
    "# build base model\n",
    "svm = SVC()\n",
    "\n",
    "# list hyperparameters of model\n",
    "param_svm = {'C': [.001, 0.01,.1,1,10,100,1000],\n",
    "             'degree':[1,2,3,4,5,6],\n",
    "         'kernel': ['linear', 'rbf', 'poly'],\n",
    "            'gamma':['auto','scale'],\n",
    "            'coef0':[0,1,2,3]}\n",
    "\n",
    "# using a grid search to build hyper parameters to test\n",
    "grid_svm = GridSearchCV(svm, param_svm, cv=10)\n",
    "grid_svm.fit(GlassesPCs,y)\n",
    "\n",
    "# Optimal set of hyperparameters and its corresponding accuracy score\n",
    "print (\"Optimal Parameters: %s\" % grid_svm.best_params_)\n",
    "print (\"Model Accuracy: %s\" % grid_svm.best_score_)"
   ]
  }
 ],
 "metadata": {
  "kernelspec": {
   "display_name": "Python 3",
   "language": "python",
   "name": "python3"
  },
  "language_info": {
   "codemirror_mode": {
    "name": "ipython",
    "version": 3
   },
   "file_extension": ".py",
   "mimetype": "text/x-python",
   "name": "python",
   "nbconvert_exporter": "python",
   "pygments_lexer": "ipython3",
   "version": "3.7.1"
  }
 },
 "nbformat": 4,
 "nbformat_minor": 2
}
