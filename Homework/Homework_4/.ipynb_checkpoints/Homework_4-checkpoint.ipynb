{
 "cells": [
  {
   "cell_type": "code",
   "execution_count": 1,
   "metadata": {},
   "outputs": [],
   "source": [
    "#1"
   ]
  },
  {
   "cell_type": "code",
   "execution_count": 2,
   "metadata": {},
   "outputs": [],
   "source": [
    "# import required libaries\n",
    "import networkx as nx\n",
    "import numpy as np\n",
    "import matplotlib.pyplot as plt\n",
    "from networkx.algorithms.community import label_propagation_communities\n",
    "from networkx.algorithms.community import girvan_newman, modularity"
   ]
  },
  {
   "cell_type": "code",
   "execution_count": 3,
   "metadata": {},
   "outputs": [],
   "source": [
    "# functions needed\n",
    "# girman-newman method, optimized with modularity\n",
    "def girvan_newman_opt(G, verbose=False):\n",
    "    runningMaxMod = 0\n",
    "    commIndSetFull = girvan_newman(G)\n",
    "    for iNumComm in range(2,len(G)):\n",
    "        if verbose:\n",
    "            print('Commnity detection iteration : %d' % iNumComm)\n",
    "        iPartition = next(commIndSetFull)  # partition with iNumComm communities\n",
    "        Q = modularity(G, iPartition)  # modularity\n",
    "        if Q>runningMaxMod:  # saving the optimum partition and associated info\n",
    "            runningMaxMod = Q\n",
    "            OptPartition = iPartition\n",
    "    return OptPartition"
   ]
  },
  {
   "cell_type": "code",
   "execution_count": 4,
   "metadata": {},
   "outputs": [
    {
     "name": "stdout",
     "output_type": "stream",
     "text": [
      "Total Network science co-authorship network nodes, n:1589\n",
      "Total Network science co-authorship network edges, m:2742\n"
     ]
    }
   ],
   "source": [
    "# import data\n",
    "G_netsci = nx.read_gml('netscience.gml')  # network science co-authorship\n",
    "\n",
    "print(\"Total Network science co-authorship network nodes, n:\",\n",
    "      len(G_netsci.nodes()), sep='')\n",
    "print(\"Total Network science co-authorship network edges, m:\",\n",
    "      len(G_netsci.edges()), sep='')"
   ]
  },
  {
   "cell_type": "code",
   "execution_count": 5,
   "metadata": {},
   "outputs": [
    {
     "name": "stdout",
     "output_type": "stream",
     "text": [
      "Giant Component of Network science co-authorship network nodes, n:379\n",
      "Giant Component of Network science co-authorship network edges, m:914\n",
      "Number of modules in Giant Component of Network science co-authorship network:18\n",
      "Modularity of Giant Component of Network science co-authorship network:0.844042825198997\n"
     ]
    }
   ],
   "source": [
    "# Extract the giant component of the network\n",
    "GC_netsci = max(nx.connected_component_subgraphs(G_netsci), key=len)\n",
    "print(\"Giant Component of Network science co-authorship network nodes, n:\",\n",
    "      len(GC_netsci.nodes()), sep='')\n",
    "print(\"Giant Component of Network science co-authorship network edges, m:\",\n",
    "      len(GC_netsci.edges()), sep='')\n",
    "# calculate number of modules\n",
    "commInd_netsci_gn = girvan_newman_opt(GC_netsci)\n",
    "print(\"Number of modules in Giant Component of Network science co-authorship network:\",\n",
    "      len(commInd_netsci_gn), sep='')\n",
    "# calculate modularity\n",
    "Q = modularity(GC_netsci, commInd_netsci_gn)\n",
    "print(\"Modularity of Giant Component of Network science co-authorship network:\",\n",
    "      Q, sep='')"
   ]
  },
  {
   "cell_type": "code",
   "execution_count": 6,
   "metadata": {},
   "outputs": [],
   "source": [
    "#extract largest module as a sub-network\n",
    "index=[]\n",
    "for listitem in commInd_netsci_gn:\n",
    "    x=0\n",
    "    for item in listitem:\n",
    "        x+=1\n",
    "    index.append(x)\n",
    "GC_netsci=G_netsci.subgraph(commInd_netsci_gn[np.argmax(index)])"
   ]
  },
  {
   "cell_type": "code",
   "execution_count": 7,
   "metadata": {},
   "outputs": [
    {
     "name": "stdout",
     "output_type": "stream",
     "text": [
      "Giant Component of Sub-Network science co-authorship network nodes, n:53\n",
      "Giant Component of Sub-Network science co-authorship network edges, m:143\n",
      "Number of modules in Giant Component of Sub-Network science co-authorship network:8\n",
      "Modularity of Giant Component of Sub-Network science co-authorship network:0.4348134383099427\n"
     ]
    }
   ],
   "source": [
    "# Extract the giant component of the sub-network\n",
    "GC_netsci_sub = max(nx.connected_component_subgraphs(GC_netsci), key=len)\n",
    "print(\"Giant Component of Sub-Network science co-authorship network nodes, n:\",\n",
    "      len(GC_netsci_sub.nodes()), sep='')\n",
    "print(\"Giant Component of Sub-Network science co-authorship network edges, m:\",\n",
    "      len(GC_netsci_sub.edges()), sep='')\n",
    "# calculate number of modules\n",
    "commInd_netsci_gn = girvan_newman_opt(GC_netsci_sub)\n",
    "print(\"Number of modules in Giant Component of Sub-Network science co-authorship network:\",\n",
    "      len(commInd_netsci_gn), sep='')\n",
    "# calculate modularity\n",
    "Q = modularity(GC_netsci_sub, commInd_netsci_gn)\n",
    "print(\"Modularity of Giant Component of Sub-Network science co-authorship network:\",\n",
    "      Q, sep='')"
   ]
  },
  {
   "cell_type": "code",
   "execution_count": 8,
   "metadata": {},
   "outputs": [],
   "source": [
    "#2"
   ]
  },
  {
   "cell_type": "code",
   "execution_count": 9,
   "metadata": {},
   "outputs": [],
   "source": [
    "# import required libaries\n",
    "import networkx as nx\n",
    "import numpy as np\n",
    "import matplotlib.pyplot as plt\n",
    "from networkx.algorithms.community import label_propagation_communities\n",
    "from networkx.algorithms.community import girvan_newman, modularity\n",
    "from sklearn.metrics import adjusted_rand_score\n",
    "import json"
   ]
  },
  {
   "cell_type": "code",
   "execution_count": 10,
   "metadata": {},
   "outputs": [],
   "source": [
    "g = nx.read_edgelist(\"email-Eu-core.txt\",create_using=nx.Graph())"
   ]
  },
  {
   "cell_type": "code",
   "execution_count": 11,
   "metadata": {},
   "outputs": [
    {
     "name": "stdout",
     "output_type": "stream",
     "text": [
      "Email network nodes, n:1005\n",
      "Email network edges, m:16706\n"
     ]
    }
   ],
   "source": [
    "print(\"Email network nodes, n:\",\n",
    "      len(g.nodes()), sep='')\n",
    "print(\"Email network edges, m:\",\n",
    "      len(g.edges()), sep='')"
   ]
  },
  {
   "cell_type": "code",
   "execution_count": 12,
   "metadata": {},
   "outputs": [
    {
     "data": {
      "image/png": "[encoded data removed]",
      "text/plain": [
       "<Figure size 432x288 with 1 Axes>"
      ]
     },
     "metadata": {
      "needs_background": "light"
     },
     "output_type": "display_data"
    }
   ],
   "source": [
    "# degree distribution, against ranks, log-log\n",
    "k = [d for n, d in g.degree()]\n",
    "sk = sorted(k, reverse=True)\n",
    "rank = np.arange(len(sk)) + 1\n",
    "plt.plot(sk,rank,'b-')\n",
    "plt.xscale('log')\n",
    "plt.yscale('log')\n",
    "plt.xlabel('Degree')\n",
    "plt.ylabel('Rank')\n",
    "plt.title('Degree distribution')\n",
    "plt.show()"
   ]
  },
  {
   "cell_type": "code",
   "execution_count": 13,
   "metadata": {},
   "outputs": [
    {
     "name": "stdout",
     "output_type": "stream",
     "text": [
      "Node             \tCloseness centrality\n",
      "160             \t0.5738\n",
      "82              \t0.5342\n",
      "121             \t0.5313\n",
      "107             \t0.5238\n",
      "62              \t0.5226\n",
      "86              \t0.5221\n",
      "434             \t0.5159\n",
      "166             \t0.5102\n",
      "249             \t0.5091\n",
      "64              \t0.5067\n",
      "\n"
     ]
    }
   ],
   "source": [
    "# closeness centrality\n",
    "Cclo = nx.closeness_centrality(g)  \n",
    "\n",
    "# sorting nodes by closeness centrality\n",
    "Cclo_node = Cclo.keys()\n",
    "Cclo_k = Cclo.values()\n",
    "sortedNodes = sorted(zip(Cclo_node, Cclo_k), \n",
    "                            key=lambda x: x[1], reverse=True)\n",
    "sCclo_node, sCclo_k = zip(*sortedNodes)\n",
    "\n",
    "print('Node             \\tCloseness centrality')\n",
    "for iNode in range(10):\n",
    "    print('%-16s\\t' % str(sCclo_node[iNode]), end='')\n",
    "    print('%6.4f' % sCclo_k[iNode])\n",
    "print()"
   ]
  },
  {
   "cell_type": "code",
   "execution_count": 61,
   "metadata": {},
   "outputs": [
    {
     "name": "stdout",
     "output_type": "stream",
     "text": [
      "Modularity of True Department Network 0.9123249424528005\n",
      "Number of Modules in True Department Network: 42\n"
     ]
    },
    {
     "ename": "TypeError",
     "evalue": "Input is not known type.",
     "output_type": "error",
     "traceback": [
      "\u001b[0;31m---------------------------------------------------------------------------\u001b[0m",
      "\u001b[0;31mAttributeError\u001b[0m                            Traceback (most recent call last)",
      "\u001b[0;32m/Applications/anaconda3/lib/python3.7/site-packages/networkx/convert.py\u001b[0m in \u001b[0;36mto_networkx_graph\u001b[0;34m(data, create_using, multigraph_input)\u001b[0m\n\u001b[1;32m     97\u001b[0m             return from_dict_of_dicts(data, create_using=create_using,\n\u001b[0;32m---> 98\u001b[0;31m                                       multigraph_input=multigraph_input)\n\u001b[0m\u001b[1;32m     99\u001b[0m         \u001b[0;32mexcept\u001b[0m\u001b[0;34m:\u001b[0m\u001b[0;34m\u001b[0m\u001b[0;34m\u001b[0m\u001b[0m\n",
      "\u001b[0;32m/Applications/anaconda3/lib/python3.7/site-packages/networkx/convert.py\u001b[0m in \u001b[0;36mfrom_dict_of_dicts\u001b[0;34m(d, create_using, multigraph_input)\u001b[0m\n\u001b[1;32m    341\u001b[0m             G.add_edges_from(((u, v, data)\n\u001b[0;32m--> 342\u001b[0;31m                               \u001b[0;32mfor\u001b[0m \u001b[0mu\u001b[0m\u001b[0;34m,\u001b[0m \u001b[0mnbrs\u001b[0m \u001b[0;32min\u001b[0m \u001b[0md\u001b[0m\u001b[0;34m.\u001b[0m\u001b[0mitems\u001b[0m\u001b[0;34m(\u001b[0m\u001b[0;34m)\u001b[0m\u001b[0;34m\u001b[0m\u001b[0;34m\u001b[0m\u001b[0m\n\u001b[0m\u001b[1;32m    343\u001b[0m                               for v, data in nbrs.items()))\n",
      "\u001b[0;32m/Applications/anaconda3/lib/python3.7/site-packages/networkx/classes/graph.py\u001b[0m in \u001b[0;36madd_edges_from\u001b[0;34m(self, ebunch_to_add, **attr)\u001b[0m\n\u001b[1;32m    942\u001b[0m         \"\"\"\n\u001b[0;32m--> 943\u001b[0;31m         \u001b[0;32mfor\u001b[0m \u001b[0me\u001b[0m \u001b[0;32min\u001b[0m \u001b[0mebunch_to_add\u001b[0m\u001b[0;34m:\u001b[0m\u001b[0;34m\u001b[0m\u001b[0;34m\u001b[0m\u001b[0m\n\u001b[0m\u001b[1;32m    944\u001b[0m             \u001b[0mne\u001b[0m \u001b[0;34m=\u001b[0m \u001b[0mlen\u001b[0m\u001b[0;34m(\u001b[0m\u001b[0me\u001b[0m\u001b[0;34m)\u001b[0m\u001b[0;34m\u001b[0m\u001b[0;34m\u001b[0m\u001b[0m\n",
      "\u001b[0;32m/Applications/anaconda3/lib/python3.7/site-packages/networkx/convert.py\u001b[0m in \u001b[0;36m<genexpr>\u001b[0;34m(.0)\u001b[0m\n\u001b[1;32m    342\u001b[0m                               \u001b[0;32mfor\u001b[0m \u001b[0mu\u001b[0m\u001b[0;34m,\u001b[0m \u001b[0mnbrs\u001b[0m \u001b[0;32min\u001b[0m \u001b[0md\u001b[0m\u001b[0;34m.\u001b[0m\u001b[0mitems\u001b[0m\u001b[0;34m(\u001b[0m\u001b[0;34m)\u001b[0m\u001b[0;34m\u001b[0m\u001b[0;34m\u001b[0m\u001b[0m\n\u001b[0;32m--> 343\u001b[0;31m                               for v, data in nbrs.items()))\n\u001b[0m\u001b[1;32m    344\u001b[0m     \u001b[0;32mreturn\u001b[0m \u001b[0mG\u001b[0m\u001b[0;34m\u001b[0m\u001b[0;34m\u001b[0m\u001b[0m\n",
      "\u001b[0;31mAttributeError\u001b[0m: 'int' object has no attribute 'items'",
      "\nDuring handling of the above exception, another exception occurred:\n",
      "\u001b[0;31mTypeError\u001b[0m                                 Traceback (most recent call last)",
      "\u001b[0;32m/Applications/anaconda3/lib/python3.7/site-packages/networkx/convert.py\u001b[0m in \u001b[0;36mto_networkx_graph\u001b[0;34m(data, create_using, multigraph_input)\u001b[0m\n\u001b[1;32m    100\u001b[0m             \u001b[0;32mtry\u001b[0m\u001b[0;34m:\u001b[0m\u001b[0;34m\u001b[0m\u001b[0;34m\u001b[0m\u001b[0m\n\u001b[0;32m--> 101\u001b[0;31m                 \u001b[0;32mreturn\u001b[0m \u001b[0mfrom_dict_of_lists\u001b[0m\u001b[0;34m(\u001b[0m\u001b[0mdata\u001b[0m\u001b[0;34m,\u001b[0m \u001b[0mcreate_using\u001b[0m\u001b[0;34m=\u001b[0m\u001b[0mcreate_using\u001b[0m\u001b[0;34m)\u001b[0m\u001b[0;34m\u001b[0m\u001b[0;34m\u001b[0m\u001b[0m\n\u001b[0m\u001b[1;32m    102\u001b[0m             \u001b[0;32mexcept\u001b[0m\u001b[0;34m:\u001b[0m\u001b[0;34m\u001b[0m\u001b[0;34m\u001b[0m\u001b[0m\n",
      "\u001b[0;32m/Applications/anaconda3/lib/python3.7/site-packages/networkx/convert.py\u001b[0m in \u001b[0;36mfrom_dict_of_lists\u001b[0;34m(d, create_using)\u001b[0m\n\u001b[1;32m    222\u001b[0m     \u001b[0;32melse\u001b[0m\u001b[0;34m:\u001b[0m\u001b[0;34m\u001b[0m\u001b[0;34m\u001b[0m\u001b[0m\n\u001b[0;32m--> 223\u001b[0;31m         G.add_edges_from(((node, nbr) for node, nbrlist in d.items()\n\u001b[0m\u001b[1;32m    224\u001b[0m                           for nbr in nbrlist))\n",
      "\u001b[0;32m/Applications/anaconda3/lib/python3.7/site-packages/networkx/classes/graph.py\u001b[0m in \u001b[0;36madd_edges_from\u001b[0;34m(self, ebunch_to_add, **attr)\u001b[0m\n\u001b[1;32m    942\u001b[0m         \"\"\"\n\u001b[0;32m--> 943\u001b[0;31m         \u001b[0;32mfor\u001b[0m \u001b[0me\u001b[0m \u001b[0;32min\u001b[0m \u001b[0mebunch_to_add\u001b[0m\u001b[0;34m:\u001b[0m\u001b[0;34m\u001b[0m\u001b[0;34m\u001b[0m\u001b[0m\n\u001b[0m\u001b[1;32m    944\u001b[0m             \u001b[0mne\u001b[0m \u001b[0;34m=\u001b[0m \u001b[0mlen\u001b[0m\u001b[0;34m(\u001b[0m\u001b[0me\u001b[0m\u001b[0;34m)\u001b[0m\u001b[0;34m\u001b[0m\u001b[0;34m\u001b[0m\u001b[0m\n",
      "\u001b[0;32m/Applications/anaconda3/lib/python3.7/site-packages/networkx/convert.py\u001b[0m in \u001b[0;36m<genexpr>\u001b[0;34m(.0)\u001b[0m\n\u001b[1;32m    223\u001b[0m         G.add_edges_from(((node, nbr) for node, nbrlist in d.items()\n\u001b[0;32m--> 224\u001b[0;31m                           for nbr in nbrlist))\n\u001b[0m\u001b[1;32m    225\u001b[0m     \u001b[0;32mreturn\u001b[0m \u001b[0mG\u001b[0m\u001b[0;34m\u001b[0m\u001b[0;34m\u001b[0m\u001b[0m\n",
      "\u001b[0;31mTypeError\u001b[0m: 'int' object is not iterable",
      "\nDuring handling of the above exception, another exception occurred:\n",
      "\u001b[0;31mTypeError\u001b[0m                                 Traceback (most recent call last)",
      "\u001b[0;32m<ipython-input-61-f184c01b66f4>\u001b[0m in \u001b[0;36m<module>\u001b[0;34m\u001b[0m\n\u001b[1;32m     16\u001b[0m \u001b[0mG_louvain\u001b[0m\u001b[0;34m=\u001b[0m\u001b[0mjson_data\u001b[0m\u001b[0;34m\u001b[0m\u001b[0;34m\u001b[0m\u001b[0m\n\u001b[1;32m     17\u001b[0m \u001b[0;34m\u001b[0m\u001b[0m\n\u001b[0;32m---> 18\u001b[0;31m \u001b[0mG_dept_pred\u001b[0m \u001b[0;34m=\u001b[0m \u001b[0mnx\u001b[0m\u001b[0;34m.\u001b[0m\u001b[0mGraph\u001b[0m\u001b[0;34m(\u001b[0m\u001b[0mG_louvain\u001b[0m\u001b[0;34m)\u001b[0m\u001b[0;34m\u001b[0m\u001b[0;34m\u001b[0m\u001b[0m\n\u001b[0m\u001b[1;32m     19\u001b[0m \u001b[0mdept_lp_pred\u001b[0m \u001b[0;34m=\u001b[0m \u001b[0mlabel_propagation_communities\u001b[0m\u001b[0;34m(\u001b[0m\u001b[0mG_dept_pred\u001b[0m\u001b[0;34m)\u001b[0m\u001b[0;34m\u001b[0m\u001b[0;34m\u001b[0m\u001b[0m\n\u001b[1;32m     20\u001b[0m \u001b[0my_pred\u001b[0m \u001b[0;34m=\u001b[0m \u001b[0;34m[\u001b[0m\u001b[0mlist\u001b[0m\u001b[0;34m(\u001b[0m\u001b[0mx\u001b[0m\u001b[0;34m)\u001b[0m \u001b[0;32mfor\u001b[0m \u001b[0mx\u001b[0m \u001b[0;32min\u001b[0m \u001b[0miter\u001b[0m\u001b[0;34m(\u001b[0m\u001b[0mdept_lp_pred\u001b[0m\u001b[0;34m)\u001b[0m\u001b[0;34m]\u001b[0m\u001b[0;34m\u001b[0m\u001b[0;34m\u001b[0m\u001b[0m\n",
      "\u001b[0;32m/Applications/anaconda3/lib/python3.7/site-packages/networkx/classes/graph.py\u001b[0m in \u001b[0;36m__init__\u001b[0;34m(self, incoming_graph_data, **attr)\u001b[0m\n\u001b[1;32m    330\u001b[0m         \u001b[0;31m# attempt to load graph with data\u001b[0m\u001b[0;34m\u001b[0m\u001b[0;34m\u001b[0m\u001b[0;34m\u001b[0m\u001b[0m\n\u001b[1;32m    331\u001b[0m         \u001b[0;32mif\u001b[0m \u001b[0mincoming_graph_data\u001b[0m \u001b[0;32mis\u001b[0m \u001b[0;32mnot\u001b[0m \u001b[0;32mNone\u001b[0m\u001b[0;34m:\u001b[0m\u001b[0;34m\u001b[0m\u001b[0;34m\u001b[0m\u001b[0m\n\u001b[0;32m--> 332\u001b[0;31m             \u001b[0mconvert\u001b[0m\u001b[0;34m.\u001b[0m\u001b[0mto_networkx_graph\u001b[0m\u001b[0;34m(\u001b[0m\u001b[0mincoming_graph_data\u001b[0m\u001b[0;34m,\u001b[0m \u001b[0mcreate_using\u001b[0m\u001b[0;34m=\u001b[0m\u001b[0mself\u001b[0m\u001b[0;34m)\u001b[0m\u001b[0;34m\u001b[0m\u001b[0;34m\u001b[0m\u001b[0m\n\u001b[0m\u001b[1;32m    333\u001b[0m         \u001b[0;31m# load graph attributes (must be after convert)\u001b[0m\u001b[0;34m\u001b[0m\u001b[0;34m\u001b[0m\u001b[0;34m\u001b[0m\u001b[0m\n\u001b[1;32m    334\u001b[0m         \u001b[0mself\u001b[0m\u001b[0;34m.\u001b[0m\u001b[0mgraph\u001b[0m\u001b[0;34m.\u001b[0m\u001b[0mupdate\u001b[0m\u001b[0;34m(\u001b[0m\u001b[0mattr\u001b[0m\u001b[0;34m)\u001b[0m\u001b[0;34m\u001b[0m\u001b[0;34m\u001b[0m\u001b[0m\n",
      "\u001b[0;32m/Applications/anaconda3/lib/python3.7/site-packages/networkx/convert.py\u001b[0m in \u001b[0;36mto_networkx_graph\u001b[0;34m(data, create_using, multigraph_input)\u001b[0m\n\u001b[1;32m    101\u001b[0m                 \u001b[0;32mreturn\u001b[0m \u001b[0mfrom_dict_of_lists\u001b[0m\u001b[0;34m(\u001b[0m\u001b[0mdata\u001b[0m\u001b[0;34m,\u001b[0m \u001b[0mcreate_using\u001b[0m\u001b[0;34m=\u001b[0m\u001b[0mcreate_using\u001b[0m\u001b[0;34m)\u001b[0m\u001b[0;34m\u001b[0m\u001b[0;34m\u001b[0m\u001b[0m\n\u001b[1;32m    102\u001b[0m             \u001b[0;32mexcept\u001b[0m\u001b[0;34m:\u001b[0m\u001b[0;34m\u001b[0m\u001b[0;34m\u001b[0m\u001b[0m\n\u001b[0;32m--> 103\u001b[0;31m                 \u001b[0;32mraise\u001b[0m \u001b[0mTypeError\u001b[0m\u001b[0;34m(\u001b[0m\u001b[0;34m\"Input is not known type.\"\u001b[0m\u001b[0;34m)\u001b[0m\u001b[0;34m\u001b[0m\u001b[0;34m\u001b[0m\u001b[0m\n\u001b[0m\u001b[1;32m    104\u001b[0m \u001b[0;34m\u001b[0m\u001b[0m\n\u001b[1;32m    105\u001b[0m     \u001b[0;31m# list or generator of edges\u001b[0m\u001b[0;34m\u001b[0m\u001b[0;34m\u001b[0m\u001b[0;34m\u001b[0m\u001b[0m\n",
      "\u001b[0;31mTypeError\u001b[0m: Input is not known type."
     ]
    }
   ],
   "source": [
    "#read the txt file\n",
    "G_dept_true = nx.read_edgelist(\"email-Eu-core-department-labels.txt\",create_using=nx.Graph())\n",
    "dept_lp_true = label_propagation_communities(G_dept_true)\n",
    "y_true = [list(x) for x in iter(dept_lp_true)]\n",
    "\n",
    "#modularity\n",
    "Q= modularity(G_dept_true,y_true)\n",
    "print('Modularity of True Department Network',Q)\n",
    "print(\"Number of Modules in True Department Network:\",len(y_true))\n",
    "\n",
    "#read json file\n",
    "#reading json file\n",
    "import json\n",
    "with open(\"EmailPartitionLouvain.json\") as json_file:\n",
    "    json_data = json.load(json_file)\n",
    "G_louvain=json_data\n",
    "\n",
    "G_dept_pred = nx.Graph(G_louvain)\n",
    "dept_lp_pred = label_propagation_communities(G_dept_pred)\n",
    "y_pred = [list(x) for x in iter(dept_lp_pred)]\n",
    "\n",
    "#modularity\n",
    "Q= modularity(G_dept_pred,y_pred)\n",
    "print('Modularity of Predicted Department Network',Q)\n",
    "print(\"Number of Modules in Predicted Department Network:\",len(y_pred))"
   ]
  },
  {
   "cell_type": "code",
   "execution_count": 57,
   "metadata": {},
   "outputs": [],
   "source": [
    "G_dept_true = G_dept_true.subgraph(g.nodes())\n",
    "G_dept_pred = G_dept_pred.subgraph(g.nodes())"
   ]
  },
  {
   "cell_type": "code",
   "execution_count": 58,
   "metadata": {},
   "outputs": [],
   "source": [
    "# generating the detected community labels & adj rand index\n",
    "\n",
    "y_true_gn = [n for n in G_dept_true.nodes()]\n",
    "      # make a node list. Then replace the node name with the true\n",
    "      # communitiy assignment.\n",
    "for j,jComm in enumerate(dept_lp_true):\n",
    "    for k in jComm:\n",
    "        y_true_gn[y_true_gn.index(k)] = j\n",
    "\n",
    "y_pred_gn = [n for n in G_dept_pred.nodes()]\n",
    "      # make a node list. Then replace the node name with the predicted\n",
    "      # communitiy assignment.\n",
    "for j,jComm in enumerate(dept_lp_pred):\n",
    "    for k in jComm:\n",
    "        y_pred_gn[y_pred_gn.index(k)] = j"
   ]
  },
  {
   "cell_type": "code",
   "execution_count": 59,
   "metadata": {},
   "outputs": [
    {
     "ename": "ValueError",
     "evalue": "labels_true and labels_pred must have same size, got 1005 and 1",
     "output_type": "error",
     "traceback": [
      "\u001b[0;31m---------------------------------------------------------------------------\u001b[0m",
      "\u001b[0;31mValueError\u001b[0m                                Traceback (most recent call last)",
      "\u001b[0;32m<ipython-input-59-457af22c21e8>\u001b[0m in \u001b[0;36m<module>\u001b[0;34m\u001b[0m\n\u001b[1;32m      1\u001b[0m \u001b[0;31m# ARI\u001b[0m\u001b[0;34m\u001b[0m\u001b[0;34m\u001b[0m\u001b[0;34m\u001b[0m\u001b[0m\n\u001b[0;32m----> 2\u001b[0;31m \u001b[0mrand_gn\u001b[0m \u001b[0;34m=\u001b[0m \u001b[0madjusted_rand_score\u001b[0m\u001b[0;34m(\u001b[0m\u001b[0my_true_gn\u001b[0m\u001b[0;34m,\u001b[0m\u001b[0my_pred_gn\u001b[0m\u001b[0;34m)\u001b[0m\u001b[0;34m\u001b[0m\u001b[0;34m\u001b[0m\u001b[0m\n\u001b[0m\u001b[1;32m      3\u001b[0m \u001b[0mprint\u001b[0m\u001b[0;34m(\u001b[0m\u001b[0;34m'ARI of Department Network'\u001b[0m\u001b[0;34m,\u001b[0m\u001b[0mrand_gn\u001b[0m\u001b[0;34m)\u001b[0m\u001b[0;34m\u001b[0m\u001b[0;34m\u001b[0m\u001b[0m\n",
      "\u001b[0;32m/Applications/anaconda3/lib/python3.7/site-packages/sklearn/metrics/cluster/supervised.py\u001b[0m in \u001b[0;36madjusted_rand_score\u001b[0;34m(labels_true, labels_pred)\u001b[0m\n\u001b[1;32m    217\u001b[0m \u001b[0;34m\u001b[0m\u001b[0m\n\u001b[1;32m    218\u001b[0m     \"\"\"\n\u001b[0;32m--> 219\u001b[0;31m     \u001b[0mlabels_true\u001b[0m\u001b[0;34m,\u001b[0m \u001b[0mlabels_pred\u001b[0m \u001b[0;34m=\u001b[0m \u001b[0mcheck_clusterings\u001b[0m\u001b[0;34m(\u001b[0m\u001b[0mlabels_true\u001b[0m\u001b[0;34m,\u001b[0m \u001b[0mlabels_pred\u001b[0m\u001b[0;34m)\u001b[0m\u001b[0;34m\u001b[0m\u001b[0;34m\u001b[0m\u001b[0m\n\u001b[0m\u001b[1;32m    220\u001b[0m     \u001b[0mn_samples\u001b[0m \u001b[0;34m=\u001b[0m \u001b[0mlabels_true\u001b[0m\u001b[0;34m.\u001b[0m\u001b[0mshape\u001b[0m\u001b[0;34m[\u001b[0m\u001b[0;36m0\u001b[0m\u001b[0;34m]\u001b[0m\u001b[0;34m\u001b[0m\u001b[0;34m\u001b[0m\u001b[0m\n\u001b[1;32m    221\u001b[0m     \u001b[0mn_classes\u001b[0m \u001b[0;34m=\u001b[0m \u001b[0mnp\u001b[0m\u001b[0;34m.\u001b[0m\u001b[0munique\u001b[0m\u001b[0;34m(\u001b[0m\u001b[0mlabels_true\u001b[0m\u001b[0;34m)\u001b[0m\u001b[0;34m.\u001b[0m\u001b[0mshape\u001b[0m\u001b[0;34m[\u001b[0m\u001b[0;36m0\u001b[0m\u001b[0;34m]\u001b[0m\u001b[0;34m\u001b[0m\u001b[0;34m\u001b[0m\u001b[0m\n",
      "\u001b[0;32m/Applications/anaconda3/lib/python3.7/site-packages/sklearn/metrics/cluster/supervised.py\u001b[0m in \u001b[0;36mcheck_clusterings\u001b[0;34m(labels_true, labels_pred)\u001b[0m\n\u001b[1;32m     58\u001b[0m         raise ValueError(\n\u001b[1;32m     59\u001b[0m             \u001b[0;34m\"labels_true and labels_pred must have same size, got %d and %d\"\u001b[0m\u001b[0;34m\u001b[0m\u001b[0;34m\u001b[0m\u001b[0m\n\u001b[0;32m---> 60\u001b[0;31m             % (labels_true.shape[0], labels_pred.shape[0]))\n\u001b[0m\u001b[1;32m     61\u001b[0m     \u001b[0;32mreturn\u001b[0m \u001b[0mlabels_true\u001b[0m\u001b[0;34m,\u001b[0m \u001b[0mlabels_pred\u001b[0m\u001b[0;34m\u001b[0m\u001b[0;34m\u001b[0m\u001b[0m\n\u001b[1;32m     62\u001b[0m \u001b[0;34m\u001b[0m\u001b[0m\n",
      "\u001b[0;31mValueError\u001b[0m: labels_true and labels_pred must have same size, got 1005 and 1"
     ]
    }
   ],
   "source": [
    "# ARI\n",
    "rand_gn = adjusted_rand_score(y_true_gn,y_pred_gn)\n",
    "print('ARI of Department Network',rand_gn)"
   ]
  },
  {
   "cell_type": "code",
   "execution_count": null,
   "metadata": {},
   "outputs": [],
   "source": []
  }
 ],
 "metadata": {
  "kernelspec": {
   "display_name": "Python 3",
   "language": "python",
   "name": "python3"
  },
  "language_info": {
   "codemirror_mode": {
    "name": "ipython",
    "version": 3
   },
   "file_extension": ".py",
   "mimetype": "text/x-python",
   "name": "python",
   "nbconvert_exporter": "python",
   "pygments_lexer": "ipython3",
   "version": "3.7.1"
  }
 },
 "nbformat": 4,
 "nbformat_minor": 2
}
