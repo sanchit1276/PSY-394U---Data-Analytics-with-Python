{
 "cells": [
  {
   "cell_type": "markdown",
   "metadata": {},
   "source": [
    "<p style=\"text-align:center\">\n",
    "PSY 394U <b>Data Analytics with Python</b>, Spring 2018\n",
    "\n",
    "\n",
    "<img style=\"width: 400px; padding: 0px;\" src=\"https://github.com/sathayas/JupyterAnalyticsSpring2018/blob/master/images/Title_pics.png?raw=true\" alt=\"title pics\"/>\n",
    "\n",
    "</p>\n",
    "\n",
    "<p style=\"text-align:center; font-size:40px; margin-bottom: 30px;\"><b> Feature selection & cross validation </b></p>\n",
    "\n",
    "<p style=\"text-align:center; font-size:18px; margin-bottom: 32px;\"><b>March 1, 2018</b></p>\n",
    "\n",
    "<hr style=\"height:5px;border:none\" />"
   ]
  },
  {
   "cell_type": "markdown",
   "metadata": {},
   "source": [
    "# 1. Feature selection\n",
    "<hr style=\"height:1px;border:none\" />\n",
    "\n",
    "We talked about the curse of dimensionality in our previous class. To get around it, we can reduce the dimensionality of the data (e.g., PCA). Anther approach is to eliminate features that are not associated with the target, and to retain only those features that likely contribute classification of a data set, the process known as **feature selection**. There are a number of approaches for feature selection. The ones I present here are based on statistical principles, and may be familiar to most of you.\n",
    "\n",
    "## Example: cryotherapy data\n",
    "\n",
    "To demonstrate feature selection, we will examine the cryotherapy data again (**`Cryotherapy.csv`**). As you recall, there are 6 features in this data set, of which two are categorical (**`Sex`** and **`Type`**) and four are continuous (**`Age`**, **`Time`**, **`NumWarts`**, and **`Area`**). Here, we load the data and separate categorical and continuous features. "
   ]
  },
  {
   "cell_type": "markdown",
   "metadata": {},
   "source": [
    "`<CryoFeatures.py>`"
   ]
  },
  {
   "cell_type": "code",
   "execution_count": 1,
   "metadata": {
    "collapsed": true
   },
   "outputs": [],
   "source": [
    "%matplotlib inline"
   ]
  },
  {
   "cell_type": "code",
   "execution_count": 1,
   "metadata": {
    "collapsed": true
   },
   "outputs": [],
   "source": [
    "import numpy as np\n",
    "import pandas as pd\n",
    "from sklearn.feature_selection import chi2, f_classif\n",
    "\n",
    "# loading the data\n",
    "CryoData = pd.read_csv('Cryotherapy.csv')\n",
    "\n",
    "# features, categorical and continuous\n",
    "xCat = CryoData[['Sex','Type']]\n",
    "xCont = CryoData[['Age','Time','NumWarts','Area']]\n",
    "y = CryoData.Success"
   ]
  },
  {
   "cell_type": "markdown",
   "metadata": {},
   "source": [
    "### Categorical features\n",
    "\n",
    "The association between a categorical feature and the target (a categorical variable) can be assessed by a $\\chi^2$ test. The function **`chi2`** in **`sklearn.feature_selection`** can perform a $\\chi^2$ test between each feature and the target. The `chi2` function requires two input parameters, the feature data array and the target labels. It returns 2 parameters; the first output parameter is an array of $\\chi^2$ test statistics and the second output parameter is an array of corresponding p-values."
   ]
  },
  {
   "cell_type": "code",
   "execution_count": 3,
   "metadata": {},
   "outputs": [
    {
     "name": "stdout",
     "output_type": "stream",
     "text": [
      "[0.73684818 0.00149219]\n"
     ]
    }
   ],
   "source": [
    "# categorical features\n",
    "chiStat, chiP = chi2(xCat,y)\n",
    "print(chiP)"
   ]
  },
  {
   "cell_type": "markdown",
   "metadata": {},
   "source": [
    "Here, you can see that the feature `Type` is highly associated with the target, but not `Sex`.\n",
    "\n",
    "### Continuous features\n",
    "\n",
    "The association between a continuous feature and the target (a categorical variable) can be assessed by an ANOVA. In particular, an ANOVA F-test examine whether there is any mean difference in the feature of interest between target classes. The function **`f_classif`** in **`sklearn.feature_selection`** can perform an ANOVA F-test between each feature and the target. The `f_classif` function requires two input parameters, the feature data array and the target labels. It returns 2 parameters; the first output parameter is an array of ANOVA F-test statistics and the second output parameter is an array of corresponding p-values.\n"
   ]
  },
  {
   "cell_type": "code",
   "execution_count": 5,
   "metadata": {},
   "outputs": [
    {
     "name": "stdout",
     "output_type": "stream",
     "text": [
      "[3.26472884e-08 2.72305388e-12 4.63372617e-01 7.45913301e-02]\n"
     ]
    }
   ],
   "source": [
    "# continuous features\n",
    "fStat, fP = f_classif(xCont,y)\n",
    "print(fP)"
   ]
  },
  {
   "cell_type": "markdown",
   "metadata": {},
   "source": [
    "So it looks like only `Age` and `Time` are significantly associated with the target."
   ]
  },
  {
   "cell_type": "markdown",
   "metadata": {},
   "source": [
    "# 2. Cross validation\n",
    "<hr style=\"height:1px;border:none\" />\n",
    "\n",
    "## What is cross validation?\n",
    "\n",
    "We have used a training data set to generate a classifier and a testing data set to evaluate the performance of the resulting classifier. But how can we be sure that the classifiation results are consistent regardless of which training and testing data sets to use? One way to verify is to generate multiple training and testing data sets and evaluate classification performance multiple times. **Cross validation** is one such approach. In a **k-fold** cross validation, the data set is divided into k equal sizes. In the first iteration, the first of the k segments is used as the testing data set, while the remaining k-1 segments are used as the training data set. In the second iteration, the second segment is used as the testing data set. And so on. Here is a schematic of 5-fold cross validation.\n",
    "\n",
    "<img style=\"width: 500px; padding: 0px;\" src=\"https://github.com/sathayas/JupyterAnalyticsSpring2018/blob/master/images/CV_5fold.png?raw=true\" alt=\"5-fold cross validation\"/>\n",
    "\n",
    "As you can see, a k-fold validation enables the classification performance evaluation k times. \n",
    "\n",
    "## Example: iris data\n",
    "\n",
    "Let's perform a 5-fold cross validation on the iris data. \n"
   ]
  },
  {
   "cell_type": "markdown",
   "metadata": {},
   "source": [
    "`<IrisCV.py>`"
   ]
  },
  {
   "cell_type": "code",
   "execution_count": 1,
   "metadata": {
    "collapsed": true
   },
   "outputs": [],
   "source": [
    "import numpy as np\n",
    "from sklearn import datasets\n",
    "from sklearn.model_selection import cross_val_score\n",
    "from sklearn.neighbors import KNeighborsClassifier\n",
    "\n",
    "\n",
    "# Loading the iris data\n",
    "iris = datasets.load_iris()\n",
    "X = iris.data[:,[0,3]]  # sepal length and petal width only\n",
    "y = iris.target"
   ]
  },
  {
   "cell_type": "markdown",
   "metadata": {},
   "source": [
    "First, we need to define a classifier object to be examined by the cross validation. Here, we use a k nearest neighbor (kNN) classifier."
   ]
  },
  {
   "cell_type": "code",
   "execution_count": 2,
   "metadata": {
    "collapsed": true
   },
   "outputs": [],
   "source": [
    "# defining the nearest neighbor classifier\n",
    "kNN = KNeighborsClassifier(5, weights='uniform')"
   ]
  },
  {
   "cell_type": "markdown",
   "metadata": {},
   "source": [
    "As for the actual cross validation, we can use the **`cross_val_score`** function in **`sklearn.model_selection`**. In `cross_val_score`, we need to provide the classifier object as an input parameter, as well as the data matrix for the features and the target variable. The number of *folds* can be specified by the parameter **`cv`**. Then `cross_val_score` splits the data into k-folds and perform a classifier analysis (building and evaluating a classifier) k times automatically. The results can be returned as the **accuracy** score. The **accuracy** is defined by the proportion of observations correctly classified, compared to all available observations. Or, in a confusion matrix, the total number of observation along the main diagonal, divided by the total number of observations in a testing data."
   ]
  },
  {
   "cell_type": "code",
   "execution_count": 4,
   "metadata": {},
   "outputs": [
    {
     "name": "stdout",
     "output_type": "stream",
     "text": [
      "[0.93333333 0.96666667 0.93333333 0.93333333 1.        ]\n",
      "0.9533333333333334\n"
     ]
    }
   ],
   "source": [
    "# 5-fold cross validation\n",
    "scores = cross_val_score(kNN, X, y, cv=5)\n",
    "print(scores)\n",
    "print(scores.mean())"
   ]
  },
  {
   "cell_type": "markdown",
   "metadata": {},
   "source": [
    "As you can see, the performance of this classifier seems consistent regardless of training & testing data. "
   ]
  },
  {
   "cell_type": "markdown",
   "metadata": {},
   "source": [
    "## Example: cryotherapy data\n",
    "\n",
    "We also perform a 5-fold cross validation on the cryotherapy data. Here, we only focus on two continuous features, namely **`Age`** and **`Time`**."
   ]
  },
  {
   "cell_type": "markdown",
   "metadata": {},
   "source": [
    "`<CryoCV.py>`"
   ]
  },
  {
   "cell_type": "code",
   "execution_count": 5,
   "metadata": {
    "collapsed": true
   },
   "outputs": [],
   "source": [
    "import numpy as np\n",
    "import pandas as pd\n",
    "from sklearn.model_selection import cross_val_score\n",
    "from sklearn.neighbors import KNeighborsClassifier\n",
    "from sklearn.preprocessing import StandardScaler\n",
    "from sklearn.pipeline import make_pipeline\n",
    "\n",
    "\n",
    "# loading the data\n",
    "CryoData = pd.read_csv('Cryotherapy.csv')\n",
    "\n",
    "# Creating the data set\n",
    "X = np.array(CryoData.loc[:,['Age','Time']])\n",
    "y = np.array(CryoData.Success)\n",
    "targetNames = ['Failure', 'Success']"
   ]
  },
  {
   "cell_type": "markdown",
   "metadata": {},
   "source": [
    "Classification on this data set is somewhat tricky because features have to be standardized before the analysis. Standardization has to occur every time after a training set is created, and must be applied to the corresponding testing data set. In order to implement this, we combine the standardization transformation object and the classifier object into a single object using the function **`make_pipeline`** under **`sklearn.pipeline`**. "
   ]
  },
  {
   "cell_type": "code",
   "execution_count": 6,
   "metadata": {
    "collapsed": true
   },
   "outputs": [],
   "source": [
    "# A pipeline of stadardization and kNN classifier\n",
    "kNN = make_pipeline(StandardScaler(), \n",
    "                    KNeighborsClassifier(15, weights='uniform'))\n",
    "\n"
   ]
  },
  {
   "cell_type": "markdown",
   "metadata": {},
   "source": [
    "Here, `StandardScalar` transformation object is defined first, followed by the kNN classifier with k=15 and **`weights='uniform`**. The resulting pipeline object can be used in the *`cross_val_score`*  under `sklearn.pipeline.`*. "
   ]
  },
  {
   "cell_type": "code",
   "execution_count": 7,
   "metadata": {},
   "outputs": [
    {
     "name": "stdout",
     "output_type": "stream",
     "text": [
      "[0.94736842 0.84210526 1.         0.82352941 0.88235294]\n"
     ]
    }
   ],
   "source": [
    "# 5-fold cross validation\n",
    "scores = cross_val_score(kNN, X, y, cv=5)\n",
    "print(scores)"
   ]
  },
  {
   "cell_type": "markdown",
   "metadata": {},
   "source": [
    "As you can see the accuracy scores differ tremendously "
   ]
  },
  {
   "cell_type": "markdown",
   "metadata": {},
   "source": [
    "### Exercise\n",
    "1. **`Seed data, cross validation`**. For this exercise, the features and target data are loaded in  **`SeedCV.py`**. Perform a 5-fold cross validation with k=15. Print out the scores resulting from this classifier. Note that the data needs to be standardized before used in a classifier. "
   ]
  },
  {
   "cell_type": "markdown",
   "metadata": {},
   "source": [
    "# 3. Choosing parameters\n",
    "<hr style=\"height:1px;border:none\" />\n",
    "\n",
    "As you have seen before, most classifiers require some sort of fine tuning of parameters to adjust for different data sets. One way to find an optimal parameter(s) is to perform cross validation with different values for the parameter, and choose the parameter that produces the best results. \n",
    "\n",
    "## Example: iris data\n",
    "\n",
    "If there is just one parameter to be adjusted, then you can write a simple program to learn a classifier with different parameter values. For example, in our iris data example,"
   ]
  },
  {
   "cell_type": "markdown",
   "metadata": {},
   "source": [
    "`<IrisGridSearchKNN.py>`"
   ]
  },
  {
   "cell_type": "code",
   "execution_count": 2,
   "metadata": {
    "collapsed": true
   },
   "outputs": [],
   "source": [
    "import numpy as np\n",
    "import matplotlib.pyplot as plt\n",
    "from sklearn import datasets\n",
    "from sklearn.model_selection import cross_val_score, GridSearchCV, train_test_split\n",
    "from sklearn.neighbors import KNeighborsClassifier\n",
    "from sklearn.metrics import confusion_matrix, classification_report\n",
    "\n",
    "# Loading the iris data\n",
    "iris = datasets.load_iris()\n",
    "X = iris.data[:,[0,3]]  # sepal length and petal width only\n",
    "y = iris.target\n",
    "feature_names = iris.feature_names\n",
    "target_names = iris.target_names"
   ]
  },
  {
   "cell_type": "markdown",
   "metadata": {},
   "source": [
    "Let's say we want to use a k nearest neighbor classifier. What is the optimal value of k for our data? We can perform cross validation with different values of k, and record the mean accuracy score for each value of k. "
   ]
  },
  {
   "cell_type": "code",
   "execution_count": 3,
   "metadata": {
    "collapsed": true
   },
   "outputs": [],
   "source": [
    "# loop over k\n",
    "meanScores = []\n",
    "for k in range(5,20,2):\n",
    "    # defining the nearest neighbor classifier\n",
    "    kNN = KNeighborsClassifier(k, weights='uniform')\n",
    "\n",
    "    # 5-fold cross validation\n",
    "    scores = cross_val_score(kNN, X, y, cv=5)\n",
    "    meanScores.append(scores.mean())"
   ]
  },
  {
   "cell_type": "markdown",
   "metadata": {},
   "source": [
    "And we can plot the mean score against k to see what value of k we should use."
   ]
  },
  {
   "cell_type": "code",
   "execution_count": 4,
   "metadata": {},
   "outputs": [
    {
     "data": {
      "image/png": "[encoded data removed]",
      "text/plain": [
       "<matplotlib.figure.Figure at 0x7f4b5417fa90>"
      ]
     },
     "metadata": {},
     "output_type": "display_data"
    }
   ],
   "source": [
    "# plotting the mean score vs k\n",
    "plt.plot(np.arange(5,20,2), meanScores, 'o-')\n",
    "plt.xlabel('k')\n",
    "plt.ylabel('Mean score')\n",
    "plt.show()"
   ]
  },
  {
   "cell_type": "markdown",
   "metadata": {},
   "source": [
    "Looks like k=7 is a good choice for this data set. You can search an optimal parameter this way.\n",
    "\n",
    "Or, there is a tool called **`GridSearchCV`** under **`sklearn.model_selection`**. It performs cross validation for different values of parameters, and pick the best one for you. To use `GridSearchCV`, first you have to define combinations of parameter values to be examined."
   ]
  },
  {
   "cell_type": "code",
   "execution_count": 10,
   "metadata": {
    "collapsed": true
   },
   "outputs": [],
   "source": [
    "# using a grid search\n",
    "param = {'n_neighbors':list(range(5,20,2)),\n",
    "         'weights':['uniform', 'distance']}"
   ]
  },
  {
   "cell_type": "markdown",
   "metadata": {},
   "source": [
    "Here, possible values of parameters are stored in a *dictionary* called **`param`**. Notice that the parameter k's actual name is **`n_neighbors`**. We also need to define any other parameters that are not the default values in a classifier. In this case, we will examine **`weights`** to be either **`'uniform'`** or **`'distance'`**, just for fun. The next step is to define the classifier object."
   ]
  },
  {
   "cell_type": "code",
   "execution_count": 6,
   "metadata": {
    "collapsed": true
   },
   "outputs": [],
   "source": [
    "kNN = KNeighborsClassifier()"
   ]
  },
  {
   "cell_type": "markdown",
   "metadata": {},
   "source": [
    "Here, we don't have to worry about the parameters set in `param`. Now we have a classifier object and the parameter dictionary, we define the grid search object **`GridSearchCV`**."
   ]
  },
  {
   "cell_type": "code",
   "execution_count": 7,
   "metadata": {},
   "outputs": [
    {
     "data": {
      "text/plain": [
       "GridSearchCV(cv=5, error_score='raise',\n",
       "       estimator=KNeighborsClassifier(algorithm='auto', leaf_size=30, metric='minkowski',\n",
       "           metric_params=None, n_jobs=1, n_neighbors=5, p=2,\n",
       "           weights='uniform'),\n",
       "       fit_params=None, iid=True, n_jobs=1,\n",
       "       param_grid={'n_neighbors': [5, 7, 9, 11, 13, 15, 17, 19], 'weights': ['uniform', 'distance']},\n",
       "       pre_dispatch='2*n_jobs', refit=True, return_train_score='warn',\n",
       "       scoring=None, verbose=0)"
      ]
     },
     "execution_count": 7,
     "metadata": {},
     "output_type": "execute_result"
    }
   ],
   "source": [
    "grid_kNN = GridSearchCV(kNN, param, cv=5)\n",
    "grid_kNN.fit(X,y)"
   ]
  },
  {
   "cell_type": "markdown",
   "metadata": {},
   "source": [
    "In the grid search object `GridSearchCV`, we need to provide the classifier object and the parameter library. You can specify the number of folds to be used in cross validation as parameter **`cv`**. Here, we try 5-fold cross validation as before. Once the grid search object `GridSearchCV` is defined, then we use the **`fit`** to learn from the features and targets. Here, we provide the entire data set. Now let's see what the winning combination of the parameters was."
   ]
  },
  {
   "cell_type": "code",
   "execution_count": 8,
   "metadata": {},
   "outputs": [
    {
     "name": "stdout",
     "output_type": "stream",
     "text": [
      "{'n_neighbors': 7, 'weights': 'uniform'}\n"
     ]
    }
   ],
   "source": [
    "print(grid_kNN.best_params_)"
   ]
  },
  {
   "cell_type": "markdown",
   "metadata": {},
   "source": [
    "So, again, k=7 seems to be the winner (and `uniform` weighting). And here is the mean accuracy score resulting from that combination."
   ]
  },
  {
   "cell_type": "code",
   "execution_count": 11,
   "metadata": {},
   "outputs": [
    {
     "name": "stdout",
     "output_type": "stream",
     "text": [
      "0.96\n"
     ]
    }
   ],
   "source": [
    "print(grid_kNN.best_score_)"
   ]
  },
  {
   "cell_type": "markdown",
   "metadata": {},
   "source": [
    "And we can check the winning combination on another testing data set.\n"
   ]
  },
  {
   "cell_type": "code",
   "execution_count": 12,
   "metadata": {},
   "outputs": [
    {
     "name": "stdout",
     "output_type": "stream",
     "text": [
      "[[24  0  0]\n",
      " [ 0 18  1]\n",
      " [ 0  3 14]]\n",
      "             precision    recall  f1-score   support\n",
      "\n",
      "     setosa       1.00      1.00      1.00        24\n",
      " versicolor       0.86      0.95      0.90        19\n",
      "  virginica       0.93      0.82      0.87        17\n",
      "\n",
      "avg / total       0.94      0.93      0.93        60\n",
      "\n"
     ]
    }
   ],
   "source": [
    "# Checking the winning combination\n",
    "X_train, X_test, y_train, y_test = train_test_split(X, y, test_size=0.4,\n",
    "                                                    random_state=2018)\n",
    "kNN = KNeighborsClassifier(7, weights='uniform')\n",
    "kNN.fit(X_train,y_train)\n",
    "y_pred = kNN.predict(X_test)\n",
    "print(confusion_matrix(y_test,y_pred))\n",
    "print(classification_report(y_test, y_pred,\n",
    "                            target_names=target_names))"
   ]
  },
  {
   "cell_type": "markdown",
   "metadata": {},
   "source": [
    "### Exercise\n",
    "1. **Iris data, parameter search for SVM**. Say, you want to use a support vector machine (SVM) classifier instead to a kNN classifier on the iris data. Determine the best combination of parameters to use with a grid search with 5-fold cross validation. These are the possible values of the parameters:\n",
    "\n",
    "  * **`C`**: `[10, 1.0, 0.1]`\n",
    "  * **`kernel`**: `['linear', 'rbf', 'poly']`\n",
    "\n",
    "  Print out the best parameter combination, and the mean score associated with that combination."
   ]
  },
  {
   "cell_type": "markdown",
   "metadata": {},
   "source": [
    "## Example: seed data\n",
    "\n",
    "As you recall that the seed data features need to be standardized before cross validation. Thus, we had to create a pipeline of standardization and a classifier. If we want to perform a grid search on classifier parameters, we need to do the same. However, since the classifier has to be run under different combinations of parameters, we have to use **`Pipeline`** function under **`sklearn.pipeline`** to construct the pipeline. "
   ]
  },
  {
   "cell_type": "markdown",
   "metadata": {},
   "source": [
    "`<SeedGridSearch.py>`"
   ]
  },
  {
   "cell_type": "code",
   "execution_count": 13,
   "metadata": {
    "collapsed": true
   },
   "outputs": [],
   "source": [
    "import numpy as np\n",
    "import pandas as pd\n",
    "from sklearn.model_selection import GridSearchCV, train_test_split\n",
    "from sklearn.svm import SVC\n",
    "from sklearn.preprocessing import StandardScaler\n",
    "from sklearn.pipeline import Pipeline\n",
    "from sklearn.metrics import confusion_matrix, classification_report\n",
    "\n",
    "\n",
    "# loading the data \n",
    "seedData = pd.read_csv('seeds_dataset.txt', sep='\\t', header=None)\n",
    "seedFeatures = np.array(seedData.iloc[:,:7])\n",
    "seedTargets = np.array(seedData.iloc[:,7]) - 1 # starting from zero\n",
    "targetNames = ['Kama','Rosa','Canadian']"
   ]
  },
  {
   "cell_type": "markdown",
   "metadata": {},
   "source": [
    "The pipeline created by the **`Pipeline`** function is a list of tuples, with each tuple containing a name you assign to a transformation object, and the object.  "
   ]
  },
  {
   "cell_type": "code",
   "execution_count": 14,
   "metadata": {
    "collapsed": true
   },
   "outputs": [],
   "source": [
    "# pipeline of transformations\n",
    "svm = Pipeline([\n",
    "    ('normalize',StandardScaler()),\n",
    "    ('classify',SVC())\n",
    "])"
   ]
  },
  {
   "cell_type": "markdown",
   "metadata": {},
   "source": [
    "And parameters need to be specified as to which steps of the pipeline they are going to be used. Do do so, the name of the parameter has to be prefixed by the step name in the pipeline (e.g., `'classify'`) and two underscores (`__`). "
   ]
  },
  {
   "cell_type": "code",
   "execution_count": 15,
   "metadata": {
    "collapsed": true
   },
   "outputs": [],
   "source": [
    "param = {'classify__C': [10,1,0.1],\n",
    "         'classify__kernel': ['rbf','poly','linear']}"
   ]
  },
  {
   "cell_type": "markdown",
   "metadata": {},
   "source": [
    "And you pass on the parameters under the **`param_grid`** parameter in the `GridSearchCV` object."
   ]
  },
  {
   "cell_type": "code",
   "execution_count": 16,
   "metadata": {},
   "outputs": [
    {
     "data": {
      "text/plain": [
       "GridSearchCV(cv=10, error_score='raise',\n",
       "       estimator=Pipeline(memory=None,\n",
       "     steps=[('normalize', StandardScaler(copy=True, with_mean=True, with_std=True)), ('classify', SVC(C=1.0, cache_size=200, class_weight=None, coef0=0.0,\n",
       "  decision_function_shape='ovr', degree=3, gamma='auto', kernel='rbf',\n",
       "  max_iter=-1, probability=False, random_state=None, shrinking=True,\n",
       "  tol=0.001, verbose=False))]),\n",
       "       fit_params=None, iid=True, n_jobs=1,\n",
       "       param_grid={'classify__kernel': ['rbf', 'poly', 'linear'], 'classify__C': [10, 1, 0.1]},\n",
       "       pre_dispatch='2*n_jobs', refit=True, return_train_score='warn',\n",
       "       scoring=None, verbose=0)"
      ]
     },
     "execution_count": 16,
     "metadata": {},
     "output_type": "execute_result"
    }
   ],
   "source": [
    "# grid search\n",
    "grid_svm = GridSearchCV(svm, param_grid=param, cv=10)\n",
    "grid_svm.fit(seedFeatures,seedTargets)"
   ]
  },
  {
   "cell_type": "markdown",
   "metadata": {},
   "source": [
    "Let's see the winning combination."
   ]
  },
  {
   "cell_type": "code",
   "execution_count": 17,
   "metadata": {},
   "outputs": [
    {
     "name": "stdout",
     "output_type": "stream",
     "text": [
      "{'classify__kernel': 'linear', 'classify__C': 10}\n",
      "0.947619047619\n"
     ]
    }
   ],
   "source": [
    "print(grid_svm.best_params_)\n",
    "print(grid_svm.best_score_)"
   ]
  },
  {
   "cell_type": "markdown",
   "metadata": {},
   "source": [
    "We can check the winning combination in another testing data set."
   ]
  },
  {
   "cell_type": "code",
   "execution_count": 18,
   "metadata": {},
   "outputs": [
    {
     "name": "stdout",
     "output_type": "stream",
     "text": [
      "[[21  1  2]\n",
      " [ 2 26  0]\n",
      " [ 0  0 18]]\n",
      "             precision    recall  f1-score   support\n",
      "\n",
      "       Kama       0.91      0.88      0.89        24\n",
      "       Rosa       0.96      0.93      0.95        28\n",
      "   Canadian       0.90      1.00      0.95        18\n",
      "\n",
      "avg / total       0.93      0.93      0.93        70\n",
      "\n"
     ]
    }
   ],
   "source": [
    "# Checking the winning combination\n",
    "X_train, X_test, y_train, y_test = train_test_split(seedFeatures,\n",
    "                                                    seedTargets, \n",
    "                                                    test_size=70, \n",
    "                                                    random_state=0)\n",
    "normTrain = StandardScaler().fit(X_train)\n",
    "X_train_norm = normTrain.transform(X_train)\n",
    "X_test_norm = normTrain.transform(X_test)\n",
    "sv = SVC(kernel='linear',C=10)\n",
    "sv.fit(X_train_norm,y_train)\n",
    "y_pred = sv.predict(X_test_norm)\n",
    "print(confusion_matrix(y_test,y_pred))\n",
    "print(classification_report(y_test, y_pred,\n",
    "                            target_names=targetNames))"
   ]
  }
 ],
 "metadata": {
  "kernelspec": {
   "display_name": "Python 3",
   "language": "python",
   "name": "python3"
  },
  "language_info": {
   "codemirror_mode": {
    "name": "ipython",
    "version": 3
   },
   "file_extension": ".py",
   "mimetype": "text/x-python",
   "name": "python",
   "nbconvert_exporter": "python",
   "pygments_lexer": "ipython3",
   "version": "3.4.5"
  }
 },
 "nbformat": 4,
 "nbformat_minor": 2
}
