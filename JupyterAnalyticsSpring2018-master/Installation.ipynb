{
 "cells": [
  {
   "cell_type": "markdown",
   "metadata": {},
   "source": [
    "<p style=\"text-align:center\">\n",
    "PSY 394U <b>Data Analytics with Python</b>, Spring 2018\n",
    "\n",
    "\n",
    "<img style=\"width: 400px; padding: 0px;\" src=\"https://github.com/sathayas/JupyterAnalyticsSpring2018/blob/master/images/Title_pics.png?raw=true\" alt=\"title pics\"/>\n",
    "\n",
    "</p>\n",
    "\n",
    "\n",
    "\n",
    "<p style=\"text-align:center; font-size:40px; margin-bottom: 32px;\"><b>Installating Python Modules</b></p>\n",
    "\n",
    "\n",
    "<hr style=\"height:5px;border:none\" />\n"
   ]
  },
  {
   "cell_type": "markdown",
   "metadata": {},
   "source": [
    "I assume that you already have your favorite Python editor and shell on your computer. I also assume that you have some Python modules (NumPy, SciPy, Matplotlib, and Pandas) already set up on your Python. I explain how to install additional tools you will need for this class."
   ]
  },
  {
   "cell_type": "markdown",
   "metadata": {},
   "source": [
    "# Git\n",
    "<hr style=\"height:1px;border:none\" />"
   ]
  },
  {
   "cell_type": "markdown",
   "metadata": {},
   "source": [
    "**Git** is a version control software tool. It lets you keep track of changes you make on your codes. Git also let you clone (or create your own copy) of codes, data, and notes available on **GitHub**, a public repository on the web. To use Git, you need the Git software installed on your computer. \n",
    "\n",
    "### Mac\n",
    "If you are a Mac user, Git is already installed on your computer as part of the Mac OS. So you don’t have to do anything.\n",
    "\n",
    "### Windows\n",
    "If you are a Windows computer user, you can download Git for free from its website (https://git-scm.com/downloads)."
   ]
  },
  {
   "cell_type": "markdown",
   "metadata": {},
   "source": [
    "# Jupyter notebook (optional, but highly recommended)\n",
    "<hr style=\"height:1px;border:none\" />"
   ]
  },
  {
   "cell_type": "markdown",
   "metadata": {},
   "source": [
    "You can edit and run Python codes inside a Jupyter notebook document. In order to open a Jupyter notebook document (`.ipynb`), you need Jupyter notebook on your computer in addition to a Python shell. To install, you need to run these commands on a Terminal (Mac) or a Command Prompt (Windows):\n",
    "```\n",
    "pip3 install --upgrade pip\n",
    "pip3 install jupyter\n",
    "```\n",
    "\n",
    "To test the installation, you can try running Jupyter notebook by following the instructions provided during the first day of the class.\n",
    "\n",
    "### Installation via Anaconda\n",
    "If you are having trouble installing Jupyter notebook by following the instructions above, then you may want to install Anaconda, an alternate distribution of Python. Jupyter notebook comes standard with Anaconda."
   ]
  },
  {
   "cell_type": "markdown",
   "metadata": {},
   "source": [
    "# Scikit-learn, networkX, and NLTK\n",
    "<hr style=\"height:1px;border:none\" />"
   ]
  },
  {
   "cell_type": "markdown",
   "metadata": {},
   "source": [
    "If you have never used any of these modules, you probably need to install these modules. To check whether you have any of these already on your computer, you can run\n",
    "```python\n",
    "import sklearn  # Scikit-learn\n",
    "import networkx # networkX\n",
    "import nltk     # NLTK\n",
    "```\n",
    "If you get an error message, then you need to install the corresponding module(s).\n",
    "\n",
    "### Mac\n",
    "\n",
    "Open the Terminal app. At the command prompt, type:\n",
    "```\n",
    "pip3 install [module name]\n",
    "```\n",
    "where `[module name]` corresponds to whichever the module you are trying to install (`sklearn`, `networkx`, or `nltk`).\n",
    "\n",
    "### Windows\n",
    "\n",
    "Open the Command Prompt. Then type the following command:\n",
    "```\n",
    "python -m pip install [module name]\n",
    "```\n",
    "Again, `[module name]` corresponds to whichever the module you are trying to install (`sklearn`, `networkx`, or `nltk`).\n",
    "\n",
    "\n",
    "### Checking installation\n",
    "\n",
    "Try importing the modules again, and see if you get an error message. If you don’t get an error message, you are ready to go!"
   ]
  }
 ],
 "metadata": {
  "kernelspec": {
   "display_name": "Python 3",
   "language": "python",
   "name": "python3"
  },
  "language_info": {
   "codemirror_mode": {
    "name": "ipython",
    "version": 3
   },
   "file_extension": ".py",
   "mimetype": "text/x-python",
   "name": "python",
   "nbconvert_exporter": "python",
   "pygments_lexer": "ipython3",
   "version": "3.5.1"
  }
 },
 "nbformat": 4,
 "nbformat_minor": 2
}
