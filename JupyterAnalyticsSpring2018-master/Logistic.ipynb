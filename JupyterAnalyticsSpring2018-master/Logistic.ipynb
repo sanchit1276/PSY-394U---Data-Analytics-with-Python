{
 "cells": [
  {
   "cell_type": "markdown",
   "metadata": {},
   "source": [
    "<p style=\"text-align:center\">\n",
    "PSY 394U <b>Data Analytics with Python</b>, Spring 2018\n",
    "\n",
    "\n",
    "<img style=\"width: 400px; padding: 0px;\" src=\"https://github.com/sathayas/JupyterAnalyticsSpring2018/blob/master/images/Title_pics.png?raw=true\" alt=\"title pics\"/>\n",
    "\n",
    "</p>\n",
    "\n",
    "<p style=\"text-align:center; font-size:40px; margin-bottom: 30px;\"><b> Logistic regression </b></p>\n",
    "\n",
    "<p style=\"text-align:center; font-size:18px; margin-bottom: 32px;\"><b>February 13, 2018</b></p>\n",
    "\n",
    "<hr style=\"height:5px;border:none\" />"
   ]
  },
  {
   "cell_type": "markdown",
   "metadata": {},
   "source": [
    "# 1. What is logistic regression?\n",
    "<hr style=\"height:1px;border:none\" />\n",
    "\n",
    "In a typical linear regression, the dependent variable $Y$ is expressed as a linear combination of independent variables $X_1$, $X_2$, ... $X_p$\n",
    "\n",
    "$$Y = \\beta_0 + \\beta_1 X_1 + \\beta_2 X_2 + \\cdots + \\beta_p X_p + \\epsilon$$\n",
    "\n",
    "Here, $\\beta$s are unknown regression coefficients to be estimated, and $\\epsilon$ is the error assumed to follow a normal distribution. This model works well if $Y$ is a continuous variable. But say if $Y$ is a binary variable, taking values either 0 or 1. In that case, the linear model above does not work well since Y is not exactly 0 or 1. \n",
    "\n",
    "The solution to modeling a binary outcome variable is to use a logistic regression. Rather than modeling $Y$ directly, it models the probability that $Y$ is 1, or $Pr(Y=1)$. A logistic regression model has the following form:\n",
    "\n",
    "$$\\log\\left(\\frac{p}{1-p}\\right) = \\beta_0 + \\beta_1 X_1 + \\beta_2 X_2 + \\cdots + \\beta_p X_p + \\epsilon$$\n",
    "\n",
    "Or\n",
    "\n",
    "$$p = \\frac{1}{1+\\exp\\left(-\\left(\\beta_0 + \\beta_1 X_1 + \\beta_2 X_2 \n",
    "                             + \\cdots + \\beta_p X_p\\right)\\right)}$$\n",
    "\n",
    "where $p=Pr(Y=1)$. The function $\\log\\left(\\frac{p}{1-p}\\right)$ is referred as a **logit** function. It converts a probability (between 0 and 1) into a real number (between $-\\infty$ and $\\infty$). With this model, the probability $p=Pr(Y=1)$ can be modeled as a function of independent variables $X$s. Here is an example of the probability $p=Pr(Y=1)$ as it relates to an independent variable $X$ in a logistic regression.\n",
    "\n",
    "<img style=\"width: 500px; padding: 0px;\" src=\"https://github.com/sathayas/JupyterAnalyticsSpring2018/blob/master/images/Logistic_LogitFunc.png?raw=true\" alt=\"Logistic function\"/>\n",
    "\n",
    "Once a logistic regression model is learned from the data (i.e., all parameters are estimates), then we can use the model as a classifier. For example, if the predicted probability $p>0.5$ then one can predict *success* (i.e., $Y=1$), whereas one can conclude *failure* (i.e., $Y=0$) when $p<0.5$.\n",
    "\n",
    "Just a side note, the quantity $\\frac{p}{1-p}$ is often referred as *odds*. This is different from *probability*. The probability of rolling 6 on a balanced die 1/6, but the odds of rolling 6 is 1/5. This is because odds is the ratio of the probability of getting 6 to the probability of not getting 6."
   ]
  },
  {
   "cell_type": "markdown",
   "metadata": {
    "collapsed": true
   },
   "source": [
    "# Example: breast cancer data\n",
    "<hr style=\"height:1px;border:none\" />\n",
    "\n",
    "You may recall the breast cancer data from the [LDA lecture](https://github.com/sathayas/JupyterAnalyticsSpring2018/blob/master/LinDisc.ipynb). The data set (see **`WiscBrCa_clean.csv`**) includes the diagnosis information (benign or malignant) on N=683 breast tumors along with some pathology features on the tumors. The goal here is to build a logistic regression classifier to predict whether a tumor is malignant based on the features. "
   ]
  },
  {
   "cell_type": "markdown",
   "metadata": {},
   "source": [
    "`<WiscBrCaLogistic.py>`"
   ]
  },
  {
   "cell_type": "code",
   "execution_count": 1,
   "metadata": {
    "collapsed": true
   },
   "outputs": [],
   "source": [
    "%matplotlib inline"
   ]
  },
  {
   "cell_type": "code",
   "execution_count": 2,
   "metadata": {
    "collapsed": true
   },
   "outputs": [],
   "source": [
    "import matplotlib.pyplot as plt\n",
    "import numpy as np\n",
    "import pandas as pd\n",
    "from sklearn.linear_model import LogisticRegression\n",
    "from sklearn.model_selection import train_test_split\n",
    "from sklearn.metrics import confusion_matrix, classification_report\n",
    "\n",
    "\n",
    "# loading the data, creating binary target\n",
    "BrCaData = pd.read_csv('WiscBrCa_clean.csv')\n",
    "BrCaData['Malignant'] = BrCaData.Class //2 -1  # Binary variable of malignancy\n",
    "                                               # 0: benign\n",
    "                                               # 1: malignant"
   ]
  },
  {
   "cell_type": "markdown",
   "metadata": {},
   "source": [
    "Now let's see if there is any difference between benign and malignant tumors, by calculating feature means for these classes."
   ]
  },
  {
   "cell_type": "code",
   "execution_count": 3,
   "metadata": {},
   "outputs": [
    {
     "name": "stdout",
     "output_type": "stream",
     "text": [
      "                     ID  ClumpThick  UniCellSize  UniCellShape  Adhesion  \\\n",
      "Malignant                                                                  \n",
      "0          1.115261e+06    2.963964     1.306306      1.414414  1.346847   \n",
      "1          1.005121e+06    7.188285     6.577406      6.560669  5.585774   \n",
      "\n",
      "           EpiCellSize   BareNuc  Chromatin  Nucleoli   Mitoses  Class  \n",
      "Malignant                                                               \n",
      "0             2.108108  1.346847   2.083333  1.261261  1.065315    2.0  \n",
      "1             5.326360  7.627615   5.974895  5.857741  2.602510    4.0  \n"
     ]
    }
   ],
   "source": [
    "# means according to malignancy\n",
    "print(BrCaData.groupby('Malignant').mean())"
   ]
  },
  {
   "cell_type": "markdown",
   "metadata": {},
   "source": [
    "As you can see, the means are substantially different in some of the features.\n",
    "\n",
    "Now let's prepare the data for logistic regression."
   ]
  },
  {
   "cell_type": "code",
   "execution_count": 4,
   "metadata": {
    "collapsed": true
   },
   "outputs": [],
   "source": [
    "# data for logistic regression\n",
    "BrCaFeatures = np.array(BrCaData.iloc[:,1:10])\n",
    "BrCaTargets = np.array(BrCaData.Malignant)\n",
    "featureNames = np.array(BrCaData.columns[1:10])\n",
    "targetNames = ['Benign','Malignant']"
   ]
  },
  {
   "cell_type": "markdown",
   "metadata": {},
   "source": [
    "And splitting the data into the training and testing data sets. The testing data contains 33% of observations. Here, I set **`random_state=0`** so that I can (and you can too!) replicate the results later. "
   ]
  },
  {
   "cell_type": "code",
   "execution_count": 5,
   "metadata": {
    "collapsed": true
   },
   "outputs": [],
   "source": [
    "# spliting the data into training and testing data sets\n",
    "X_train, X_test, y_train, y_test = train_test_split(BrCaFeatures, BrCaTargets,\n",
    "                                                    test_size=0.33, random_state=0)"
   ]
  },
  {
   "cell_type": "markdown",
   "metadata": {},
   "source": [
    "Now fitting the logistic regression model. We will use **`LogisticRegression`** object under **`sklearn.linear_model`**. Once we define a logistic regression object, then we can use the **`.fit`** method to learn from the data (*feature* and *target* info, as in LDA). "
   ]
  },
  {
   "cell_type": "code",
   "execution_count": 6,
   "metadata": {},
   "outputs": [
    {
     "data": {
      "text/plain": [
       "LogisticRegression(C=1.0, class_weight=None, dual=False, fit_intercept=True,\n",
       "          intercept_scaling=1, max_iter=100, multi_class='ovr', n_jobs=1,\n",
       "          penalty='l2', random_state=None, solver='liblinear', tol=0.0001,\n",
       "          verbose=0, warm_start=False)"
      ]
     },
     "execution_count": 6,
     "metadata": {},
     "output_type": "execute_result"
    }
   ],
   "source": [
    "# Fitting the logistic regression to the training data\n",
    "BrCaLR = LogisticRegression()\n",
    "BrCaLR.fit(X_train,y_train)"
   ]
  },
  {
   "cell_type": "markdown",
   "metadata": {},
   "source": [
    "Now, the model is fitted to the data. We can examine the resulting regression coefficients (i.e., $\\beta$s) to see which feature is contributing to outcome. Features with a large magnitude (either positive or negative) are highly associated with $Pr(Y=1)$ (in this case, a malignant tumor). \n",
    "\n",
    "If you have learned logistic regression before, you may know that, if you exponentiate a regression coefficient $\\beta$, you get an odds ratio associated with a unit increase of the feature. So, let's take a look at the odds ratios rather than regression coefficients."
   ]
  },
  {
   "cell_type": "code",
   "execution_count": 7,
   "metadata": {},
   "outputs": [
    {
     "name": "stdout",
     "output_type": "stream",
     "text": [
      "Feature    \tOdds Ratio\n",
      "ClumpThick  \t   1.134\n",
      "UniCellSize \t   1.343\n",
      "UniCellShape\t   1.102\n",
      "Adhesion    \t   1.127\n",
      "EpiCellSize \t   1.005\n",
      "BareNuc     \t   1.546\n",
      "Chromatin   \t   1.164\n",
      "Nucleoli    \t   1.327\n",
      "Mitoses     \t   1.041\n"
     ]
    }
   ],
   "source": [
    "# Printing out the odds ratios\n",
    "print('Feature    \\tOdds Ratio')\n",
    "for i,iFeature in enumerate(featureNames):\n",
    "    print('%-12s' % iFeature, end='')\n",
    "    # Odds ratio associated with each feature (unit increase)\n",
    "    print('\\t%8.3f' % np.exp(BrCaLR.coef_[0,i]))"
   ]
  },
  {
   "cell_type": "markdown",
   "metadata": {},
   "source": [
    "Here, a unit increase in **`BareNuc`** increases the odds of a malignant tumor 1.5 times. If the regression coefficient $\\beta$ is positive, that means the effect is associated with a higher odds (thus likelihood) of $Y=1$. On the other hand, a negative $\\beta$ is associated with a lower odds of $Y=1$.\n",
    "\n",
    "Just for fun, let's plot the predicted probability of $Y=1$ as well as the predicted classification ($Y=0$ or $1$). Here, we can get the predicted classification with the **`.predict`** method associated with the logistic regression object **`BrCaLR`**. we can get the predicted probability of $Y=1$ with the **`.predict_proba`** method. Both methods only require a testing data set as the input."
   ]
  },
  {
   "cell_type": "code",
   "execution_count": 8,
   "metadata": {},
   "outputs": [
    {
     "data": {
      "image/png": "[encoded data removed]",
      "text/plain": [
       "<matplotlib.figure.Figure at 0x10bdceef0>"
      ]
     },
     "metadata": {},
     "output_type": "display_data"
    }
   ],
   "source": [
    "# Classification on the testing data\n",
    "y_pred = BrCaLR.predict(X_test)\n",
    "y_prob = BrCaLR.predict_proba(X_test)\n",
    "plt.plot(y_prob[:,1],y_pred,'b.')\n",
    "plt.ylim([-0.05, 1.05])\n",
    "plt.xlabel('Predicted probability')\n",
    "plt.ylabel('Classification')\n",
    "plt.show()"
   ]
  },
  {
   "cell_type": "markdown",
   "metadata": {},
   "source": [
    "As you can see, if $Pr(Y=1)$ is greater than 0.5, then it is classified as $Y=1$.\n",
    "\n",
    "Finally, let's quantitatively examine the classifier performance."
   ]
  },
  {
   "cell_type": "code",
   "execution_count": 9,
   "metadata": {},
   "outputs": [
    {
     "name": "stdout",
     "output_type": "stream",
     "text": [
      "[[135   7]\n",
      " [ 10  74]]\n"
     ]
    }
   ],
   "source": [
    "# Confusion matrix\n",
    "print(confusion_matrix(y_test,y_pred))"
   ]
  },
  {
   "cell_type": "code",
   "execution_count": 10,
   "metadata": {},
   "outputs": [
    {
     "name": "stdout",
     "output_type": "stream",
     "text": [
      "             precision    recall  f1-score   support\n",
      "\n",
      "     Benign       0.93      0.95      0.94       142\n",
      "  Malignant       0.91      0.88      0.90        84\n",
      "\n",
      "avg / total       0.92      0.92      0.92       226\n",
      "\n"
     ]
    }
   ],
   "source": [
    "# classification report\n",
    "print(classification_report(y_test, y_pred, target_names=targetNames))"
   ]
  },
  {
   "cell_type": "markdown",
   "metadata": {
    "collapsed": true
   },
   "source": [
    "Just for a comparison, here is the classification report on the same data set, by an LDA.\n",
    "\n",
    "```\n",
    "             precision    recall  f1-score   support\n",
    "\n",
    "     Benign       0.93      0.96      0.95       142\n",
    "  Malignant       0.94      0.88      0.91        84\n",
    "\n",
    "avg / total       0.93      0.93      0.93       226\n",
    "```"
   ]
  },
  {
   "cell_type": "markdown",
   "metadata": {},
   "source": [
    "# Example: cryotherapy data\n",
    "<hr style=\"height:1px;border:none\" />\n",
    "\n",
    "This is a data set available at the [UCI Machine Learning Repository](https://archive.ics.uci.edu/ml/datasets/Cryotherapy+Dataset+). The data set (available in a CSV file **`Cryotherapy.csv`**) contains the outcomes from a cryotherapy of warts from 90 patients. These are the variables:\n",
    "\n",
    "  * **`Sex`**: Gender, 1=male, 2=female\n",
    "  * **`Age`**: Age\n",
    "  * **`Time`**: Time elapsed before treatment (months)\n",
    "  * **`NumWarts`**: Number of warts\n",
    "  * **`Type`**: Types of warts, 1=common, 2=plantar, 3=both\n",
    "  * **`Area`**: Surface area of warts (mm<sup>2</sup>)\n",
    "  * **`Success`**: Success in a cryotherapy, 1=yes, 0=no\n",
    "\n",
    "So, let's load the data set first."
   ]
  },
  {
   "cell_type": "markdown",
   "metadata": {},
   "source": [
    "`<CryoLogistic.py>`"
   ]
  },
  {
   "cell_type": "code",
   "execution_count": 2,
   "metadata": {
    "collapsed": true
   },
   "outputs": [],
   "source": [
    "import matplotlib.pyplot as plt\n",
    "import numpy as np\n",
    "import pandas as pd\n",
    "from sklearn.linear_model import LogisticRegression\n",
    "from sklearn.model_selection import train_test_split\n",
    "from sklearn.metrics import confusion_matrix, classification_report\n",
    "\n",
    "\n",
    "# loading the data\n",
    "CryoData = pd.read_csv('Cryotherapy.csv')"
   ]
  },
  {
   "cell_type": "markdown",
   "metadata": {},
   "source": [
    "See if any of the features differ between the successes and failures."
   ]
  },
  {
   "cell_type": "code",
   "execution_count": 7,
   "metadata": {},
   "outputs": [
    {
     "name": "stdout",
     "output_type": "stream",
     "text": [
      "             Sex        Age       Time  NumWarts      Type        Area\n",
      "Success                                                               \n",
      "0        1.52381  36.309524  10.035714  5.214286  2.166667  112.285714\n",
      "1        1.43750  21.854167   5.593750  5.770833  1.291667   62.687500\n"
     ]
    }
   ],
   "source": [
    "# examining the outcome vs other variables\n",
    "print(CryoData.groupby('Success').mean())"
   ]
  },
  {
   "cell_type": "markdown",
   "metadata": {},
   "source": [
    "So, some features may be highly associated with a success / failure of a cryotherapy. \n",
    "\n",
    "Before I fit a logistic regression model, some categorical features need to be converted to a collection of binary variables (a.k.a., dummy variables). This is because a unit increase or decrease in a certain feature (e.g., `Type`) does not make sense. It is common, in a regression model with a categorical predictor, to set one category as the reference category. All the other categories are identified by a collection of dummy variables, each corresponding to a particular category. For example, in our case:\n",
    "\n",
    "  * **`Female`**: Binary variable, 1=females, 0=males\n",
    "      * Here, the category *males* is used as the reference category (no dummy variable).  \n",
    "  * **`Plantar`**: Binary variable, 1=plantar, 0=otherwise\n",
    "  * **`Both`**: Binary variable, 1=both, 0=otherwise\n",
    "      * Here, the category *common* is used as the reference category (no dummy variable)."
   ]
  },
  {
   "cell_type": "code",
   "execution_count": 8,
   "metadata": {
    "collapsed": true
   },
   "outputs": [],
   "source": [
    "# creating dummy variables for categorical variables\n",
    "CryoData['Female'] = (CryoData.Sex==2).astype(int)\n",
    "CryoData['Plantar'] = (CryoData.Type==2).astype(int)\n",
    "CryoData['Both'] = (CryoData.Type==3).astype(int)\n",
    "\n",
    "# Data for logistic regression\n",
    "CryoFeatures = np.array(CryoData.loc[:,['Age', 'Time', 'NumWarts', 'Area',\n",
    "                                        'Female', 'Plantar', 'Both']])\n",
    "CryoTargets = np.array(CryoData.loc[:,'Success'])\n",
    "featureNames = ['Age', 'Time', 'NumWarts', 'Area', 'Female', 'Plantar', 'Both']\n",
    "targetNames = ['Failure','Success']"
   ]
  },
  {
   "cell_type": "markdown",
   "metadata": {},
   "source": [
    "### Exercise\n",
    "1. **Learning from the cryotherapy data**. Split the data set into the training data and testing data sets, with the testing data set including 30% of all available observations. Then fit the logistic regression model on the training data set. Print out odds ratios associated with the features used in this analysis. Which features seem to be associated with the outcome?\n",
    "2. **Classification on the cryotherapy data**. Fit the testing data set to the logistic regression model produced earlier. Produce the confusion matrix as well as the classification report. "
   ]
  },
  {
   "cell_type": "markdown",
   "metadata": {},
   "source": [
    "# Multi-class logistic regression\n",
    "<hr style=\"height:1px;border:none\" />\n",
    "\n",
    "A logistic regression model assumes that the dependent variable is binary (i.e., $Y=0$ or $Y=1$). However, you can extend logistic regression to cases where the dependent variable takes more than two classes (e.g., $Y=0$, $1$, or $2$). In that case, separate logistic regression models are fitted, with each class as the outcome of interest. In other words, if there are 3 classes of $Y$, then three logistic regression models are fitted with\n",
    "\n",
    "  * $Pr(Y=0)$\n",
    "  * $Pr(Y=1)$\n",
    "  * $Pr(Y=2)$\n",
    "\n",
    "modeled as the outcome.A logistic regression classifier then calculates the probabilities for all these possible outcomes, and chooses the one with the highest probability as the predicted outcome."
   ]
  },
  {
   "cell_type": "markdown",
   "metadata": {},
   "source": [
    "## Example: iris data\n",
    "\n",
    "As you recall, the iris data has 3 classes of the target (Setosa, Versicolor, and Virginica). We can use a logistic regression classifier to classify these classes."
   ]
  },
  {
   "cell_type": "markdown",
   "metadata": {},
   "source": [
    "`<IrisLogistic.py>`"
   ]
  },
  {
   "cell_type": "code",
   "execution_count": 2,
   "metadata": {
    "collapsed": true
   },
   "outputs": [],
   "source": [
    "import matplotlib.pyplot as plt\n",
    "import numpy as np\n",
    "import pandas as pd\n",
    "from sklearn import datasets\n",
    "from sklearn.linear_model import LogisticRegression\n",
    "from sklearn.model_selection import train_test_split\n",
    "from sklearn.metrics import confusion_matrix, classification_report\n",
    "\n",
    "\n",
    "# Loading the iris data\n",
    "iris = datasets.load_iris()\n",
    "X = iris.data\n",
    "y = iris.target\n",
    "target_names = iris.target_names"
   ]
  },
  {
   "cell_type": "markdown",
   "metadata": {},
   "source": [
    "First, let's see if any of the features are associated with target classes."
   ]
  },
  {
   "cell_type": "code",
   "execution_count": 3,
   "metadata": {},
   "outputs": [
    {
     "name": "stdout",
     "output_type": "stream",
     "text": [
      "        sepal length (cm)  sepal width (cm)  petal length (cm)  \\\n",
      "target                                                           \n",
      "0.0                 5.006             3.418              1.464   \n",
      "1.0                 5.936             2.770              4.260   \n",
      "2.0                 6.588             2.974              5.552   \n",
      "\n",
      "        petal width (cm)  \n",
      "target                    \n",
      "0.0                0.244  \n",
      "1.0                1.326  \n",
      "2.0                2.026  \n"
     ]
    }
   ],
   "source": [
    "# means according types\n",
    "irisDF = pd.DataFrame(np.hstack([X,np.array([y]).T]),\n",
    "                      columns=iris.feature_names + ['target'])\n",
    "print(irisDF.groupby('target').mean())"
   ]
  },
  {
   "cell_type": "markdown",
   "metadata": {},
   "source": [
    "As you can see, some features are different between the different classes.\n",
    "\n",
    "Now let's create a training data set and a testing data set."
   ]
  },
  {
   "cell_type": "code",
   "execution_count": 4,
   "metadata": {
    "collapsed": true
   },
   "outputs": [],
   "source": [
    "# spliting the data into training and testing data sets\n",
    "X_train, X_test, y_train, y_test = train_test_split(X, y, test_size=0.4,\n",
    "                                                    random_state=0)"
   ]
  },
  {
   "cell_type": "markdown",
   "metadata": {},
   "source": [
    "Then let's fit a logistic regression model. Notice that, the target variable has multiple classes now, but you can use in a similar way as a binary logistic regression model. "
   ]
  },
  {
   "cell_type": "code",
   "execution_count": 5,
   "metadata": {},
   "outputs": [
    {
     "data": {
      "text/plain": [
       "LogisticRegression(C=1.0, class_weight=None, dual=False, fit_intercept=True,\n",
       "          intercept_scaling=1, max_iter=100, multi_class='ovr', n_jobs=1,\n",
       "          penalty='l2', random_state=None, solver='liblinear', tol=0.0001,\n",
       "          verbose=0, warm_start=False)"
      ]
     },
     "execution_count": 5,
     "metadata": {},
     "output_type": "execute_result"
    }
   ],
   "source": [
    "# Fitting the logisic regression to the training data\n",
    "irisLR = LogisticRegression()\n",
    "irisLR.fit(X_train,y_train)"
   ]
  },
  {
   "cell_type": "markdown",
   "metadata": {},
   "source": [
    "Now, let's fit the testing data to the logistic regression classifier. "
   ]
  },
  {
   "cell_type": "code",
   "execution_count": 6,
   "metadata": {
    "collapsed": true
   },
   "outputs": [],
   "source": [
    "# Classification on the testing data\n",
    "y_pred = irisLR.predict(X_test)\n",
    "y_prob = irisLR.predict_proba(X_test)"
   ]
  },
  {
   "cell_type": "markdown",
   "metadata": {},
   "source": [
    "Here, let's plot the classification probabilities for different classes."
   ]
  },
  {
   "cell_type": "code",
   "execution_count": 7,
   "metadata": {},
   "outputs": [
    {
     "data": {
      "image/png": "[encoded data removed]",
      "text/plain": [
       "<matplotlib.figure.Figure at 0x7f9100a41320>"
      ]
     },
     "metadata": {},
     "output_type": "display_data"
    }
   ],
   "source": [
    "# plotting the probabilities for different classes \n",
    "targetColors = ['magenta', 'blue', 'green']\n",
    "obsVec = np.arange(1,len(y_prob)+1)\n",
    "plt.figure(figsize=[8,4])\n",
    "for iClass in range(3):\n",
    "    plt.plot(obsVec,y_prob[:,iClass], \n",
    "             ls='-', c=targetColors[iClass])\n",
    "    plt.plot(obsVec[y_pred==iClass],np.ones_like(obsVec[y_pred==iClass]),\n",
    "             marker = '^', ls='none', c=targetColors[iClass], \n",
    "             label=target_names[iClass])\n",
    "plt.ylim([-0.05, 1.05])\n",
    "plt.xlim([1,75])\n",
    "plt.xlabel('Observations')\n",
    "plt.ylabel('Predicted probability')\n",
    "plt.title('Predicted probabilities and classification outcome')\n",
    "plt.legend(loc=0)\n",
    "plt.show()"
   ]
  },
  {
   "cell_type": "markdown",
   "metadata": {},
   "source": [
    "Notice that the classifier outcome is the one with the highest probability.\n",
    "\n",
    "Finally, some metrics for classifier performance."
   ]
  },
  {
   "cell_type": "code",
   "execution_count": 8,
   "metadata": {},
   "outputs": [
    {
     "name": "stdout",
     "output_type": "stream",
     "text": [
      "[[16  0  0]\n",
      " [ 0 18  5]\n",
      " [ 0  0 21]]\n"
     ]
    }
   ],
   "source": [
    "# Confusion matrix\n",
    "print(confusion_matrix(y_test,y_pred))"
   ]
  },
  {
   "cell_type": "code",
   "execution_count": 9,
   "metadata": {},
   "outputs": [
    {
     "name": "stdout",
     "output_type": "stream",
     "text": [
      "             precision    recall  f1-score   support\n",
      "\n",
      "     setosa       1.00      1.00      1.00        16\n",
      " versicolor       1.00      0.78      0.88        23\n",
      "  virginica       0.81      1.00      0.89        21\n",
      "\n",
      "avg / total       0.93      0.92      0.92        60\n",
      "\n"
     ]
    }
   ],
   "source": [
    "# classification report\n",
    "print(classification_report(y_test, y_pred, target_names=target_names))"
   ]
  },
  {
   "cell_type": "markdown",
   "metadata": {},
   "source": [
    "## Example: digits data\n",
    "\n",
    "Here is another example of multi-class logistic regression classifier. This time, we examine the digits data. "
   ]
  },
  {
   "cell_type": "markdown",
   "metadata": {},
   "source": [
    "`<DigitsLogistic.py>`"
   ]
  },
  {
   "cell_type": "code",
   "execution_count": 10,
   "metadata": {
    "collapsed": true
   },
   "outputs": [],
   "source": [
    "import numpy as np\n",
    "from sklearn import datasets\n",
    "from sklearn.decomposition import PCA\n",
    "from sklearn.linear_model import LogisticRegression\n",
    "from sklearn.model_selection import train_test_split\n",
    "from sklearn.metrics import confusion_matrix, classification_report\n",
    "from sklearn.discriminant_analysis import LinearDiscriminantAnalysis\n",
    "\n",
    "\n",
    "# loading the digits data\n",
    "digits = datasets.load_digits()\n",
    "digitsX = digits.data    # the data, 1797 x 64 array\n",
    "digitsTargets = digits.target # target information\n",
    "digitsTargetNames = [str(digits.target_names[i]) \n",
    "                     for i in range(len(digits.target_names))]  # digits"
   ]
  },
  {
   "cell_type": "markdown",
   "metadata": {},
   "source": [
    "Recall there are 64 features (corresponding to 64 pixes) in this data set. Unfortunately logistic regression does not work as a dimension reduction algorithm like a linear discriminant analysis. Thus, we need to reduce the data dimension before we run logistic regression. In one of our previous classes, I determined that the data set can be reduced to a 13-dimensional space using a PCA. Then we split the PCA-transformed data into the training and testing data sets."
   ]
  },
  {
   "cell_type": "code",
   "execution_count": 11,
   "metadata": {
    "collapsed": true
   },
   "outputs": [],
   "source": [
    "# dimension reduction with PCA, with 13 PCs\n",
    "digitsPCA = PCA(n_components=13)\n",
    "digitsPCs = digitsPCA.fit_transform(digitsX)\n",
    "\n",
    "\n",
    "# spliting the data into training and testing data sets\n",
    "X_train, X_test, y_train, y_test = train_test_split(digitsPCs,\n",
    "                                                    digitsTargets, \n",
    "                                                    test_size=0.3,\n",
    "                                                    random_state=0)"
   ]
  },
  {
   "cell_type": "markdown",
   "metadata": {},
   "source": [
    "### Exercise\n",
    "1. **Digits data, logistic regression**. Fit a logistic regression model on the PCA-transformed training data set. Determine predicted class labels on the testing data. Evaluate the performance of the classifier with a confusion matrix and a classification report.\n",
    "2. **Digits data, LDA**. As a comparison, perform a linear discriminant analysis (LDA) on the PCA-transformed training data, with 2 components. Predict the class labels on the testing data. Evaluate the performance of the classifier with a confusion matrix and a classification report."
   ]
  },
  {
   "cell_type": "markdown",
   "metadata": {},
   "source": [
    "# Note on logistic regression\n",
    "<hr style=\"height:1px;border:none\" />\n",
    "\n",
    "**Strengths**:\n",
    "  * The model is easy to interpret.\n",
    "  * Regression coefficients are readily interpretable as log-odds ratios.\n",
    "  * A well-known statistical model\n",
    "  \n",
    "**Weaknesses**:\n",
    "  * The user has to decide what features go into the model\n",
    "    * An elaborate model selection scheme or a dimension reduction is necessary\n",
    "  * (Not unique to logistic regression) A categorical variable has to be converted to a collection of dummy variables."
   ]
  }
 ],
 "metadata": {
  "kernelspec": {
   "display_name": "Python 3",
   "language": "python",
   "name": "python3"
  },
  "language_info": {
   "codemirror_mode": {
    "name": "ipython",
    "version": 3
   },
   "file_extension": ".py",
   "mimetype": "text/x-python",
   "name": "python",
   "nbconvert_exporter": "python",
   "pygments_lexer": "ipython3",
   "version": "3.4.5"
  }
 },
 "nbformat": 4,
 "nbformat_minor": 2
}
