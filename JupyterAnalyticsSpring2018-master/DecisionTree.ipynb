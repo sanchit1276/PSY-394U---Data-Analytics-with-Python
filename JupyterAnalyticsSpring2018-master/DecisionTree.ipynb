{
 "cells": [
  {
   "cell_type": "markdown",
   "metadata": {},
   "source": [
    "<p style=\"text-align:center\">\n",
    "PSY 394U <b>Data Analytics with Python</b>, Spring 2018\n",
    "\n",
    "\n",
    "<img style=\"width: 400px; padding: 0px;\" src=\"https://github.com/sathayas/JupyterAnalyticsSpring2018/blob/master/images/Title_pics.png?raw=true\" alt=\"title pics\"/>\n",
    "\n",
    "</p>\n",
    "\n",
    "<p style=\"text-align:center; font-size:40px; margin-bottom: 30px;\"><b> Decision trees </b></p>\n",
    "\n",
    "<p style=\"text-align:center; font-size:18px; margin-bottom: 32px;\"><b>February 27, 2018</b></p>\n",
    "\n",
    "<hr style=\"height:5px;border:none\" />"
   ]
  },
  {
   "cell_type": "markdown",
   "metadata": {},
   "source": [
    "# 1. What is a decision tree?\n",
    "<hr style=\"height:1px;border:none\" />\n",
    "\n",
    "## Let's divide and conquer\n",
    "\n",
    "You have a data set of wild mushrooms. They are labeled as either edible or poisonous. Along with this label of toxicity, there are three other features associated with mushrooms. Here is the data in a table form.\n",
    "\n",
    "<img style=\"width: 400px; padding: 0px;\" src=\"https://github.com/sathayas/JupyterAnalyticsSpring2018/blob/master/images/Tree_MushroomData.png?raw=true\" alt=\"Mushroom data table\"/>\n",
    "\n",
    "The features are:\n",
    "\n",
    "  * **`CapSurface`**: Cap surface\n",
    "     * 0: fibrous\n",
    "     * 1: scaly\n",
    "     * 2: smooth\n",
    "  * **`CapColor`**: Cap color\n",
    "     * 0: brown\n",
    "     * 1: white\n",
    "     * 2: yellow\n",
    "  * **`GillSize`**: Gill size\n",
    "     * 0: narrow\n",
    "     * 1: wide\n",
    "\n",
    "As you can see, the features are categorical. The target is:\n",
    "   \n",
    "  * **`Edible`**: Edible or poisonous?\n",
    "     * 0: edible\n",
    "     * 1: poisonous\n",
    "\n",
    "\n",
    "Your goal is to see if any of the features can split (or classify) the observations into **edible** and **poisonous**. Let's see how each of these features can split observations into two classes.\n",
    "\n",
    "<table style=\"width: 700px\">\n",
    "  <tr>\n",
    "    <td>\n",
    "    <img style=\"width: 233px; padding: 0px;\" src=\"https://github.com/sathayas/JupyterAnalyticsSpring2018/blob/master/graphviz/Tree_CapSurface.png?raw=true\" alt=\"CapSurface\"/>\n",
    "    </td>\n",
    "    <td>\n",
    "    <img style=\"width: 233px; padding: 0px;\" src=\"https://github.com/sathayas/JupyterAnalyticsSpring2018/blob/master/graphviz/Tree_CapColor.png?raw=true\" alt=\"CapColor\"/>\n",
    "    </td>\n",
    "    <td>\n",
    "    <img style=\"width: 233px; padding: 0px;\" src=\"https://github.com/sathayas/JupyterAnalyticsSpring2018/blob/master/graphviz/Tree_GillSize.png?raw=true\" alt=\"GillSize\"/>\n",
    "    </td>\n",
    "  </tr>\n",
    "</table>\n",
    "\n",
    "Now which feature produced the best split? In order to determine that, we will use a metric called **entropy**. Here, the entropy we use is different from the entropy you learned in your physics class. **Entropy** is a measure of information content proposed by Claude Shannon in 1948. The entropy in a classification problem can be measured by how heterogeneous target classes are. For example, if there are an equal number of 0s and 1s in the target, then the entropy is high since the sample is highly heterogeneous. On the other hand, if the sample included only 0s or only 1s, then the resulting entropy is zero, since the data is homogeneous. To determine which features split the data the best, we look at whether a split resulted in reduced entropy, and if so, how much. In the example above, splitting the data based on **`GillSize`** seems to reduce the entropy the most. So we will choose to split the data by `GillSize` first. \n",
    "\n",
    "But even after splitting the data by `GillSize`, perhaps we can use another feature to split the resulting sub-sample further. So we will select another feature that reduces the entropy the most. In fact, we repeat this until the data is split into solely *edibles* or *poisonouses*. \n",
    "\n",
    "<img style=\"width: 350px; padding: 0px;\" src=\"https://github.com/sathayas/JupyterAnalyticsSpring2018/blob/master/graphviz/Tree_All.png?raw=true\" alt=\"Full decision tree\"/>\n",
    "\n",
    "The end result is known as a **decision tree**. It can be used to classify data based on how observations are split according to features. In general, a decision tree has the following form. \n",
    "\n",
    "<img style=\"width: 500px; padding: 0px;\" src=\"https://github.com/sathayas/JupyterAnalyticsSpring2018/blob/master/graphviz/SampleDecisionTree.png?raw=true\" alt=\"Sample decision tree\"/>\n",
    "\n",
    "The **root node** is the first feature used to split the data. **Decision nodes** are the subsequent splits based on other features. Finally, at **leaves** or **terminal nodes**, no further splitting takes place. Ideally a **leaf** contains only observations belonging to one target class (referred as **pure**). However, in reality, leaf nodes may contain multiple target classes. If that is the case, the majority vote in a leaf node determines the final classification of that node.\n",
    "\n",
    "\n",
    "## Decision trees: pros and cons\n",
    "\n",
    "Decision trees have some properties that are beneficial in some situations. However, there are some shortcomings as well. Here are some pros and cons of decision tree classifiers.\n",
    "\n",
    "### Pros:\n",
    "  * **Ability to handle both categorical and continuous features**. As you saw in our earlier example, a decision tree can handle categorical features. It can also handle continuous features. A continuous feature is dichotomized or binarized at a certain threshold (e.g., $X<1.75$) so that it becomes a categorical feature. The optimal threshold for dichotomization is determined so that entropy is minimized.\n",
    "  * **Interpretability**. A decision tree consists of a series of feature criteria that are intuitive and easy to understand. A decision tree can be visualized (as seen in some examples above), although it may involve additional software tools.\n",
    "  \n",
    "### Cons:\n",
    "  * **Tendency to over-fit data**. It is easy to produce a decision tree that fits the training data perfectly. However, such a tree often includes a large number of leaf nodes with one or two observations in one target class. Needless to say such a tree does not perform well as a classifier. Thus, some constraints are required when we generate a decision tree.\n",
    "  * **Biased to dominant target class**. Say there are 50 poisonous mushrooms and 1000 edible mushrooms in the mushroom data set. Then the decision tree classifier resulting from such a data set is trained to handle the edible class observations.\n",
    "  * **Impossible to find the optimal tree**. Depending on features, there are infinitely many possible decision trees constructed to handle the same data. Thus, determining the optimal tree is mathematically impossible. Decision trees we use are not the *best* solutions, but *good enough* solution to classify data.\n",
    "  * **Decision boundaries are rectangular, parallel to axes**. This is pertinent in continuous features. Since such features are dichotomized, the resulting decision boundaries are rectangular.\n",
    "\n",
    "## Drawing a decision tree\n",
    "\n",
    "Drawing a decision tree involves an external software package, and beyond the scope of this course. The interested students can read how to draw a decision tree from Scikit-learn's documentation: http://scikit-learn.org/stable/modules/tree.html#classification .\n",
    "\n"
   ]
  },
  {
   "cell_type": "markdown",
   "metadata": {
    "collapsed": true
   },
   "source": [
    "# 2. Example: iris data\n",
    "<hr style=\"height:1px;border:none\" />\n",
    "\n",
    "Let's examine the iris data using a decision tree classifier. "
   ]
  },
  {
   "cell_type": "markdown",
   "metadata": {},
   "source": [
    "`<IrisTree.py>`"
   ]
  },
  {
   "cell_type": "code",
   "execution_count": 1,
   "metadata": {
    "collapsed": true
   },
   "outputs": [],
   "source": [
    "%matplotlib inline"
   ]
  },
  {
   "cell_type": "code",
   "execution_count": 2,
   "metadata": {
    "collapsed": true
   },
   "outputs": [],
   "source": [
    "import numpy as np\n",
    "import matplotlib.pyplot as plt\n",
    "from sklearn.datasets import load_iris\n",
    "from sklearn.tree import DecisionTreeClassifier\n",
    "from sklearn.model_selection import train_test_split\n",
    "from sklearn.metrics import confusion_matrix, classification_report\n",
    "\n",
    "# Loading data\n",
    "iris = load_iris()\n",
    "X = iris.data\n",
    "y = iris.target\n",
    "feature_names = iris.feature_names\n",
    "target_names = iris.target_names"
   ]
  },
  {
   "cell_type": "markdown",
   "metadata": {},
   "source": [
    "Now let's split the data into training and testing data, with testing data comprising 40% of observations."
   ]
  },
  {
   "cell_type": "code",
   "execution_count": 3,
   "metadata": {
    "collapsed": true
   },
   "outputs": [],
   "source": [
    "# spliting the data into training and testing data sets\n",
    "X_train, X_test, y_train, y_test = train_test_split(X, y, test_size=0.4,\n",
    "                                                    random_state=2018)"
   ]
  },
  {
   "cell_type": "markdown",
   "metadata": {},
   "source": [
    "The decision tree classifier can be found as a the **`DecisionTreeClassifier`** transformation object under **`sklearn.tree`**."
   ]
  },
  {
   "cell_type": "code",
   "execution_count": 4,
   "metadata": {
    "collapsed": true
   },
   "outputs": [],
   "source": [
    "# decision tree classifier\n",
    "dt = DecisionTreeClassifier(criterion='entropy', \n",
    "                            min_samples_leaf = 3,\n",
    "                            max_depth = 4,\n",
    "                            random_state=0)"
   ]
  },
  {
   "cell_type": "markdown",
   "metadata": {},
   "source": [
    "Here, we use the parameter **`criterion='entropy'`** to denote that we want to minimize entropy. The parameters **`min_samples_leaf`** and **`max_depth`** are used to avoid over-fitting the data. **`min_samples_leaf = 3`** means that a leaf has to contain at least 3 observations. **`max_depth = 4`** means that the tree can have at most 4 levels, starting from the root all the way down to the deepest leaf. We can also define **`random_state=0`** so that we can re-create the same decision tree again. Once the `DecisionTreeClassifier` object is defined, we can use the **`.fit`** method to learn from the training data. "
   ]
  },
  {
   "cell_type": "code",
   "execution_count": 5,
   "metadata": {},
   "outputs": [
    {
     "data": {
      "text/plain": [
       "DecisionTreeClassifier(class_weight=None, criterion='entropy', max_depth=4,\n",
       "            max_features=None, max_leaf_nodes=None,\n",
       "            min_impurity_decrease=0.0, min_impurity_split=None,\n",
       "            min_samples_leaf=3, min_samples_split=2,\n",
       "            min_weight_fraction_leaf=0.0, presort=False, random_state=0,\n",
       "            splitter='best')"
      ]
     },
     "execution_count": 5,
     "metadata": {},
     "output_type": "execute_result"
    }
   ],
   "source": [
    "dt.fit(X_train,y_train)"
   ]
  },
  {
   "cell_type": "markdown",
   "metadata": {},
   "source": [
    "Now let's take a look at the classification results on the testing data. Here, we can use **`.predict`** method to generate predicted class labels."
   ]
  },
  {
   "cell_type": "code",
   "execution_count": 6,
   "metadata": {},
   "outputs": [
    {
     "name": "stdout",
     "output_type": "stream",
     "text": [
      "[[24  0  0]\n",
      " [ 0 19  0]\n",
      " [ 0  1 16]]\n",
      "             precision    recall  f1-score   support\n",
      "\n",
      "     setosa       1.00      1.00      1.00        24\n",
      " versicolor       0.95      1.00      0.97        19\n",
      "  virginica       1.00      0.94      0.97        17\n",
      "\n",
      "avg / total       0.98      0.98      0.98        60\n",
      "\n"
     ]
    }
   ],
   "source": [
    "# classification on the testing data set\n",
    "y_pred = dt.predict(X_test)\n",
    "print(confusion_matrix(y_test,y_pred))\n",
    "print(classification_report(y_test, y_pred,\n",
    "                            target_names=target_names))"
   ]
  },
  {
   "cell_type": "markdown",
   "metadata": {},
   "source": [
    "As you can see, it did a great job. For your information, here is the resulting decision tree, visualized.\n",
    "\n",
    "<img style=\"width: 500px; padding: 0px;\" src=\"https://github.com/sathayas/JupyterAnalyticsSpring2018/blob/master/graphviz/IrisDecisionTree.png?raw=true\" alt=\"Iris data decision tree\"/>\n",
    "\n",
    "Just to demonstrate the tendency for a decision tree to over-fit data, let's try the same analysis with an unconstrained decision tree."
   ]
  },
  {
   "cell_type": "code",
   "execution_count": 7,
   "metadata": {},
   "outputs": [
    {
     "name": "stdout",
     "output_type": "stream",
     "text": [
      "[[24  0  0]\n",
      " [ 0 19  0]\n",
      " [ 0  3 14]]\n",
      "             precision    recall  f1-score   support\n",
      "\n",
      "     setosa       1.00      1.00      1.00        24\n",
      " versicolor       0.86      1.00      0.93        19\n",
      "  virginica       1.00      0.82      0.90        17\n",
      "\n",
      "avg / total       0.96      0.95      0.95        60\n",
      "\n"
     ]
    }
   ],
   "source": [
    "# decision tree classifier, unconstrained\n",
    "dtUnc = DecisionTreeClassifier(criterion='entropy',\n",
    "                               random_state=0)\n",
    "dtUnc.fit(X_train,y_train)\n",
    "y_pred_unc = dtUnc.predict(X_test)\n",
    "print(confusion_matrix(y_test,y_pred_unc))\n",
    "print(classification_report(y_test, y_pred_unc,\n",
    "                            target_names=target_names))"
   ]
  },
  {
   "cell_type": "markdown",
   "metadata": {},
   "source": [
    "As you can see, the results are actually worse, possibly due to over-fitting. And here is what the unconstrained tree looks like. \n",
    "\n",
    "<img style=\"width: 600px; padding: 0px;\" src=\"https://github.com/sathayas/JupyterAnalyticsSpring2018/blob/master/graphviz/IrisDecisionTreeUnc.png?raw=true\" alt=\"Iris data decision tree, unconstrained\"/>\n",
    "\n"
   ]
  },
  {
   "cell_type": "markdown",
   "metadata": {},
   "source": [
    "An earlier classification tree indicated that the petal width and length may be the only features used to classify the data reliably. So we will re-construct the decision tree with those features only."
   ]
  },
  {
   "cell_type": "markdown",
   "metadata": {},
   "source": [
    "`<IrisTreePetalOnly.py>`"
   ]
  },
  {
   "cell_type": "code",
   "execution_count": 8,
   "metadata": {
    "collapsed": true
   },
   "outputs": [],
   "source": [
    "import numpy as np\n",
    "import matplotlib.pyplot as plt\n",
    "from sklearn.datasets import load_iris\n",
    "from sklearn.tree import DecisionTreeClassifier\n",
    "from sklearn.model_selection import train_test_split\n",
    "from sklearn.metrics import confusion_matrix, classification_report\n",
    "\n",
    "def make_meshgrid(x, y, h=.02):\n",
    "    \"\"\"Create a mesh of points to plot in\n",
    "\n",
    "    Parameters\n",
    "    ----------\n",
    "    x: data to base x-axis meshgrid on\n",
    "    y: data to base y-axis meshgrid on\n",
    "    h: stepsize for meshgrid, optional\n",
    "\n",
    "    Returns\n",
    "    -------\n",
    "    xx, yy : ndarray\n",
    "    \"\"\"\n",
    "    x_min, x_max = np.min(x,axis=0) - 1, np.max(x,axis=0) + 1\n",
    "    y_min, y_max = np.min(y,axis=0) - 1, np.max(y,axis=0) + 1\n",
    "    xx, yy = np.meshgrid(np.arange(x_min, x_max, h),\n",
    "                         np.arange(y_min, y_max, h))\n",
    "    return xx, yy\n",
    "\n",
    "\n",
    "def plot_contours(ax, clf, x, y, h=.02, **params):\n",
    "    \"\"\"Plot the decision boundaries for a classifier.\n",
    "\n",
    "    Parameters\n",
    "    ----------\n",
    "    ax: matplotlib axes object\n",
    "    clf: a classifier\n",
    "    x: data to base x-axis meshgrid on\n",
    "    y: data to base y-axis meshgrid on\n",
    "    h: stepsize for meshgrid, optional\n",
    "    params: dictionary of params to pass to contourf, optional\n",
    "    \"\"\"\n",
    "    xx, yy = make_meshgrid(x, y, h)\n",
    "    Z = clf.predict(np.c_[xx.ravel(), yy.ravel()])\n",
    "    Z = Z.reshape(xx.shape)\n",
    "    out = ax.contourf(xx, yy, Z, **params)\n",
    "    return out\n",
    "\n",
    "# Loading data\n",
    "iris = load_iris()\n",
    "X = iris.data[:,2:] # focusing on petal features only \n",
    "y = iris.target\n",
    "feature_names = iris.feature_names[2:]\n",
    "target_names = iris.target_names"
   ]
  },
  {
   "cell_type": "markdown",
   "metadata": {},
   "source": [
    "Split into the training and testing data, then fitting a decision tree classifier."
   ]
  },
  {
   "cell_type": "code",
   "execution_count": 9,
   "metadata": {},
   "outputs": [
    {
     "data": {
      "text/plain": [
       "DecisionTreeClassifier(class_weight=None, criterion='entropy', max_depth=4,\n",
       "            max_features=None, max_leaf_nodes=None,\n",
       "            min_impurity_decrease=0.0, min_impurity_split=None,\n",
       "            min_samples_leaf=3, min_samples_split=2,\n",
       "            min_weight_fraction_leaf=0.0, presort=False, random_state=0,\n",
       "            splitter='best')"
      ]
     },
     "execution_count": 9,
     "metadata": {},
     "output_type": "execute_result"
    }
   ],
   "source": [
    "# spliting the data into training and testing data sets\n",
    "X_train, X_test, y_train, y_test = train_test_split(X, y, test_size=0.4,\n",
    "                                                    random_state=2018)\n",
    "\n",
    "\n",
    "# decision tree classifier\n",
    "dt = DecisionTreeClassifier(criterion='entropy', \n",
    "                            min_samples_leaf = 3,\n",
    "                            max_depth = 4,\n",
    "                            random_state=0)\n",
    "dt.fit(X_train,y_train)"
   ]
  },
  {
   "cell_type": "markdown",
   "metadata": {},
   "source": [
    "And let's examine the decision boundaries."
   ]
  },
  {
   "cell_type": "code",
   "execution_count": 10,
   "metadata": {},
   "outputs": [
    {
     "data": {
      "image/png": "[encoded data removed]",
      "text/plain": [
       "<matplotlib.figure.Figure at 0x10ae29390>"
      ]
     },
     "metadata": {},
     "output_type": "display_data"
    }
   ],
   "source": [
    "# plotting the boundaries and the testing data\n",
    "plt.figure(figsize=[6,6])\n",
    "ax = plt.subplot(111)\n",
    "plot_contours(ax, dt, X_train[:, 0], X_train[:, 1],\n",
    "                  cmap=plt.cm.coolwarm, alpha=0.4)\n",
    "plt.scatter(X_test[:,0], X_test[:,1],\n",
    "            marker = '^', c=y_test,\n",
    "            cmap=plt.cm.coolwarm)\n",
    "plt.title('Decision boundaries\\nwith testing data')\n",
    "plt.xlabel(feature_names[0])\n",
    "plt.ylabel(feature_names[1])\n",
    "plt.show()"
   ]
  },
  {
   "cell_type": "markdown",
   "metadata": {},
   "source": [
    "Here, you can see the rectangular decision boundaries."
   ]
  },
  {
   "cell_type": "markdown",
   "metadata": {},
   "source": [
    "# 3. Example: mushroom data\n",
    "<hr style=\"height:1px;border:none\" />\n",
    "\n",
    "The mushroom data you saw earlier is actually part of a large data set of mushrooms. There are 8124 observations with 22 features. In this example, we will use all observations but focus on 3 features that pertain to the cap, namely CapShape, CapSurface, and CapColor, stored in the data file **`mushroom_cap.csv`**. "
   ]
  },
  {
   "cell_type": "markdown",
   "metadata": {},
   "source": [
    "`<MushroomCapTree.py>`"
   ]
  },
  {
   "cell_type": "code",
   "execution_count": 12,
   "metadata": {
    "collapsed": true
   },
   "outputs": [],
   "source": [
    "import numpy as np\n",
    "import pandas as pd\n",
    "from sklearn.tree import DecisionTreeClassifier\n",
    "from sklearn.preprocessing import LabelEncoder\n",
    "from sklearn.model_selection import train_test_split\n",
    "from sklearn.metrics import confusion_matrix, classification_report\n",
    "\n",
    "# loading the data\n",
    "mushroomData = pd.read_csv('mushroom_cap.csv')\n",
    "feature_names = mushroomData.columns[1:]"
   ]
  },
  {
   "cell_type": "markdown",
   "metadata": {},
   "source": [
    "Since the features in this data set are string variables, and `DecisionTreeClassifier` can only handle numerical categorical variables, we need to transform these features into numerical variables. This is done by the **`LabelEncoder()`** transformation object found in **`sklearn.preprocessing`**. This transforms a string categorical variable into numerical categorical variables. The ordering of the categories can be found by the **`classes_`** attribute of the transformation object."
   ]
  },
  {
   "cell_type": "code",
   "execution_count": 13,
   "metadata": {
    "collapsed": true
   },
   "outputs": [],
   "source": [
    "### Converting string categorical variables to numerical categorical\n",
    "\n",
    "# the target\n",
    "LEEdible = LabelEncoder()\n",
    "y = LEEdible.fit_transform(mushroomData.Edible)\n",
    "Edible_class = LEEdible.classes_\n",
    "# y=0: edible\n",
    "# y=1: poisonous\n",
    "\n",
    "# CapShape\n",
    "LECapShape = LabelEncoder()\n",
    "xCapShape = LECapShape.fit_transform(mushroomData.CapShape)\n",
    "CapShape_class = LECapShape.classes_\n",
    "# xCapShape=0: bell\n",
    "# xCapShape=1: conical\n",
    "# xCapShape=2: convex\n",
    "# xCapShape=3: flat\n",
    "# xCapShape=4: knobbed\n",
    "# xCapShape=5: sunken\n",
    "\n",
    "# CapSurface\n",
    "LECapSurface = LabelEncoder()\n",
    "xCapSurface = LECapSurface.fit_transform(mushroomData.CapSurface)\n",
    "CapSurface_class = LECapSurface.classes_\n",
    "# xCapSurface=0: fibrous\n",
    "# xCapSurface=1: grooves\n",
    "# xCapSurface=2: scaly\n",
    "# xCapSurface=3: smooth\n",
    "\n",
    "# CapColor\n",
    "LECapColor = LabelEncoder()\n",
    "xCapColor = LECapColor.fit_transform(mushroomData.CapColor)\n",
    "CapColor_class = LECapColor.classes_\n",
    "# xCapColor=0: brown\n",
    "# xCapColor=1: buff\n",
    "# xCapColor=2: cinnamon\n",
    "# xCapColor=3: gray\n",
    "# xCapColor=4: green\n",
    "# xCapColor=5: pink\n",
    "# xCapColor=6: purple\n",
    "# xCapColor=7: red\n",
    "# xCapColor=8: white\n",
    "# xCapColor=9: yellow"
   ]
  },
  {
   "cell_type": "markdown",
   "metadata": {},
   "source": [
    "### Exercise\n",
    "1. **Mushroom cap decision tree**. Split the data into the training and testing data set, with the testing data set comprising 2000 observations. Generate the decision tree classifier based on the training data set, with **`min_samples_leaf = 9`** and **`max_depth = 7`**. Examine the confusion matrix and classification report on the predicted class labels.\n",
    "2. **Field guide for foragers**. You have some friends who like to gather wild mushrooms when they hike. To keep them from being poisoned, create a table of all possible combinations of cap features (shape, surface, and color), as well as their predicted class (edible or poisonous), so that they can determine the toxicity by looking at the cap. For example, the table may say\n",
    "```\n",
    "Shape        Surface         Color       Edible\n",
    "bell         fibrous         brown       poisonous\n",
    "conical      grooves         buff        edible\n",
    "...\n",
    "```\n"
   ]
  },
  {
   "cell_type": "markdown",
   "metadata": {},
   "source": [
    "# 4. Random forest classifier\n",
    "<hr style=\"height:1px;border:none\" />\n",
    "\n",
    "As I mentioned earlier, a decision tree is a realization of infinitely many other possible decision trees to classify the same data. You can use a single tree as a classifier. Or, you can generate a bunch of decision trees to classify the data. That is the idea of a random forest classifier. If you have a collection of decision trees, then a new observation can be classified based on the majority votes on a class from the trees. In some cases, such an ensemble of classifiers may improve the classification performance. \n",
    "\n",
    "Although each tree in a random forest is a decision tree, there are some differences between a tree from a random forest and a regular decision tree.\n",
    "\n",
    "   1. **Features are selected randomly** in a random forest tree. On the other hand, features are selected optimally in a regular decision tree so that entropy is minimized the most.\n",
    "   2. **Training data consists of bootstrap samples** in the random forest algorithm. This means observations are selected randomly, with replacement, from the training data set, to generate a different training data set.\n",
    "   3. **Computationally very intensive** to generate a random forest.\n",
    "   \n",
    "A random forest classifier is implemented as the **`RandomForestClassifier`** object in **`sklearn.ensemble`**. The parameters for the `RandomForestClassifier` is similar to that of a `DecisionTreeClassifier`. Here is an example applied to the mushroom cap data we saw earlier."
   ]
  },
  {
   "cell_type": "markdown",
   "metadata": {},
   "source": [
    "`<MushroomCapRandomForest.py>`"
   ]
  },
  {
   "cell_type": "code",
   "execution_count": 2,
   "metadata": {
    "collapsed": true
   },
   "outputs": [],
   "source": [
    "import numpy as np\n",
    "import pandas as pd\n",
    "from sklearn.ensemble import RandomForestClassifier\n",
    "from sklearn.tree import DecisionTreeClassifier\n",
    "from sklearn.preprocessing import LabelEncoder\n",
    "from sklearn.model_selection import train_test_split\n",
    "from sklearn.metrics import confusion_matrix, classification_report\n",
    "\n",
    "# loading the data\n",
    "mushroomData = pd.read_csv('mushroom_cap.csv')\n",
    "feature_names = mushroomData.columns[1:]\n",
    "\n",
    "\n",
    "### Converting string categorical variables to numerical categorical\n",
    "\n",
    "# the target\n",
    "LEEdible = LabelEncoder()\n",
    "y = LEEdible.fit_transform(mushroomData.Edible)\n",
    "Edible_class = LEEdible.classes_\n",
    "# y=0: edible\n",
    "# y=1: poisonous\n",
    "\n",
    "# CapShape\n",
    "LECapShape = LabelEncoder()\n",
    "xCapShape = LECapShape.fit_transform(mushroomData.CapShape)\n",
    "CapShape_class = LECapShape.classes_\n",
    "# xCapShape=0: bell\n",
    "# xCapShape=1: conical\n",
    "# xCapShape=2: convex\n",
    "# xCapShape=3: flat\n",
    "# xCapShape=4: knobbed\n",
    "# xCapShape=5: sunken\n",
    "\n",
    "# CapSurface\n",
    "LECapSurface = LabelEncoder()\n",
    "xCapSurface = LECapSurface.fit_transform(mushroomData.CapSurface)\n",
    "CapSurface_class = LECapSurface.classes_\n",
    "# xCapSurface=0: fibrous\n",
    "# xCapSurface=1: grooves\n",
    "# xCapSurface=2: scaly\n",
    "# xCapSurface=3: smooth\n",
    "\n",
    "# CapColor\n",
    "LECapColor = LabelEncoder()\n",
    "xCapColor = LECapColor.fit_transform(mushroomData.CapColor)\n",
    "CapColor_class = LECapColor.classes_\n",
    "# xCapColor=0: brown\n",
    "# xCapColor=1: buff\n",
    "# xCapColor=2: cinnamon\n",
    "# xCapColor=3: gray\n",
    "# xCapColor=4: green\n",
    "# xCapColor=5: pink\n",
    "# xCapColor=6: purple\n",
    "# xCapColor=7: red\n",
    "# xCapColor=8: white\n",
    "# xCapColor=9: yellow\n",
    "\n",
    "\n",
    "\n",
    "# consolidating the features\n",
    "X = np.vstack([xCapShape,xCapSurface,xCapColor]).T\n",
    "\n",
    "# spliting the data into training and testing data sets\n",
    "X_train, X_test, y_train, y_test = train_test_split(X, y, test_size=2000,\n",
    "                                                    random_state=2000)\n",
    "\n",
    "# random forest classifier, training & testing\n",
    "rf = RandomForestClassifier(criterion='entropy',\n",
    "                            n_estimators = 50,\n",
    "                            min_samples_leaf = 9,\n",
    "                            max_depth = 7,\n",
    "                            random_state=0)"
   ]
  },
  {
   "cell_type": "markdown",
   "metadata": {},
   "source": [
    "One additional parameter you have to provide in a random forest classifier is **`n_estimators`**. This is the number of trees to be included in the random forest. In our example, we will go with 50."
   ]
  },
  {
   "cell_type": "code",
   "execution_count": 3,
   "metadata": {},
   "outputs": [
    {
     "name": "stdout",
     "output_type": "stream",
     "text": [
      "[[749 256]\n",
      " [329 666]]\n",
      "             precision    recall  f1-score   support\n",
      "\n",
      "     edible       0.69      0.75      0.72      1005\n",
      "  poisonous       0.72      0.67      0.69       995\n",
      "\n",
      "avg / total       0.71      0.71      0.71      2000\n",
      "\n"
     ]
    }
   ],
   "source": [
    "rf.fit(X_train,y_train)\n",
    "y_pred = rf.predict(X_test)\n",
    "print(confusion_matrix(y_test,y_pred))\n",
    "print(classification_report(y_test, y_pred,\n",
    "                            target_names=Edible_class))"
   ]
  },
  {
   "cell_type": "markdown",
   "metadata": {},
   "source": [
    "Are the results better than a regular decision tree? For a comparison, let's take a look at a decision tree on the same data."
   ]
  },
  {
   "cell_type": "code",
   "execution_count": 4,
   "metadata": {},
   "outputs": [
    {
     "name": "stdout",
     "output_type": "stream",
     "text": [
      "[[753 252]\n",
      " [331 664]]\n",
      "             precision    recall  f1-score   support\n",
      "\n",
      "     edible       0.69      0.75      0.72      1005\n",
      "  poisonous       0.72      0.67      0.69       995\n",
      "\n",
      "avg / total       0.71      0.71      0.71      2000\n",
      "\n"
     ]
    }
   ],
   "source": [
    "# For a comparision, \n",
    "# decision tree classifier, training & testing\n",
    "dt = DecisionTreeClassifier(criterion='entropy', \n",
    "                            min_samples_leaf = 9,\n",
    "                            max_depth = 7,\n",
    "                            random_state=0)\n",
    "dt.fit(X_train,y_train)\n",
    "y_pred = dt.predict(X_test)\n",
    "print(confusion_matrix(y_test,y_pred))\n",
    "print(classification_report(y_test, y_pred,\n",
    "                            target_names=Edible_class))"
   ]
  },
  {
   "cell_type": "markdown",
   "metadata": {},
   "source": [
    "So, it doesn't seem like a random forest improves the classifier performance."
   ]
  }
 ],
 "metadata": {
  "kernelspec": {
   "display_name": "Python 3",
   "language": "python",
   "name": "python3"
  },
  "language_info": {
   "codemirror_mode": {
    "name": "ipython",
    "version": 3
   },
   "file_extension": ".py",
   "mimetype": "text/x-python",
   "name": "python",
   "nbconvert_exporter": "python",
   "pygments_lexer": "ipython3",
   "version": "3.4.5"
  }
 },
 "nbformat": 4,
 "nbformat_minor": 2
}
