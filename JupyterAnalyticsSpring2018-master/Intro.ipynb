{
 "cells": [
  {
   "cell_type": "markdown",
   "metadata": {},
   "source": [
    "<p style=\"text-align:center\">\n",
    "PSY 394U <b>Data Analytics with Python</b>, Spring 2018\n",
    "\n",
    "\n",
    "<img style=\"width: 400px; padding: 0px;\" src=\"https://github.com/sathayas/JupyterAnalyticsSpring2018/blob/master/images/Title_pics.png?raw=true\" alt=\"title pics\"/>\n",
    "\n",
    "</p>\n",
    "\n",
    "<p style=\"text-align:center; font-size:40px; margin-bottom: 30px;\"><b>Overview, Tools, & Python refresher</b></p>\n",
    "\n",
    "<p style=\"text-align:center; font-size:18px; margin-bottom: 32px;\"><b>January 18, 2018</b></p>\n",
    "\n",
    "<hr style=\"height:5px;border:none\" />"
   ]
  },
  {
   "cell_type": "markdown",
   "metadata": {},
   "source": [
    "# 1. Overview\n",
    "<hr style=\"height:1px;border:none\" />\n",
    "\n",
    "We will be dealing with non-traditional data analysis techniques and data throughout the semester. Here, non-traditional is in contrast to traditional statistical approaches of inference and estimation. \n",
    "\n",
    "## Machine learning\n",
    "The goal is to ***learn*** from the data in an attempt to predict. This data-driven approach is in contrast to a traditional statistical approach in which data are assumed to originate from a certain model and/or distribution. We will use **`Scikit-learn`** to implement some algorithms. \n",
    "\n",
    "### Unsupervised learning\n",
    "You only have a collection of observations as your data, without any labels. The goal is to categorize them into groups solely based on what is available from the data.\n",
    "\n",
    "<img style=\"width: 300px; padding: 0px;\" src=\"https://github.com/sathayas/JupyterAnalyticsSpring2018/blob/master/images/Intro_UnsupervisedEg.png?raw=true\" alt=\"Clustering example\"/>\n",
    "\n",
    "### Supervised learning\n",
    "You have a collection of observations as your data, along with some outcome measures. Your goal is to come up with an algorithm to predict the outcome for a new observation. \n",
    "\n",
    "<img style=\"width: 300px; padding: 0px;\" src=\"https://github.com/sathayas/JupyterAnalyticsSpring2018/blob/master/images/Intro_SupervisedEg.png?raw=true\" alt=\"Support vector machine example\"/>\n",
    "\n",
    "\n",
    "## Network analysis\n",
    "Here, your data set describes relationships (referred as edges) among individual units (e.g., people, servers, brain areas, etc; referred as nodes). There are many things you can learn from such data. We will use functions from **`NetworkX`** to analyze network data.\n",
    "\n",
    "<img style=\"width: 300px; padding: 0px;\" src=\"https://github.com/sathayas/JupyterAnalyticsSpring2018/blob/master/images/Intro_Network.png?raw=true\" alt=\"Les Mis network\"/>\n",
    "\n",
    "<p style=\"text-align:center; font-size:10px;\">Source: http://web.madstudio.northwestern.edu/re-visualizing-the-novel/</p>\n",
    "\n",
    "\n",
    "## Text mining\n",
    "A branch of natural language processing. We can extract information from text data. We will use tools available in **`NLTK`** to extract data from texts.\n",
    "\n",
    "<img style=\"width: 250px; padding: 0px;\" src=\"https://github.com/sathayas/JupyterAnalyticsSpring2018/blob/master/images/Intro_WordTally.png?raw=true\" alt=\"Word tally chart\"/>\n",
    "\n",
    "\n",
    "\n",
    "\n"
   ]
  },
  {
   "cell_type": "markdown",
   "metadata": {
    "collapsed": true
   },
   "source": [
    "# 2. Git\n",
    "<hr style=\"height:1px;border:none\" />\n",
    "\n",
    "Example codes, data, and notes associated with this course will be available from **GitHub** repositories. You can view individual files on GitHub via the links provided. However, since there will be a large number of files associated with this course, it is a good idea to *clone* (or make a local copy) of the repositories using **Git**. Once you clone a repository, it is very easy to update your local copy with changes and additional files, as I update the GitHub repository throughout the semester. \n",
    "\n",
    "### Cloning a repository\n",
    "In order to clone a GitHub repository, *you need to have Git installed on your computer*. The installation instructions are available on Canvas. To clone a repository, you run the following command on the terminal app on Mac or the GitBASH on Windows:\n",
    "```\n",
    "git clone [URL] [Directory Name]\n",
    "```\n",
    "Where `[URL]` is the location of a GitHub repository and `[Directory Name]` is the name of the directory where the contents of the cloned repository will reside. I highly recommend cloning two repositories. One is for codes and data, the other is for notes. Here are their URLs:\n",
    "\n",
    "  * Codes & data:   https://github.com/sathayas/AnalyticsClassSpring2018\n",
    "  * Notes:          https://github.com/sathayas/JupyterAnalyticsSpring2018\n",
    "\n",
    "You should create two separate directories for these.\n",
    "\n",
    "\n",
    "### Updating a repository\n",
    "Once you clone a repository, then you can update your repository whenever I make change to the original GitHub repository (e.g., editing some codes, adding new codes or data, etc.). To do so, you need to go to the directory where you cloned the GitHub repository, and run the following command:\n",
    "```\n",
    "git pull\n",
    "```\n",
    "This should retrieve any changes and addition to your repository from the GitHub repository. \n",
    "\n",
    "\n",
    "### Overwriting local changes and updating\n",
    "\n",
    "Say, you happen to modify some codes locally on your computer, and I also modify the same codes on my GitHub repository. Then if you just simply run `git pull`, then you will likely get a warning, and your codes will not be synched with the GitHub version. One way to avoid this is to overwrite any local changes you have made before `git pull`. You need to run\n",
    "```\n",
    "git reset --hard\n",
    "git pull\n",
    "```\n",
    "Note that if you do this, any local changes will be lost.\n",
    "\n",
    "\n",
    "### More on Git\n",
    "\n",
    "If you are interested in learning more about how to use **Git**, you can refer to my tutorial note on Git and GitHub at\n",
    "\n",
    "      https://github.com/sathayas/JupyterPythonFall2017/blob/master/Git.ipynb\n",
    "\n",
    "There are many other tricks associated with Git (e.g., forking). I will leave that to Git's documentation at \n",
    "\n",
    "      https://git-scm.com/doc"
   ]
  },
  {
   "cell_type": "markdown",
   "metadata": {},
   "source": [
    "# 3. Jupyter notebook\n",
    "<hr style=\"height:1px;border:none\" />\n",
    "\n",
    "## What is Jupyter notebook?\n",
    "\n",
    "A Jupyter notebook document is an interactive document that lets you run Python right there in your document. It is an ideal setting for teaching and learning how to code. You may have noticed that course notes posted on Canvas are links to Jupyter notebook documents (**`.ipynb`**) stored on GitHub. You can still view my notes on your web browser, but if you open my note on Jupyter notebook, then you can actually run code snippets on your computer.\n",
    "\n",
    "To use Jupyter notebook, you need to install Jupyter notebook on your computer, in addition to Python. The installation instructions can be found the in the installation documentation available on Canvas.\n",
    "\n",
    "## How to work with a Jupyter notebook document\n",
    "\n",
    "### Starting up\n",
    "To start out a Jupyter notebook, you open a Terminal (Mac) or Command Prompt (Windows) app. Then type in the command:\n",
    "\n",
    "```\n",
    "jupyter notebook\n",
    "```\n",
    "\n",
    "This should open up a web browser, and it should look like this:\n",
    "\n",
    "<img src=\"https://github.com/sathayas/JupyterPythonFall2017/blob/master/images/Jupyter_StartUp.png?raw=true\" alt=\"Starting up Jupyter notebook\" style=\"width: 500px;\"/>\n",
    "\n",
    "Using the file browser within your web browser, find a Jupyter notebook document. It should look something like this:\n",
    "\n",
    "<img src=\"https://github.com/sathayas/JupyterPythonFall2017/blob/master/images/Jupyter_Notebook.png?raw=true\" alt=\"An example of Jupyter notebook\" style=\"width: 500px;\"/>\n",
    "\n",
    "### Code cells\n",
    "Within a notebook document, there are some codes that can be executed on the spot. You simply find the code snippet, a box with **`In [ ]:`** on the left margin.\n",
    "\n",
    "<img src=\"https://github.com/sathayas/JupyterPythonFall2017/blob/master/images/Jupyter_CodeCell.png?raw=true\" alt=\"Code cell\" style=\"width: 800px;\"/>\n",
    "\n",
    "You can click on this **cell** to select. If you happen to click on the text area, then you will see the cell selected with a *green* border.\n",
    "\n",
    "<img src=\"https://github.com/sathayas/JupyterPythonFall2017/blob/master/images/Jupyter_CodeCellGreen.png?raw=true\" alt=\"Selected code cell (green)\" width=\"800\">\n",
    "\n",
    "Or if you happen to click anywhere else on the cell, the you will see the cell with a *blue* border.\n",
    "\n",
    "<img src=\"https://github.com/sathayas/JupyterPythonFall2017/blob/master/images/Jupyter_CodeCellBlue.png?raw=true\" alt=\"Selected code cell (blue)\" width=\"800\">\n",
    "\n",
    "### Running a code cell\n",
    "Once the cell is selected (blue or green), you can run that code by pressing the run button \n",
    "\n",
    "<img src=\"https://github.com/sathayas/JupyterPythonFall2017/blob/master/images/Jupyter_PlayButton.png?raw=true\" alt=\"Run button\" width=\"30\">\n",
    "\n",
    "within the browser window on the top. Then the code is executed, and the output is produced. You can see the output immediately below the code cell. \n",
    "\n",
    "<img \n",
    "src=\"https://github.com/sathayas/JupyterPythonFall2017/blob/master/images/Jupyter_Output.png?raw=true\" alt=\"Output example\" width=\"800\">\n",
    "\n",
    "Try it for yourself!"
   ]
  },
  {
   "cell_type": "code",
   "execution_count": null,
   "metadata": {
    "collapsed": true
   },
   "outputs": [],
   "source": [
    "print(\"Hello World!\")\n",
    "yourname = '???????'  # Replace with your name\n",
    "print(\"Hello, \" + yourname + \"!!\")"
   ]
  },
  {
   "cell_type": "markdown",
   "metadata": {},
   "source": [
    "### Editing and re-running a code cell\n",
    "You can edit and re-run the code within the notebook as well. Just click on the text of the code cell (so that it's green) and make an edit. \n",
    "\n",
    "<img \n",
    "src=\"https://github.com/sathayas/JupyterPythonFall2017/blob/master/images/Jupyter_EditCell.png?raw=true\" alt=\"Edit the code cell\" width=\"800\">\n",
    "\n",
    "Here, I am changing the variable **`yourname`** from **`Satoru`** to **`Hayasaka`**. Then I can just re-run the code by clicking on the run button again.\n",
    "\n",
    "<img \n",
    "src=\"https://github.com/sathayas/JupyterPythonFall2017/blob/master/images/Jupyter_RerunCell.png?raw=true\" alt=\"Output from a modified code\" width=\"800\">\n",
    "\n",
    "Jupyter notebook by default auto-saves any edits frequently. You can also click on the Save button to save any changes made to your Jupyter notebook.\n",
    "\n",
    "### Closing a Jupyter notebook\n",
    "When you are done with a Jupyter notebook, there are multiple ways to **close** it. This is the way I do it:\n",
    "\n",
    "  1. Go to Terminal or Command Prompt, and press CTRL-C.\n",
    "  2. When asked to shutdown the notebook server, answer **`y`**.\n",
    "  3. You should see a message saying that the kernel is dead. You just click on **Don't Restart** at that point. \n",
    "  4. Close the browser window associated with the Jupyter notebook.\n",
    "  5. If you do not see a prompt in the Terminal or Command Prompt window, press CTRL-C one more time."
   ]
  },
  {
   "cell_type": "markdown",
   "metadata": {},
   "source": [
    "# 4. Python refresher\n",
    "<hr style=\"height:1px;border:none\" />\n",
    "\n",
    "*For those using Jupyter Notebook, please run this line of code so that any plots generated during the class will be visible in your notebook document.*"
   ]
  },
  {
   "cell_type": "code",
   "execution_count": null,
   "metadata": {
    "collapsed": true
   },
   "outputs": [],
   "source": [
    "%matplotlib inline"
   ]
  },
  {
   "cell_type": "markdown",
   "metadata": {},
   "source": [
    "## Reading a data frame\n",
    "The file **`co-est2016-alldata.csv`**, available on GitHub, contains the estimated population of the past 5 years of all counties in 50 states and the District of Columbia. Let's read this file as a data frame using Pandas."
   ]
  },
  {
   "cell_type": "markdown",
   "metadata": {},
   "source": [
    "`<ReadCensusData.py>`"
   ]
  },
  {
   "cell_type": "code",
   "execution_count": null,
   "metadata": {
    "collapsed": true
   },
   "outputs": [],
   "source": [
    "import numpy as np\n",
    "import pandas as pd\n",
    "import matplotlib.pyplot as plt\n",
    "\n",
    "# loading the county-level census data\n",
    "ctyData = pd.read_csv('co-est2016-alldata.csv',\n",
    "                      encoding = 'iso-8859-1')"
   ]
  },
  {
   "cell_type": "markdown",
   "metadata": {},
   "source": [
    "In each state, variable **`COUNTY==0`** indicates the state total (i.e., the total of all counties in that state). So we create another data frame with the state totals only."
   ]
  },
  {
   "cell_type": "code",
   "execution_count": null,
   "metadata": {
    "collapsed": true
   },
   "outputs": [],
   "source": [
    "# Focusing on state totals (COUNTY==0)\n",
    "stateData = ctyData[ctyData.COUNTY==0].copy()"
   ]
  },
  {
   "cell_type": "markdown",
   "metadata": {},
   "source": [
    "At this point, we sort states according to their population, in the descending order."
   ]
  },
  {
   "cell_type": "code",
   "execution_count": null,
   "metadata": {
    "collapsed": true
   },
   "outputs": [],
   "source": [
    "# Sorting states in the order of population\n",
    "stateData.sort_values(by='CENSUS2010POP',\n",
    "                      ascending=False, inplace=True)"
   ]
  },
  {
   "cell_type": "markdown",
   "metadata": {},
   "source": [
    "Finally printing out states and their population."
   ]
  },
  {
   "cell_type": "code",
   "execution_count": null,
   "metadata": {
    "collapsed": true
   },
   "outputs": [],
   "source": [
    "# printing out total population by state\n",
    "stateNames = np.array(stateData.STNAME)\n",
    "statePop = np.array(stateData.CENSUS2010POP)\n",
    "print('State\\t\\t\\tPopulation')\n",
    "for i,iState in enumerate(stateNames):\n",
    "    print('%-20s' % iState + '\\t%10d' % statePop[i])\n"
   ]
  },
  {
   "cell_type": "markdown",
   "metadata": {},
   "source": [
    "## More on NumPy arrays"
   ]
  },
  {
   "cell_type": "markdown",
   "metadata": {},
   "source": [
    "The file **`LandAreaByState.npz`** is a NumPy data file containing two arrays: **`State`** (name of states) and **`LandArea`** (land area of states). Let's start out by reading in the file. "
   ]
  },
  {
   "cell_type": "code",
   "execution_count": null,
   "metadata": {
    "collapsed": true
   },
   "outputs": [],
   "source": [
    "# loading the data on state land area\n",
    "npzData = np.load('LandAreaByState.npz')\n",
    "State = npzData['State']\n",
    "LandArea = npzData['LandArea']"
   ]
  },
  {
   "cell_type": "markdown",
   "metadata": {},
   "source": [
    "You can examine the content of the file by"
   ]
  },
  {
   "cell_type": "code",
   "execution_count": null,
   "metadata": {
    "collapsed": true
   },
   "outputs": [],
   "source": [
    "npzData.items()"
   ]
  },
  {
   "cell_type": "markdown",
   "metadata": {},
   "source": [
    "The order of the states in this file is different from that of the data frame we created earlier. So we create another array of the population in the same order as `LandArea`.  "
   ]
  },
  {
   "cell_type": "code",
   "execution_count": null,
   "metadata": {
    "collapsed": true
   },
   "outputs": [],
   "source": [
    "# population data in the same order as the land area data\n",
    "Population = np.array([])\n",
    "for iState in State:\n",
    "    Population = np.append(Population, statePop[stateNames==iState])"
   ]
  },
  {
   "cell_type": "markdown",
   "metadata": {},
   "source": [
    "Then we just plot the area against the population."
   ]
  },
  {
   "cell_type": "code",
   "execution_count": null,
   "metadata": {
    "collapsed": true
   },
   "outputs": [],
   "source": [
    "# plotting the state area vs population\n",
    "plt.plot(LandArea, Population, 'g^')\n",
    "plt.title('State area vs. population')\n",
    "plt.xlabel('Area [sq Mi]')\n",
    "plt.ylabel('Population')\n",
    "plt.show()"
   ]
  }
 ],
 "metadata": {
  "kernelspec": {
   "display_name": "Python 3",
   "language": "python",
   "name": "python3"
  },
  "language_info": {
   "codemirror_mode": {
    "name": "ipython",
    "version": 3
   },
   "file_extension": ".py",
   "mimetype": "text/x-python",
   "name": "python",
   "nbconvert_exporter": "python",
   "pygments_lexer": "ipython3",
   "version": "3.5.1"
  }
 },
 "nbformat": 4,
 "nbformat_minor": 2
}
