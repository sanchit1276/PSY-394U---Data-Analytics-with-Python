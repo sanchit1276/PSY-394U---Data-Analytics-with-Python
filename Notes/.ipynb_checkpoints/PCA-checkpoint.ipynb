{
 "cells": [
  {
   "cell_type": "markdown",
   "metadata": {},
   "source": [
    "<p style=\"text-align:center\">\n",
    "PSY 394U <b>Data Analytics with Python</b>, Spring 2019\n",
    "\n",
    "\n",
    "<img style=\"width: 700px; padding: 0px;\" src=\"https://github.com/sathayas/JupyterAnalyticsSpring2019/blob/master/Images/Banner.png?raw=true\" alt=\"title pics\"/>\n",
    "\n",
    "</p>\n",
    "\n",
    "<p style=\"text-align:center; font-size:40px; margin-bottom: 30px;\"><b>Principal Component Analysis (PCA)</b></p>\n",
    "\n",
    "<p style=\"text-align:center; font-size:18px; margin-bottom: 32px;\"><b>January 24-29, 2019</b></p>\n",
    "\n",
    "<hr style=\"height:5px;border:none\" />"
   ]
  },
  {
   "cell_type": "markdown",
   "metadata": {},
   "source": [
    "# 1. Motivation\n",
    "<hr style=\"height:1px;border:none\" />\n",
    "\n",
    "Say, your data consists of a number of correlated variables. A **principal component analysis** (**PCA**) allows you to transform such data into a small number of uncorrelated variables, known as **principal components**. Principal components (PCs) are ordered so that the first PC explains the most variability in the data, the second PC explaining the second most variability, and so on. A PCA is this considered a *dimension reduction method*, transforming a high-dimensional data set into a lower dimensional space.\n",
    "\n",
    "## Iris data\n",
    "This is a famous data set with the lengths and widths of the petal and the sepal of 3 different types of irises (Setosa, Versicolour, and Virginica). This is one of example data sets available in `Scikit-learn`. The data is stored in a 2D array of 150 rows (150 irises) and 4 columns of ***features*** (a.k.a., variables) (sepal length, sepal width, petal length and petal width).\n",
    "\n",
    "<img style=\"width: 300px; padding: 0px;\" src=\"https://github.com/sathayas/JupyterAnalyticsSpring2018/blob/master/images/PCA_Iris.jpg?raw=true\" alt=\"Iris with labels\"/>\n",
    "<p style=\"text-align:center; font-size:10px; margin-top: 0px;\">Source: https://www.math.umd.edu/~petersd/666/html/iris_pca.html </p>\n",
    "\n",
    "Let's take a look at the data set. First, we generate scatter plots. Those who are using Jupyter notebook need to run this line."
   ]
  },
  {
   "cell_type": "code",
   "execution_count": 1,
   "metadata": {},
   "outputs": [],
   "source": [
    "%matplotlib inline"
   ]
  },
  {
   "cell_type": "markdown",
   "metadata": {},
   "source": [
    "Here is a program to plot data, all the features against each other."
   ]
  },
  {
   "cell_type": "markdown",
   "metadata": {},
   "source": [
    "`<IrisDataPlot.py>`"
   ]
  },
  {
   "cell_type": "code",
   "execution_count": 2,
   "metadata": {},
   "outputs": [],
   "source": [
    "# Plotting the iris data\n",
    "\n",
    "import matplotlib.pyplot as plt\n",
    "import numpy as np\n",
    "from sklearn import datasets\n",
    "\n",
    "# loading the iris data set\n",
    "iris = datasets.load_iris()\n",
    "X = iris.data   # 2D data array\n",
    "varNames = iris.feature_names  # variable names\n",
    "nVar = X.shape[1]  # number of features"
   ]
  },
  {
   "cell_type": "markdown",
   "metadata": {},
   "source": [
    "Just for fun, let's take a look at the data."
   ]
  },
  {
   "cell_type": "code",
   "execution_count": 3,
   "metadata": {},
   "outputs": [
    {
     "name": "stdout",
     "output_type": "stream",
     "text": [
      "[[5.1 3.5 1.4 0.2]\n",
      " [4.9 3.  1.4 0.2]\n",
      " [4.7 3.2 1.3 0.2]\n",
      " [4.6 3.1 1.5 0.2]\n",
      " [5.  3.6 1.4 0.2]\n",
      " [5.4 3.9 1.7 0.4]\n",
      " [4.6 3.4 1.4 0.3]\n",
      " [5.  3.4 1.5 0.2]\n",
      " [4.4 2.9 1.4 0.2]\n",
      " [4.9 3.1 1.5 0.1]\n",
      " [5.4 3.7 1.5 0.2]\n",
      " [4.8 3.4 1.6 0.2]\n",
      " [4.8 3.  1.4 0.1]\n",
      " [4.3 3.  1.1 0.1]\n",
      " [5.8 4.  1.2 0.2]\n",
      " [5.7 4.4 1.5 0.4]\n",
      " [5.4 3.9 1.3 0.4]\n",
      " [5.1 3.5 1.4 0.3]\n",
      " [5.7 3.8 1.7 0.3]\n",
      " [5.1 3.8 1.5 0.3]\n",
      " [5.4 3.4 1.7 0.2]\n",
      " [5.1 3.7 1.5 0.4]\n",
      " [4.6 3.6 1.  0.2]\n",
      " [5.1 3.3 1.7 0.5]\n",
      " [4.8 3.4 1.9 0.2]\n",
      " [5.  3.  1.6 0.2]\n",
      " [5.  3.4 1.6 0.4]\n",
      " [5.2 3.5 1.5 0.2]\n",
      " [5.2 3.4 1.4 0.2]\n",
      " [4.7 3.2 1.6 0.2]\n",
      " [4.8 3.1 1.6 0.2]\n",
      " [5.4 3.4 1.5 0.4]\n",
      " [5.2 4.1 1.5 0.1]\n",
      " [5.5 4.2 1.4 0.2]\n",
      " [4.9 3.1 1.5 0.2]\n",
      " [5.  3.2 1.2 0.2]\n",
      " [5.5 3.5 1.3 0.2]\n",
      " [4.9 3.6 1.4 0.1]\n",
      " [4.4 3.  1.3 0.2]\n",
      " [5.1 3.4 1.5 0.2]\n",
      " [5.  3.5 1.3 0.3]\n",
      " [4.5 2.3 1.3 0.3]\n",
      " [4.4 3.2 1.3 0.2]\n",
      " [5.  3.5 1.6 0.6]\n",
      " [5.1 3.8 1.9 0.4]\n",
      " [4.8 3.  1.4 0.3]\n",
      " [5.1 3.8 1.6 0.2]\n",
      " [4.6 3.2 1.4 0.2]\n",
      " [5.3 3.7 1.5 0.2]\n",
      " [5.  3.3 1.4 0.2]\n",
      " [7.  3.2 4.7 1.4]\n",
      " [6.4 3.2 4.5 1.5]\n",
      " [6.9 3.1 4.9 1.5]\n",
      " [5.5 2.3 4.  1.3]\n",
      " [6.5 2.8 4.6 1.5]\n",
      " [5.7 2.8 4.5 1.3]\n",
      " [6.3 3.3 4.7 1.6]\n",
      " [4.9 2.4 3.3 1. ]\n",
      " [6.6 2.9 4.6 1.3]\n",
      " [5.2 2.7 3.9 1.4]\n",
      " [5.  2.  3.5 1. ]\n",
      " [5.9 3.  4.2 1.5]\n",
      " [6.  2.2 4.  1. ]\n",
      " [6.1 2.9 4.7 1.4]\n",
      " [5.6 2.9 3.6 1.3]\n",
      " [6.7 3.1 4.4 1.4]\n",
      " [5.6 3.  4.5 1.5]\n",
      " [5.8 2.7 4.1 1. ]\n",
      " [6.2 2.2 4.5 1.5]\n",
      " [5.6 2.5 3.9 1.1]\n",
      " [5.9 3.2 4.8 1.8]\n",
      " [6.1 2.8 4.  1.3]\n",
      " [6.3 2.5 4.9 1.5]\n",
      " [6.1 2.8 4.7 1.2]\n",
      " [6.4 2.9 4.3 1.3]\n",
      " [6.6 3.  4.4 1.4]\n",
      " [6.8 2.8 4.8 1.4]\n",
      " [6.7 3.  5.  1.7]\n",
      " [6.  2.9 4.5 1.5]\n",
      " [5.7 2.6 3.5 1. ]\n",
      " [5.5 2.4 3.8 1.1]\n",
      " [5.5 2.4 3.7 1. ]\n",
      " [5.8 2.7 3.9 1.2]\n",
      " [6.  2.7 5.1 1.6]\n",
      " [5.4 3.  4.5 1.5]\n",
      " [6.  3.4 4.5 1.6]\n",
      " [6.7 3.1 4.7 1.5]\n",
      " [6.3 2.3 4.4 1.3]\n",
      " [5.6 3.  4.1 1.3]\n",
      " [5.5 2.5 4.  1.3]\n",
      " [5.5 2.6 4.4 1.2]\n",
      " [6.1 3.  4.6 1.4]\n",
      " [5.8 2.6 4.  1.2]\n",
      " [5.  2.3 3.3 1. ]\n",
      " [5.6 2.7 4.2 1.3]\n",
      " [5.7 3.  4.2 1.2]\n",
      " [5.7 2.9 4.2 1.3]\n",
      " [6.2 2.9 4.3 1.3]\n",
      " [5.1 2.5 3.  1.1]\n",
      " [5.7 2.8 4.1 1.3]\n",
      " [6.3 3.3 6.  2.5]\n",
      " [5.8 2.7 5.1 1.9]\n",
      " [7.1 3.  5.9 2.1]\n",
      " [6.3 2.9 5.6 1.8]\n",
      " [6.5 3.  5.8 2.2]\n",
      " [7.6 3.  6.6 2.1]\n",
      " [4.9 2.5 4.5 1.7]\n",
      " [7.3 2.9 6.3 1.8]\n",
      " [6.7 2.5 5.8 1.8]\n",
      " [7.2 3.6 6.1 2.5]\n",
      " [6.5 3.2 5.1 2. ]\n",
      " [6.4 2.7 5.3 1.9]\n",
      " [6.8 3.  5.5 2.1]\n",
      " [5.7 2.5 5.  2. ]\n",
      " [5.8 2.8 5.1 2.4]\n",
      " [6.4 3.2 5.3 2.3]\n",
      " [6.5 3.  5.5 1.8]\n",
      " [7.7 3.8 6.7 2.2]\n",
      " [7.7 2.6 6.9 2.3]\n",
      " [6.  2.2 5.  1.5]\n",
      " [6.9 3.2 5.7 2.3]\n",
      " [5.6 2.8 4.9 2. ]\n",
      " [7.7 2.8 6.7 2. ]\n",
      " [6.3 2.7 4.9 1.8]\n",
      " [6.7 3.3 5.7 2.1]\n",
      " [7.2 3.2 6.  1.8]\n",
      " [6.2 2.8 4.8 1.8]\n",
      " [6.1 3.  4.9 1.8]\n",
      " [6.4 2.8 5.6 2.1]\n",
      " [7.2 3.  5.8 1.6]\n",
      " [7.4 2.8 6.1 1.9]\n",
      " [7.9 3.8 6.4 2. ]\n",
      " [6.4 2.8 5.6 2.2]\n",
      " [6.3 2.8 5.1 1.5]\n",
      " [6.1 2.6 5.6 1.4]\n",
      " [7.7 3.  6.1 2.3]\n",
      " [6.3 3.4 5.6 2.4]\n",
      " [6.4 3.1 5.5 1.8]\n",
      " [6.  3.  4.8 1.8]\n",
      " [6.9 3.1 5.4 2.1]\n",
      " [6.7 3.1 5.6 2.4]\n",
      " [6.9 3.1 5.1 2.3]\n",
      " [5.8 2.7 5.1 1.9]\n",
      " [6.8 3.2 5.9 2.3]\n",
      " [6.7 3.3 5.7 2.5]\n",
      " [6.7 3.  5.2 2.3]\n",
      " [6.3 2.5 5.  1.9]\n",
      " [6.5 3.  5.2 2. ]\n",
      " [6.2 3.4 5.4 2.3]\n",
      " [5.9 3.  5.1 1.8]]\n"
     ]
    }
   ],
   "source": [
    "print(X)"
   ]
  },
  {
   "cell_type": "markdown",
   "metadata": {},
   "source": [
    "It makes more sense if we plot the data."
   ]
  },
  {
   "cell_type": "code",
   "execution_count": 5,
   "metadata": {},
   "outputs": [
    {
     "name": "stdout",
     "output_type": "stream",
     "text": [
      "['sepal length (cm)', 'sepal width (cm)', 'petal length (cm)', 'petal width (cm)']\n"
     ]
    }
   ],
   "source": [
    "print(varNames)"
   ]
  },
  {
   "cell_type": "code",
   "execution_count": 4,
   "metadata": {},
   "outputs": [
    {
     "data": {
      "image/png": "[encoded data removed]",
      "text/plain": [
       "<Figure size 432x432 with 6 Axes>"
      ]
     },
     "metadata": {
      "needs_background": "light"
     },
     "output_type": "display_data"
    }
   ],
   "source": [
    "# plotting the data\n",
    "plt.figure(figsize=[6, 6])\n",
    "\n",
    "# generating subplots\n",
    "for iRow in range(nVar-1):  # subplot row index\n",
    "    for iCol in range(iRow+1, nVar):  # subplot column index\n",
    "        indPlot = (nVar-1)*iRow + iCol\n",
    "        plt.subplot(nVar-1, nVar-1, indPlot)\n",
    "        plt.plot(X[:,iCol], X[:,iRow], 'b.')\n",
    "        if iCol==iRow+1:\n",
    "            plt.xlabel(varNames[iCol])\n",
    "            plt.ylabel(varNames[iRow])\n",
    "\n",
    "# adjusting the space between subplots\n",
    "plt.subplots_adjust(wspace=0.35, hspace=0.35)\n",
    "\n",
    "\n",
    "plt.show()"
   ]
  },
  {
   "cell_type": "markdown",
   "metadata": {},
   "source": [
    "You notice that these features are correlated. You may also notice that how cumbersome it is just to examine the data set. The more features you have, the more complicated the plots become. So perhaps we can generate a *summary* feature encompassing variability of all these features. \n",
    "\n",
    "Here is a simple program to perform a PCA on this data set."
   ]
  },
  {
   "cell_type": "markdown",
   "metadata": {},
   "source": [
    "`<IrisPCA.py>`"
   ]
  },
  {
   "cell_type": "code",
   "execution_count": 6,
   "metadata": {},
   "outputs": [],
   "source": [
    "import matplotlib.pyplot as plt\n",
    "import numpy as np\n",
    "from sklearn import datasets\n",
    "from sklearn.decomposition import PCA\n",
    "\n",
    "# loading the iris data\n",
    "iris = datasets.load_iris()\n",
    "X = iris.data   # 2D data array\n",
    "\n",
    "\n",
    "# applying PCA\n",
    "pca = PCA(n_components=2)  # creating a PCA transformation with 2 PCs\n",
    "X_r = pca.fit_transform(X) # fit the data, get 2 PCs"
   ]
  },
  {
   "cell_type": "markdown",
   "metadata": {},
   "source": [
    "Here, **`PCA`** is a transformation object. We are interested in determining the largest 2 PCs, so we set **`n_components=2`**. *In other words, we attempt to describe the variability in the data with 4 features with just 2 PCs.* In theory, the number of PCs we can determine is the number of features in the data set. Once the PCA object is defined as **`pca`**, then the **`fit_transform`** method is used to determine the transformation from the original data set to the collection of PCs. \n",
    "\n",
    "The PCs are stored in a 2D array **`X_r`**."
   ]
  },
  {
   "cell_type": "code",
   "execution_count": 7,
   "metadata": {},
   "outputs": [
    {
     "data": {
      "text/plain": [
       "(150, 2)"
      ]
     },
     "execution_count": 7,
     "metadata": {},
     "output_type": "execute_result"
    }
   ],
   "source": [
    "X_r.shape"
   ]
  },
  {
   "cell_type": "markdown",
   "metadata": {},
   "source": [
    "The number of rows corresponds to the number of observations, and the number of columns corresponds to the number of PCs (2 in this case)."
   ]
  },
  {
   "cell_type": "code",
   "execution_count": 8,
   "metadata": {},
   "outputs": [
    {
     "name": "stdout",
     "output_type": "stream",
     "text": [
      "[0.92461872 0.05306648]\n"
     ]
    }
   ],
   "source": [
    "# proportion of the variance explained\n",
    "print(pca.explained_variance_ratio_)"
   ]
  },
  {
   "cell_type": "markdown",
   "metadata": {},
   "source": [
    "Here, the attribute **`explained_variance_ratio_`** stores the amount of variability in the data explained by each PC. The first PC explains 92% of variability,  whereas the second PC explains a little over 5%."
   ]
  },
  {
   "cell_type": "code",
   "execution_count": 9,
   "metadata": {},
   "outputs": [
    {
     "name": "stdout",
     "output_type": "stream",
     "text": [
      "[[ 1.00000000e+00 -9.30108464e-17]\n",
      " [-9.30108464e-17  1.00000000e+00]]\n"
     ]
    }
   ],
   "source": [
    "# PCs are uncorrelated\n",
    "print(np.corrcoef(X_r, rowvar=False))"
   ]
  },
  {
   "cell_type": "markdown",
   "metadata": {},
   "source": [
    "Here, we see that the two PCs are uncorrelated, with very a very small correlation coefficient."
   ]
  },
  {
   "cell_type": "code",
   "execution_count": 10,
   "metadata": {},
   "outputs": [
    {
     "data": {
      "image/png": "[encoded data removed]",
      "text/plain": [
       "<Figure size 432x288 with 1 Axes>"
      ]
     },
     "metadata": {
      "needs_background": "light"
     },
     "output_type": "display_data"
    }
   ],
   "source": [
    "# plotting PCs\n",
    "plt.plot(X_r[:,0], X_r[:,1],'b.')\n",
    "plt.xlabel('PC1')\n",
    "plt.ylabel('PC2')\n",
    "plt.show()"
   ]
  },
  {
   "cell_type": "markdown",
   "metadata": {},
   "source": [
    "Here, PC1 and PC2 are plotted. This plot may not mean much, until we add the target information (i.e., different types of irises) to the plot."
   ]
  },
  {
   "cell_type": "code",
   "execution_count": 11,
   "metadata": {},
   "outputs": [
    {
     "data": {
      "image/png": "[encoded data removed]",
      "text/plain": [
       "<Figure size 432x288 with 1 Axes>"
      ]
     },
     "metadata": {
      "needs_background": "light"
     },
     "output_type": "display_data"
    }
   ],
   "source": [
    "# plotting PCs with the target\n",
    "Y = iris.target\n",
    "targetNames = iris.target_names\n",
    "targetColors = ['magenta', 'blue', 'green']\n",
    "for iTarget in range(3):\n",
    "    plt.plot(X_r[Y==iTarget,0],X_r[Y==iTarget,1], marker='+', ls='none',\n",
    "         c=targetColors[iTarget], label=targetNames[iTarget])\n",
    "plt.xlabel('PC1')\n",
    "plt.ylabel('PC2')\n",
    "plt.legend(loc=4)\n",
    "plt.show()"
   ]
  },
  {
   "cell_type": "markdown",
   "metadata": {},
   "source": [
    "As you can see, different types of irises tend to *cluster* into groups. A PCA is able to separate these groups to a certain degree.\n",
    "\n",
    "What exactly are PC1 and PC2? In a nutshell, these are *linear combinations* of features. You can examine these linear combinations by"
   ]
  },
  {
   "cell_type": "code",
   "execution_count": 12,
   "metadata": {},
   "outputs": [
    {
     "data": {
      "text/plain": [
       "array([[ 0.36138659, -0.08452251,  0.85667061,  0.3582892 ],\n",
       "       [ 0.65658877,  0.73016143, -0.17337266, -0.07548102]])"
      ]
     },
     "execution_count": 12,
     "metadata": {},
     "output_type": "execute_result"
    }
   ],
   "source": [
    "pca.components_"
   ]
  },
  {
   "cell_type": "markdown",
   "metadata": {},
   "source": [
    "Here, the first row describes the linear combination of features for PC1. The second row corresponds to PC2. In a technical term, they are often referred as *eigenvectors*."
   ]
  },
  {
   "cell_type": "markdown",
   "metadata": {},
   "source": [
    "# 2. Examples\n",
    "<hr style=\"height:1px;border:none\" />\n",
    "\n",
    "## Seed data\n",
    "\n",
    "Here is another example of PCA. The data set **`seeds_dataset.txt`** contains 210 observations with 7 features of wheat kernels. The features are\n",
    "\n",
    "  1. area\n",
    "  2. perimeter\n",
    "  3. compactness\n",
    "  4. length of kernel\n",
    "  5. width of kernel\n",
    "  6. asymmetry coefficient\n",
    "  7. length of kernel groove\n",
    "\n",
    "There are three kinds of wheat kernels (N=70 each), indicated by the 8th column of the data (1=Kama, 2=Rosa and 3=Canadian). \n",
    "\n",
    "<p style=\"text-align:center; font-size:10px; margin-top: 12px; margin-bottom: 12px;\">Source: UCI Machine Learning Repository https://archive.ics.uci.edu/ml/datasets/seeds </p>\n",
    "\n",
    "Here is a code snippet to load the data set."
   ]
  },
  {
   "cell_type": "markdown",
   "metadata": {},
   "source": [
    "`<SeedPCA.py>`"
   ]
  },
  {
   "cell_type": "code",
   "execution_count": 2,
   "metadata": {},
   "outputs": [],
   "source": [
    "import numpy as np\n",
    "import pandas as pd\n",
    "import matplotlib.pyplot as plt\n",
    "from sklearn.decomposition import PCA\n",
    "\n",
    "# loadin the data\n",
    "seedData = pd.read_csv('seeds_dataset.txt', sep='\\t', header=None)\n",
    "seedFeatures = np.array(seedData.iloc[:,:7])\n",
    "seedTargets = np.array(seedData.iloc[:,7])\n",
    "targetNames = ['Kama','Rosa','Canadian']\n",
    "targetColors = ['red','blue','green']"
   ]
  },
  {
   "cell_type": "markdown",
   "metadata": {},
   "source": [
    "### Exercise\n",
    "1. **Plotting features**. Select two columns randomly from the data array, and produce a scatter plot. Do you see any correlation or linear association between the selected features?\n",
    "2. **PCA of the seed data**. Perform a PCA on this data set, generating 7 PCs, stored in a 2D array called **`seedPCs`**. Determine how much variability is explained by each of these PCs."
   ]
  },
  {
   "cell_type": "code",
   "execution_count": 3,
   "metadata": {},
   "outputs": [
    {
     "data": {
      "image/png": "[encoded data removed]",
      "text/plain": [
       "<Figure size 432x288 with 1 Axes>"
      ]
     },
     "metadata": {
      "needs_background": "light"
     },
     "output_type": "display_data"
    },
    {
     "name": "stdout",
     "output_type": "stream",
     "text": [
      "[8.29385197e-01 1.63632452e-01 5.65790880e-03 9.90306086e-04\n",
      " 2.11180347e-04 1.20677139e-04 2.27879552e-06]\n",
      "1.0\n"
     ]
    }
   ],
   "source": [
    "# plotting the first two features\n",
    "plt.plot(seedFeatures[:,0], seedFeatures[:,1], 'b.')\n",
    "plt.show()\n",
    "##there is a strong correlation between the first two features\n",
    "\n",
    "# applying PCA\n",
    "pca = PCA(n_components=7)\n",
    "seedPCs = pca.fit_transform(seedFeatures)\n",
    "print(pca.explained_variance_ratio_)\n",
    "print(pca.explained_variance_ratio_.sum())"
   ]
  },
  {
   "cell_type": "markdown",
   "metadata": {},
   "source": [
    "As we plot the first 2 PCs (explaining a substantial portion of variability), we can see that different types of wheats are clustered. "
   ]
  },
  {
   "cell_type": "code",
   "execution_count": 4,
   "metadata": {},
   "outputs": [
    {
     "data": {
      "image/png": "[encoded data removed]",
      "text/plain": [
       "<Figure size 432x288 with 1 Axes>"
      ]
     },
     "metadata": {
      "needs_background": "light"
     },
     "output_type": "display_data"
    }
   ],
   "source": [
    "# plotting the first 2 PCs\n",
    "for iTarget in np.arange(1,4):\n",
    "    plt.plot(seedPCs[seedTargets==iTarget,0],\n",
    "             seedPCs[seedTargets==iTarget,1],\n",
    "             marker='.', ls='none',\n",
    "             c=targetColors[iTarget-1], label=targetNames[iTarget-1])\n",
    "plt.xlabel('PC1')\n",
    "plt.ylabel('PC2')\n",
    "plt.legend(loc=4)\n",
    "plt.show()"
   ]
  },
  {
   "cell_type": "markdown",
   "metadata": {},
   "source": [
    "## Seed data, scaled\n",
    "\n",
    "In the seed data, the features have different scales, as manifested by different magnitudes of means and standard deviations (SD)."
   ]
  },
  {
   "cell_type": "code",
   "execution_count": 5,
   "metadata": {},
   "outputs": [
    {
     "data": {
      "text/html": [
       "<div>\n",
       "<style scoped>\n",
       "    .dataframe tbody tr th:only-of-type {\n",
       "        vertical-align: middle;\n",
       "    }\n",
       "\n",
       "    .dataframe tbody tr th {\n",
       "        vertical-align: top;\n",
       "    }\n",
       "\n",
       "    .dataframe thead th {\n",
       "        text-align: right;\n",
       "    }\n",
       "</style>\n",
       "<table border=\"1\" class=\"dataframe\">\n",
       "  <thead>\n",
       "    <tr style=\"text-align: right;\">\n",
       "      <th></th>\n",
       "      <th>0</th>\n",
       "      <th>1</th>\n",
       "      <th>2</th>\n",
       "      <th>3</th>\n",
       "      <th>4</th>\n",
       "      <th>5</th>\n",
       "      <th>6</th>\n",
       "    </tr>\n",
       "  </thead>\n",
       "  <tbody>\n",
       "    <tr>\n",
       "      <th>count</th>\n",
       "      <td>210.000000</td>\n",
       "      <td>210.000000</td>\n",
       "      <td>210.000000</td>\n",
       "      <td>210.000000</td>\n",
       "      <td>210.000000</td>\n",
       "      <td>210.000000</td>\n",
       "      <td>210.000000</td>\n",
       "    </tr>\n",
       "    <tr>\n",
       "      <th>mean</th>\n",
       "      <td>14.847524</td>\n",
       "      <td>14.559286</td>\n",
       "      <td>0.870999</td>\n",
       "      <td>5.628533</td>\n",
       "      <td>3.258605</td>\n",
       "      <td>3.700201</td>\n",
       "      <td>5.408071</td>\n",
       "    </tr>\n",
       "    <tr>\n",
       "      <th>std</th>\n",
       "      <td>2.909699</td>\n",
       "      <td>1.305959</td>\n",
       "      <td>0.023629</td>\n",
       "      <td>0.443063</td>\n",
       "      <td>0.377714</td>\n",
       "      <td>1.503557</td>\n",
       "      <td>0.491480</td>\n",
       "    </tr>\n",
       "    <tr>\n",
       "      <th>min</th>\n",
       "      <td>10.590000</td>\n",
       "      <td>12.410000</td>\n",
       "      <td>0.808100</td>\n",
       "      <td>4.899000</td>\n",
       "      <td>2.630000</td>\n",
       "      <td>0.765100</td>\n",
       "      <td>4.519000</td>\n",
       "    </tr>\n",
       "    <tr>\n",
       "      <th>25%</th>\n",
       "      <td>12.270000</td>\n",
       "      <td>13.450000</td>\n",
       "      <td>0.856900</td>\n",
       "      <td>5.262250</td>\n",
       "      <td>2.944000</td>\n",
       "      <td>2.561500</td>\n",
       "      <td>5.045000</td>\n",
       "    </tr>\n",
       "    <tr>\n",
       "      <th>50%</th>\n",
       "      <td>14.355000</td>\n",
       "      <td>14.320000</td>\n",
       "      <td>0.873450</td>\n",
       "      <td>5.523500</td>\n",
       "      <td>3.237000</td>\n",
       "      <td>3.599000</td>\n",
       "      <td>5.223000</td>\n",
       "    </tr>\n",
       "    <tr>\n",
       "      <th>75%</th>\n",
       "      <td>17.305000</td>\n",
       "      <td>15.715000</td>\n",
       "      <td>0.887775</td>\n",
       "      <td>5.979750</td>\n",
       "      <td>3.561750</td>\n",
       "      <td>4.768750</td>\n",
       "      <td>5.877000</td>\n",
       "    </tr>\n",
       "    <tr>\n",
       "      <th>max</th>\n",
       "      <td>21.180000</td>\n",
       "      <td>17.250000</td>\n",
       "      <td>0.918300</td>\n",
       "      <td>6.675000</td>\n",
       "      <td>4.033000</td>\n",
       "      <td>8.456000</td>\n",
       "      <td>6.550000</td>\n",
       "    </tr>\n",
       "  </tbody>\n",
       "</table>\n",
       "</div>"
      ],
      "text/plain": [
       "                0           1           2           3           4           5  \\\n",
       "count  210.000000  210.000000  210.000000  210.000000  210.000000  210.000000   \n",
       "mean    14.847524   14.559286    0.870999    5.628533    3.258605    3.700201   \n",
       "std      2.909699    1.305959    0.023629    0.443063    0.377714    1.503557   \n",
       "min     10.590000   12.410000    0.808100    4.899000    2.630000    0.765100   \n",
       "25%     12.270000   13.450000    0.856900    5.262250    2.944000    2.561500   \n",
       "50%     14.355000   14.320000    0.873450    5.523500    3.237000    3.599000   \n",
       "75%     17.305000   15.715000    0.887775    5.979750    3.561750    4.768750   \n",
       "max     21.180000   17.250000    0.918300    6.675000    4.033000    8.456000   \n",
       "\n",
       "                6  \n",
       "count  210.000000  \n",
       "mean     5.408071  \n",
       "std      0.491480  \n",
       "min      4.519000  \n",
       "25%      5.045000  \n",
       "50%      5.223000  \n",
       "75%      5.877000  \n",
       "max      6.550000  "
      ]
     },
     "execution_count": 5,
     "metadata": {},
     "output_type": "execute_result"
    }
   ],
   "source": [
    "seedData.iloc[:,:7].describe()"
   ]
  },
  {
   "cell_type": "markdown",
   "metadata": {},
   "source": [
    "For example, features 0 & 1 have larger means and SD. You may encounter such differences in feature magnitudes in your data set (e.g., response time in ms, subjects' age in years). \n",
    "\n",
    "How does this affect PCA? Let's take a look at the first two PCs."
   ]
  },
  {
   "cell_type": "code",
   "execution_count": 6,
   "metadata": {},
   "outputs": [
    {
     "data": {
      "text/plain": [
       "array([ 0.8842285 ,  0.39540542,  0.00431132,  0.12854448,  0.11105914,\n",
       "       -0.12761562,  0.1289665 ])"
      ]
     },
     "execution_count": 6,
     "metadata": {},
     "output_type": "execute_result"
    }
   ],
   "source": [
    "pca.components_[0]"
   ]
  },
  {
   "cell_type": "code",
   "execution_count": 7,
   "metadata": {},
   "outputs": [
    {
     "data": {
      "text/plain": [
       "array([ 0.10080577,  0.05648963, -0.00289474,  0.03062173,  0.00237229,\n",
       "        0.98941048,  0.08223339])"
      ]
     },
     "execution_count": 7,
     "metadata": {},
     "output_type": "execute_result"
    }
   ],
   "source": [
    "pca.components_[1]"
   ]
  },
  {
   "cell_type": "markdown",
   "metadata": {},
   "source": [
    "In PC1, features #0 and #1 contribute more than the other features. In PC2, feature #5 dominates. It is unclear whether these features are truly important, or due do the difference in means and SDs. Thus, it is a good idea to *standardize* (i.e., calculate Z-score, or subtract the mean and divide by the SD) each feature before PCA. There is a transformation object **`StandardScaler`** that implements standardization. "
   ]
  },
  {
   "cell_type": "markdown",
   "metadata": {},
   "source": [
    "`<SeedPCAScaled.py>`"
   ]
  },
  {
   "cell_type": "code",
   "execution_count": 8,
   "metadata": {},
   "outputs": [],
   "source": [
    "import numpy as np\n",
    "import pandas as pd\n",
    "import matplotlib.pyplot as plt\n",
    "from sklearn.decomposition import PCA\n",
    "from sklearn.preprocessing import StandardScaler\n",
    "\n",
    "# loadin the data\n",
    "seedData = pd.read_csv('seeds_dataset.txt', sep='\\t', header=None)\n",
    "seedFeatures = np.array(seedData.iloc[:,:7])\n",
    "seedTargets = np.array(seedData.iloc[:,7])\n",
    "targetNames = ['Kama','Rosa','Canadian']\n",
    "targetColors = ['red','blue','green']\n",
    "\n",
    "\n",
    "seedFeaturesNorm = StandardScaler().fit_transform(seedFeatures)"
   ]
  },
  {
   "cell_type": "markdown",
   "metadata": {},
   "source": [
    "When we examine the scaled features **`seedFeaturesNorm`**, we see that each feature has zero mean and unit SD. "
   ]
  },
  {
   "cell_type": "code",
   "execution_count": 9,
   "metadata": {},
   "outputs": [
    {
     "data": {
      "text/html": [
       "<div>\n",
       "<style scoped>\n",
       "    .dataframe tbody tr th:only-of-type {\n",
       "        vertical-align: middle;\n",
       "    }\n",
       "\n",
       "    .dataframe tbody tr th {\n",
       "        vertical-align: top;\n",
       "    }\n",
       "\n",
       "    .dataframe thead th {\n",
       "        text-align: right;\n",
       "    }\n",
       "</style>\n",
       "<table border=\"1\" class=\"dataframe\">\n",
       "  <thead>\n",
       "    <tr style=\"text-align: right;\">\n",
       "      <th></th>\n",
       "      <th>0</th>\n",
       "      <th>1</th>\n",
       "      <th>2</th>\n",
       "      <th>3</th>\n",
       "      <th>4</th>\n",
       "      <th>5</th>\n",
       "      <th>6</th>\n",
       "    </tr>\n",
       "  </thead>\n",
       "  <tbody>\n",
       "    <tr>\n",
       "      <th>count</th>\n",
       "      <td>2.100000e+02</td>\n",
       "      <td>2.100000e+02</td>\n",
       "      <td>2.100000e+02</td>\n",
       "      <td>2.100000e+02</td>\n",
       "      <td>2.100000e+02</td>\n",
       "      <td>2.100000e+02</td>\n",
       "      <td>2.100000e+02</td>\n",
       "    </tr>\n",
       "    <tr>\n",
       "      <th>mean</th>\n",
       "      <td>-5.392512e-17</td>\n",
       "      <td>9.146123e-17</td>\n",
       "      <td>1.406679e-15</td>\n",
       "      <td>-2.214631e-15</td>\n",
       "      <td>-3.172066e-16</td>\n",
       "      <td>-2.082990e-16</td>\n",
       "      <td>-9.992007e-17</td>\n",
       "    </tr>\n",
       "    <tr>\n",
       "      <th>std</th>\n",
       "      <td>1.002389e+00</td>\n",
       "      <td>1.002389e+00</td>\n",
       "      <td>1.002389e+00</td>\n",
       "      <td>1.002389e+00</td>\n",
       "      <td>1.002389e+00</td>\n",
       "      <td>1.002389e+00</td>\n",
       "      <td>1.002389e+00</td>\n",
       "    </tr>\n",
       "    <tr>\n",
       "      <th>min</th>\n",
       "      <td>-1.466714e+00</td>\n",
       "      <td>-1.649686e+00</td>\n",
       "      <td>-2.668236e+00</td>\n",
       "      <td>-1.650501e+00</td>\n",
       "      <td>-1.668209e+00</td>\n",
       "      <td>-1.956769e+00</td>\n",
       "      <td>-1.813288e+00</td>\n",
       "    </tr>\n",
       "    <tr>\n",
       "      <th>25%</th>\n",
       "      <td>-8.879552e-01</td>\n",
       "      <td>-8.514330e-01</td>\n",
       "      <td>-5.980791e-01</td>\n",
       "      <td>-8.286816e-01</td>\n",
       "      <td>-8.349072e-01</td>\n",
       "      <td>-7.591477e-01</td>\n",
       "      <td>-7.404953e-01</td>\n",
       "    </tr>\n",
       "    <tr>\n",
       "      <th>50%</th>\n",
       "      <td>-1.696741e-01</td>\n",
       "      <td>-1.836639e-01</td>\n",
       "      <td>1.039927e-01</td>\n",
       "      <td>-2.376280e-01</td>\n",
       "      <td>-5.733534e-02</td>\n",
       "      <td>-6.746852e-02</td>\n",
       "      <td>-3.774588e-01</td>\n",
       "    </tr>\n",
       "    <tr>\n",
       "      <th>75%</th>\n",
       "      <td>8.465989e-01</td>\n",
       "      <td>8.870693e-01</td>\n",
       "      <td>7.116771e-01</td>\n",
       "      <td>7.945947e-01</td>\n",
       "      <td>8.044956e-01</td>\n",
       "      <td>7.123789e-01</td>\n",
       "      <td>9.563941e-01</td>\n",
       "    </tr>\n",
       "    <tr>\n",
       "      <th>max</th>\n",
       "      <td>2.181534e+00</td>\n",
       "      <td>2.065260e+00</td>\n",
       "      <td>2.006586e+00</td>\n",
       "      <td>2.367533e+00</td>\n",
       "      <td>2.055112e+00</td>\n",
       "      <td>3.170590e+00</td>\n",
       "      <td>2.328998e+00</td>\n",
       "    </tr>\n",
       "  </tbody>\n",
       "</table>\n",
       "</div>"
      ],
      "text/plain": [
       "                  0             1             2             3             4  \\\n",
       "count  2.100000e+02  2.100000e+02  2.100000e+02  2.100000e+02  2.100000e+02   \n",
       "mean  -5.392512e-17  9.146123e-17  1.406679e-15 -2.214631e-15 -3.172066e-16   \n",
       "std    1.002389e+00  1.002389e+00  1.002389e+00  1.002389e+00  1.002389e+00   \n",
       "min   -1.466714e+00 -1.649686e+00 -2.668236e+00 -1.650501e+00 -1.668209e+00   \n",
       "25%   -8.879552e-01 -8.514330e-01 -5.980791e-01 -8.286816e-01 -8.349072e-01   \n",
       "50%   -1.696741e-01 -1.836639e-01  1.039927e-01 -2.376280e-01 -5.733534e-02   \n",
       "75%    8.465989e-01  8.870693e-01  7.116771e-01  7.945947e-01  8.044956e-01   \n",
       "max    2.181534e+00  2.065260e+00  2.006586e+00  2.367533e+00  2.055112e+00   \n",
       "\n",
       "                  5             6  \n",
       "count  2.100000e+02  2.100000e+02  \n",
       "mean  -2.082990e-16 -9.992007e-17  \n",
       "std    1.002389e+00  1.002389e+00  \n",
       "min   -1.956769e+00 -1.813288e+00  \n",
       "25%   -7.591477e-01 -7.404953e-01  \n",
       "50%   -6.746852e-02 -3.774588e-01  \n",
       "75%    7.123789e-01  9.563941e-01  \n",
       "max    3.170590e+00  2.328998e+00  "
      ]
     },
     "execution_count": 9,
     "metadata": {},
     "output_type": "execute_result"
    }
   ],
   "source": [
    "pd.DataFrame(seedFeaturesNorm).describe()"
   ]
  },
  {
   "cell_type": "markdown",
   "metadata": {},
   "source": [
    "Then we can perform PCA."
   ]
  },
  {
   "cell_type": "code",
   "execution_count": 10,
   "metadata": {},
   "outputs": [],
   "source": [
    "seedPCA = PCA(n_components=7)\n",
    "seedPCs = seedPCA.fit_transform(seedFeaturesNorm)"
   ]
  },
  {
   "cell_type": "markdown",
   "metadata": {},
   "source": [
    "Let's examine the first 2 PCs."
   ]
  },
  {
   "cell_type": "code",
   "execution_count": 11,
   "metadata": {},
   "outputs": [
    {
     "data": {
      "text/plain": [
       "array([[ 0.44447352,  0.44157147,  0.27701737,  0.42356333,  0.43281866,\n",
       "        -0.11869248,  0.38716084],\n",
       "       [-0.02656355, -0.08400282,  0.52915125, -0.20597518,  0.11668963,\n",
       "        -0.71688203, -0.37719327]])"
      ]
     },
     "execution_count": 11,
     "metadata": {},
     "output_type": "execute_result"
    }
   ],
   "source": [
    "seedPCA.components_[:2,:]"
   ]
  },
  {
   "cell_type": "markdown",
   "metadata": {},
   "source": [
    "Unlike the PCs with the unscaled data, all features seem to contribute. Now let's plot the first two PCs."
   ]
  },
  {
   "cell_type": "code",
   "execution_count": 12,
   "metadata": {},
   "outputs": [
    {
     "data": {
      "image/png": "[encoded data removed]",
      "text/plain": [
       "<Figure size 432x288 with 1 Axes>"
      ]
     },
     "metadata": {
      "needs_background": "light"
     },
     "output_type": "display_data"
    }
   ],
   "source": [
    "# plotting the first 2 PCs\n",
    "for iTarget in np.arange(1,4):\n",
    "    plt.plot(seedPCs[seedTargets==iTarget,0],\n",
    "             seedPCs[seedTargets==iTarget,1],\n",
    "             marker='.', ls='none',\n",
    "             c=targetColors[iTarget-1], label=targetNames[iTarget-1])\n",
    "plt.xlabel('PC1')\n",
    "plt.ylabel('PC2')\n",
    "plt.legend(loc=4)\n",
    "plt.show()"
   ]
  },
  {
   "cell_type": "markdown",
   "metadata": {},
   "source": [
    "Do you notice any difference compared to the earlier plot?"
   ]
  },
  {
   "cell_type": "markdown",
   "metadata": {},
   "source": [
    "### Exercise\n",
    "\n",
    "**Explained variance, with or without scaling**. Calculate the explained variance for the first 2 PCs in the PCA for the seed data, with or without scaling "
   ]
  },
  {
   "cell_type": "code",
   "execution_count": 16,
   "metadata": {},
   "outputs": [
    {
     "name": "stdout",
     "output_type": "stream",
     "text": [
      "[8.29385197e-01 1.63632452e-01 5.65790880e-03 9.90306086e-04\n",
      " 2.11180347e-04 1.20677139e-04 2.27879552e-06]\n",
      "[7.18743027e-01 1.71081835e-01 9.68576341e-02 9.76635386e-03\n",
      " 2.67337271e-03 7.61720812e-04 1.16056686e-04]\n"
     ]
    }
   ],
   "source": [
    "#Without scaling:\n",
    "\n",
    "pca = PCA(n_components=7) # creating a PCA transformation with 7 PCs\n",
    "seedPCs = pca.fit_transform(seedFeatures) # fit the data, get 7 PCs\n",
    "print(pca.explained_variance_ratio_)\n",
    "\n",
    "#With scaling:\n",
    "\n",
    "from sklearn.preprocessing import StandardScaler\n",
    "seedFeaturesNorm = StandardScaler().fit_transform(seedFeatures)\n",
    "\n",
    "seedNormPCA = PCA(n_components=7)\n",
    "seedPCsNorm = seedNormPCA.fit_transform(seedFeaturesNorm)\n",
    "print(seedNormPCA.explained_variance_ratio_)"
   ]
  },
  {
   "cell_type": "markdown",
   "metadata": {
    "collapsed": true
   },
   "source": [
    "# 3. Dimension reduction with PCA\n",
    "<hr style=\"height:1px;border:none\" />\n",
    "\n",
    "PCA is useful in projecting a high-dimensional data set to a lower dimensional space, a.k.a., *dimension reduction*. To demonstrate this, we shall examine the digits data set available in `Scikit-learn`. This data set contains 1797 observations of hand-written digits (0-9). Each observation is an 8x8 image of a hand-written digit, on a 16-level gray scale. Here are some examples of the digit data."
   ]
  },
  {
   "cell_type": "markdown",
   "metadata": {},
   "source": [
    "`<DigitsPCA.py>`"
   ]
  },
  {
   "cell_type": "code",
   "execution_count": 17,
   "metadata": {},
   "outputs": [
    {
     "data": {
      "image/png": "[encoded data removed]",
      "text/plain": [
       "<Figure size 576x216 with 30 Axes>"
      ]
     },
     "metadata": {},
     "output_type": "display_data"
    }
   ],
   "source": [
    "import matplotlib.pyplot as plt\n",
    "import numpy as np\n",
    "from sklearn import datasets\n",
    "from sklearn.decomposition import PCA\n",
    "\n",
    "\n",
    "# loading the digits data\n",
    "digits = datasets.load_digits()\n",
    "digitsX = digits.data    # the data, 1797 x 64 array\n",
    "digitsImages = digits.images  # image data, 1797 x 8 x 8\n",
    "digitsTargets = digits.target # target information\n",
    "digitsFeatureNames = digits.target_names  # digits\n",
    "\n",
    "\n",
    "# examples of the digits data\n",
    "plt.figure(figsize=(8,3))\n",
    "for iImg in range(3):\n",
    "    for jImg in range(10):\n",
    "        plt.subplot(3,10,iImg*10+jImg+1)\n",
    "        plt.imshow(digitsImages[iImg*10+jImg], cmap=plt.cm.gray_r,\n",
    "                   interpolation='nearest')\n",
    "        plt.xticks(())\n",
    "        plt.yticks(())\n",
    "plt.subplots_adjust(wspace=0.1, hspace=0.1)\n",
    "plt.show()"
   ]
  },
  {
   "cell_type": "markdown",
   "metadata": {},
   "source": [
    "Now let's run a PCA with 2 components, and plot the resulting PCs."
   ]
  },
  {
   "cell_type": "code",
   "execution_count": 18,
   "metadata": {},
   "outputs": [
    {
     "data": {
      "image/png": "[encoded data removed]",
      "text/plain": [
       "<Figure size 432x288 with 1 Axes>"
      ]
     },
     "metadata": {
      "needs_background": "light"
     },
     "output_type": "display_data"
    }
   ],
   "source": [
    "# PCA with largest 2 PCs\n",
    "digitsPCA = PCA(n_components=2)\n",
    "digitsPCs = digitsPCA.fit_transform(digitsX)\n",
    "\n",
    "\n",
    "# plotting the PCs\n",
    "targetColors=['red','gold','seagreen','blue','fuchsia',\n",
    "              'orange','lime','cyan','salmon','navy']\n",
    "for i in range(10):\n",
    "    plt.plot(digitsPCs[digitsTargets==i,0],\n",
    "             digitsPCs[digitsTargets==i,1],\n",
    "             marker='.', ls='none', c=targetColors[i],\n",
    "             label=digitsFeatureNames[i])\n",
    "plt.xlabel('PC1')\n",
    "plt.ylabel('PC2')\n",
    "plt.legend()\n",
    "plt.show()"
   ]
  },
  {
   "cell_type": "markdown",
   "metadata": {},
   "source": [
    "As you can see, some digits can be separated easily from other digits (e.g., 0, 4, and 6), whereas some digits are hard to distinguish. \n",
    "\n",
    "Now let's take a look at the *eigenimages* corresponding to PC1 and PC2."
   ]
  },
  {
   "cell_type": "code",
   "execution_count": 34,
   "metadata": {},
   "outputs": [
    {
     "data": {
      "image/png": "[encoded data removed]",
      "text/plain": [
       "<matplotlib.figure.Figure at 0x10ea21588>"
      ]
     },
     "metadata": {},
     "output_type": "display_data"
    }
   ],
   "source": [
    "# PC1 eigenimage\n",
    "plt.imshow(digitsPCA.components_[0,:].reshape([8,8]),cmap=plt.cm.gray_r,\n",
    "           interpolation='nearest')\n",
    "plt.xticks(())\n",
    "plt.yticks(())\n",
    "plt.show()"
   ]
  },
  {
   "cell_type": "code",
   "execution_count": 33,
   "metadata": {},
   "outputs": [
    {
     "data": {
      "image/png": "[encoded data removed]",
      "text/plain": [
       "<matplotlib.figure.Figure at 0x10c94b668>"
      ]
     },
     "metadata": {},
     "output_type": "display_data"
    }
   ],
   "source": [
    "# PC2 eigenimage\n",
    "plt.imshow(digitsPCA.components_[1,:].reshape([8,8]),cmap=plt.cm.gray_r,\n",
    "           interpolation='nearest')\n",
    "plt.xticks(())\n",
    "plt.yticks(())\n",
    "plt.show()"
   ]
  },
  {
   "cell_type": "markdown",
   "metadata": {},
   "source": [
    "In these eigenimages, darker pixels are the pixels contributing large variability, whereas lighter pixels contribute small variability."
   ]
  },
  {
   "cell_type": "markdown",
   "metadata": {},
   "source": [
    "### Exercise\n",
    "1. **Explaind variance plot**. Run a PCA on the digits data set with 64 components. Then plot the resulting explained variance ratios from the 1st to 64th PC. This plot is known as a ***Scree plot***.\n",
    "2. **Cumulative explained variance**. Run a PCA on the digits data set with 64 components. Using the cumulative sum function in NumPy, **`np.cumsum`**, calculate the cumulative explained variance from the 1st to 64th PC. Plot the resulting cumulative explained variance in a graph.\n"
   ]
  },
  {
   "cell_type": "code",
   "execution_count": 31,
   "metadata": {},
   "outputs": [
    {
     "data": {
      "image/png": "[encoded data removed]",
      "text/plain": [
       "<Figure size 432x288 with 1 Axes>"
      ]
     },
     "metadata": {
      "needs_background": "light"
     },
     "output_type": "display_data"
    }
   ],
   "source": [
    "# PCA with 64 PCs\n",
    "digitsPCA = PCA(n_components=64)\n",
    "digitsPCs = digitsPCA.fit_transform(digitsX)\n",
    "digitsPCA.explained_variance_ratio_\n",
    "\n",
    "import matplotlib.pyplot as plt\n",
    "\n",
    "PCs = range (1, 65)\n",
    "\n",
    "plt.plot(PCs, digitsPCA.explained_variance_ratio_, 'ro-', linewidth=2)\n",
    "plt.title('Scree Plot')\n",
    "plt.xlabel('Principal Component')\n",
    "plt.ylabel('Eigenvalue')\n",
    "plt.show()\n"
   ]
  },
  {
   "cell_type": "code",
   "execution_count": 30,
   "metadata": {},
   "outputs": [
    {
     "data": {
      "image/png": "[encoded data removed]",
      "text/plain": [
       "<Figure size 432x288 with 1 Axes>"
      ]
     },
     "metadata": {
      "needs_background": "light"
     },
     "output_type": "display_data"
    }
   ],
   "source": [
    "import numpy as np\n",
    "\n",
    "# PCA with 64 PCs\n",
    "\n",
    "x=[]\n",
    "for i in range (1,65):\n",
    "    digitsPCA = PCA(n_components=i)\n",
    "    digitsPCs = digitsPCA.fit_transform(digitsX)\n",
    "    y = np.cumsum(digitsPCA.explained_variance_ratio_)\n",
    "\n",
    "\n",
    "import matplotlib.pyplot as plt\n",
    "\n",
    "\n",
    "PCs = range (1, 65)\n",
    "\n",
    "plt.plot(PCs, y, 'ro-', linewidth=2)\n",
    "plt.title('Plot')\n",
    "plt.xlabel('# of Principal Component')\n",
    "plt.ylabel('Proportion Explained')\n",
    "plt.show()"
   ]
  },
  {
   "cell_type": "markdown",
   "metadata": {},
   "source": [
    "# 4. How many components?\n",
    "<hr style=\"height:1px;border:none\" />\n",
    "\n",
    "When you run a PCA, one of the major questions is to determine *how many components* are needed to adequately represent the data. While there are many different ways to answer this questions, we can briefly go over two approaches.\n",
    "\n",
    "## Scree plot\n",
    "You produce a Scree plot for your data, and figure out where the plot *elbows*, or the slope becomes less steep. Here is a Scree plot from a PCA with 7 components for the seed data (scaled)."
   ]
  },
  {
   "cell_type": "markdown",
   "metadata": {},
   "source": [
    "`<ScreePlot.py>`"
   ]
  },
  {
   "cell_type": "code",
   "execution_count": 2,
   "metadata": {},
   "outputs": [
    {
     "data": {
      "image/png": "[encoded data removed]",
      "text/plain": [
       "<Figure size 432x288 with 1 Axes>"
      ]
     },
     "metadata": {
      "needs_background": "light"
     },
     "output_type": "display_data"
    }
   ],
   "source": [
    "%matplotlib inline\n",
    "\n",
    "import numpy as np\n",
    "import pandas as pd\n",
    "import matplotlib.pyplot as plt\n",
    "from sklearn.decomposition import PCA\n",
    "from sklearn.preprocessing import StandardScaler\n",
    "\n",
    "# loading the data and standarsizing\n",
    "seedData = pd.read_csv('seeds_dataset.txt', sep='\\t', header=None)\n",
    "seedFeatures = np.array(seedData.iloc[:,:7])\n",
    "seedFeaturesNorm = StandardScaler().fit_transform(seedFeatures)\n",
    "\n",
    "# PCA\n",
    "seedPCA = PCA(n_components=7)\n",
    "seedPCs = seedPCA.fit_transform(seedFeaturesNorm)\n",
    "\n",
    "# Scree plot\n",
    "plt.plot(np.arange(1,8), seedPCA.explained_variance_ratio_)\n",
    "plt.xlabel('Component number')\n",
    "plt.ylabel('Proportion variance explained')\n",
    "plt.show()"
   ]
  },
  {
   "cell_type": "markdown",
   "metadata": {},
   "source": [
    "Here, you can see the elbow at PC2. So you can conclude that you want to use 2 PCs."
   ]
  },
  {
   "cell_type": "markdown",
   "metadata": {},
   "source": [
    "## Proportion explained variability\n",
    "\n",
    "Another criterion is that you want to choose the fewest PCs that can explain a certain proportion of variability (e.g., >90%). Here is the cumulative explained variance plot from the seed data analysis you just saw."
   ]
  },
  {
   "cell_type": "code",
   "execution_count": 3,
   "metadata": {},
   "outputs": [
    {
     "data": {
      "image/png": "[encoded data removed]",
      "text/plain": [
       "<Figure size 432x288 with 1 Axes>"
      ]
     },
     "metadata": {
      "needs_background": "light"
     },
     "output_type": "display_data"
    }
   ],
   "source": [
    "# Cumulative explained variance\n",
    "plt.plot(np.arange(1,8), np.cumsum(seedPCA.explained_variance_ratio_))\n",
    "plt.xlabel('Component number')\n",
    "plt.ylabel('Proportion variance explained')\n",
    "plt.show()"
   ]
  },
  {
   "cell_type": "markdown",
   "metadata": {},
   "source": [
    "Say, your criterion is that you want your PCs to explain 90% or more of the variability in the data. In that case, you will need 3 PCs to meet the criterion."
   ]
  }
 ],
 "metadata": {
  "kernelspec": {
   "display_name": "Python 3",
   "language": "python",
   "name": "python3"
  },
  "language_info": {
   "codemirror_mode": {
    "name": "ipython",
    "version": 3
   },
   "file_extension": ".py",
   "mimetype": "text/x-python",
   "name": "python",
   "nbconvert_exporter": "python",
   "pygments_lexer": "ipython3",
   "version": "3.7.1"
  }
 },
 "nbformat": 4,
 "nbformat_minor": 2
}
