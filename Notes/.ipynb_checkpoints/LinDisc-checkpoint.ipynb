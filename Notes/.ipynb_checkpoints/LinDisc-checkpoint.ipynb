{
 "cells": [
  {
   "cell_type": "markdown",
   "metadata": {},
   "source": [
    "<p style=\"text-align:center\">\n",
    "PSY 394U <b>Data Analytics with Python</b>, Spring 2019\n",
    "\n",
    "\n",
    "<img style=\"width: 700px; padding: 0px;\" src=\"https://github.com/sathayas/JupyterAnalyticsSpring2019/blob/master/Images/Banner.png?raw=true\" alt=\"title pics\"/>\n",
    "\n",
    "</p>\n",
    "\n",
    "\n",
    "<p style=\"text-align:center; font-size:40px; margin-bottom: 30px;\"><b> Linear discriminant analysis (LDA) </b></p>\n",
    "\n",
    "<p style=\"text-align:center; font-size:18px; margin-bottom: 32px;\"><b>February 12, 2019</b></p>\n",
    "\n",
    "<hr style=\"height:5px;border:none\" />"
   ]
  },
  {
   "cell_type": "markdown",
   "metadata": {},
   "source": [
    "# 1. What is a linear discriminant analysis?\n",
    "<hr style=\"height:1px;border:none\" />\n",
    "\n",
    "We have seen that a PCA is used to describe as much variability in the data with as few PCs as possible. The idea of a **linear discriminant analysis (LDA)** is somewhat similar to that. The main difference is that an LDA attempts to separate groups of observations, whereas PCA does not use any classification labels on the data. In other words, an LDA seeks a low-dimensional representation of data while separating groups as much as possible. An LDA utilizes the target information of observations; this is an example of ***supervised learning***.\n",
    "\n",
    "<img style=\"width: 554px; padding: 0px;\" src=\"https://github.com/sathayas/JupyterAnalyticsSpring2019/blob/master/Images/LDA_Projection.jpg?raw=true\" alt=\"Schematic of LDA, compared to PCA\"/>\n",
    "\n",
    "Like PCAs, components produced by an LDA are uncorrelated. "
   ]
  },
  {
   "cell_type": "markdown",
   "metadata": {
    "collapsed": true
   },
   "source": [
    "# 2. Example: Iris data\n",
    "<hr style=\"height:1px;border:none\" />\n",
    "\n",
    "Recall in our previous classes, we discovered that the Versicolors and the Virgnicas do not separate well in the iris data set, neither with a PCA nor a K-means clustering. We will apply an LDA to the iris data and see if we can separate the 3 classes of irises."
   ]
  },
  {
   "cell_type": "markdown",
   "metadata": {},
   "source": [
    "`<IrisLDA.py>`"
   ]
  },
  {
   "cell_type": "code",
   "execution_count": 1,
   "metadata": {},
   "outputs": [],
   "source": [
    "%matplotlib inline"
   ]
  },
  {
   "cell_type": "code",
   "execution_count": 2,
   "metadata": {},
   "outputs": [],
   "source": [
    "import matplotlib.pyplot as plt\n",
    "import numpy as np\n",
    "from sklearn import datasets\n",
    "from sklearn.decomposition import PCA\n",
    "from sklearn.discriminant_analysis import LinearDiscriminantAnalysis\n",
    "\n",
    "# Loading the iris data\n",
    "iris = datasets.load_iris()\n",
    "X = iris.data\n",
    "y = iris.target\n",
    "target_names = iris.target_names"
   ]
  },
  {
   "cell_type": "markdown",
   "metadata": {},
   "source": [
    "So, we loaded the data. The actual LDA is implemented as the **`LinearDiscriminantAnalysis`** transformation object, under **`sklearn.discriminant_analysis`**. Its use is very similar to other transformation ojbects we have seen for unsupervised learning (e.g., PCA, FactorAnalysis, etc.). However, since this is a supervised learning method, we need to enter the target information associated with observations. Note that the **`.fit`** and **`.fit_transform`** methods require the feature data, as well as the target data."
   ]
  },
  {
   "cell_type": "code",
   "execution_count": 3,
   "metadata": {},
   "outputs": [],
   "source": [
    "# Performing the linear discriminant analysis\n",
    "irisLDA = LinearDiscriminantAnalysis(n_components=2)\n",
    "X_LDA = irisLDA.fit_transform(X,y)"
   ]
  },
  {
   "cell_type": "markdown",
   "metadata": {},
   "source": [
    "Note that we used **`n_components=2`**. Now, let's take a look at the results, to see if the LDA can split the 3 classes of irises. Here, we plot LD (linear discriminant) 1 against LD2. "
   ]
  },
  {
   "cell_type": "code",
   "execution_count": 4,
   "metadata": {},
   "outputs": [
    {
     "data": {
      "image/png": "[encoded data removed]",
      "text/plain": [
       "<Figure size 432x288 with 1 Axes>"
      ]
     },
     "metadata": {},
     "output_type": "display_data"
    }
   ],
   "source": [
    "# Plotting the first and second LDs\n",
    "plt.scatter(X_LDA[:,0],X_LDA[:,1],c=y,marker='+')\n",
    "plt.xlabel('LD1')\n",
    "plt.ylabel('LD2')\n",
    "plt.title('Linear discriminant analysis')\n",
    "plt.show()"
   ]
  },
  {
   "cell_type": "markdown",
   "metadata": {},
   "source": [
    "You can see a good separation of different classes. Just as a comparison, we can run a PCA with the same number of components."
   ]
  },
  {
   "cell_type": "code",
   "execution_count": 5,
   "metadata": {},
   "outputs": [
    {
     "data": {
      "image/png": "[encoded data removed]",
      "text/plain": [
       "<Figure size 576x288 with 2 Axes>"
      ]
     },
     "metadata": {},
     "output_type": "display_data"
    }
   ],
   "source": [
    "### Just as a comparison, PCA with the same number of components\n",
    "irisPCA = PCA(n_components=2)\n",
    "X_PCA = irisPCA.fit_transform(X)\n",
    "\n",
    "plt.figure(figsize=[8,4])\n",
    "# Plotting the first and second LDs\n",
    "plt.subplot(121)\n",
    "plt.scatter(X_LDA[:,0],X_LDA[:,1],c=y,marker='+')\n",
    "plt.xlabel('LD1')\n",
    "plt.ylabel('LD2')\n",
    "plt.title('Linear discriminant analysis')\n",
    "\n",
    "# Plotting the first and second PCs\n",
    "plt.subplot(122)\n",
    "plt.scatter(X_PCA[:,0],X_PCA[:,1],c=y,marker='+')\n",
    "plt.xlabel('PC1')\n",
    "plt.ylabel('PC2')\n",
    "plt.title('Principal component analysis')\n",
    "plt.show()"
   ]
  },
  {
   "cell_type": "markdown",
   "metadata": {},
   "source": [
    "You can examine contributions of different features on LD components, by examining the **`scalings_`** attribute of the LDA object. Here, we see examine LD1 and LD2."
   ]
  },
  {
   "cell_type": "code",
   "execution_count": 6,
   "metadata": {},
   "outputs": [
    {
     "name": "stdout",
     "output_type": "stream",
     "text": [
      "[ 0.81926852  1.5478732  -2.18494056 -2.85385002]\n"
     ]
    }
   ],
   "source": [
    "# LD1\n",
    "print(irisLDA.scalings_[:,0])"
   ]
  },
  {
   "cell_type": "markdown",
   "metadata": {},
   "source": [
    "In LD1, the contributions from the petal length and width are large."
   ]
  },
  {
   "cell_type": "code",
   "execution_count": 7,
   "metadata": {},
   "outputs": [
    {
     "name": "stdout",
     "output_type": "stream",
     "text": [
      "[ 0.03285975  2.15471106 -0.93024679  2.8060046 ]\n"
     ]
    }
   ],
   "source": [
    "# LD2\n",
    "print(irisLDA.scalings_[:,1])"
   ]
  },
  {
   "cell_type": "markdown",
   "metadata": {},
   "source": [
    "In LD2, the contributions from the sepal and petal widths seem to dominate."
   ]
  },
  {
   "cell_type": "markdown",
   "metadata": {},
   "source": [
    "# 3. Example: Seed data\n",
    "<hr style=\"height:1px;border:none\" />\n",
    "\n",
    "Remember the seed data from the [PCA lecture](https://nbviewer.jupyter.org/github/sathayas/JupyterAnalyticsSpring2019/blob/master/PCA.ipynb) describing various characteristics of 3 classes of wheat kernels (Kama, Rosa, and Canadian, N=70 each class). Here, we load the data and standardize it first."
   ]
  },
  {
   "cell_type": "markdown",
   "metadata": {},
   "source": [
    "`<SeedLDA.py>`"
   ]
  },
  {
   "cell_type": "code",
   "execution_count": 8,
   "metadata": {},
   "outputs": [],
   "source": [
    "import numpy as np\n",
    "import pandas as pd\n",
    "import matplotlib.pyplot as plt\n",
    "from sklearn.preprocessing import StandardScaler\n",
    "from sklearn.discriminant_analysis import LinearDiscriminantAnalysis\n",
    "\n",
    "# loadin the data and standardizing it\n",
    "seedData = pd.read_csv('seeds_dataset.txt', sep='\\t', header=None)\n",
    "seedFeatures = np.array(seedData.iloc[:,:7])\n",
    "seedTargets = np.array(seedData.iloc[:,7]) - 1 # starting from zero\n",
    "targetNames = ['Kama','Rosa','Canadian']\n",
    "targetColors = ['red','blue','green']\n",
    "seedFeaturesNorm = StandardScaler().fit_transform(seedFeatures)"
   ]
  },
  {
   "cell_type": "markdown",
   "metadata": {},
   "source": [
    "### Exercise\n",
    "1. **Seed data LDA**. Perform an LDA on the standardized seed data, with 2 LDs. Plot LD1 vs. LD2 and denote different classes of kernels with different colors (you may use **`plt.scatter`**). "
   ]
  },
  {
   "cell_type": "code",
   "execution_count": null,
   "metadata": {},
   "outputs": [],
   "source": [
    "# Performing the linear discriminant analysis\n",
    "seedLDA = LinearDiscriminantAnalysis(n_components=2)\n",
    "seedFeaturesNorm_LDA = seedLDA.fit_transform(seedFeaturesNorm,seedTargets)\n",
    "\n",
    "# Plotting the first and second LDs\n",
    "plt.scatter(seedFeaturesNorm_LDA[:,0],seedFeaturesNorm_LDA[:,1],c=seedTargets,marker='+')\n",
    "plt.xlabel('LD1')\n",
    "plt.ylabel('LD2')\n",
    "plt.title('Linear discriminant analysis')\n",
    "plt.show()\n",
    "\n"
   ]
  },
  {
   "cell_type": "markdown",
   "metadata": {},
   "source": [
    "# 4. Dimension reduction with LDA\n",
    "<hr style=\"height:1px;border:none\" />\n",
    "\n",
    "Like PCAs, an LDA can be used as a means to reduce the data dimension, in a way that classes in the data are maximally separated. To demonstrate this, we will re-visit the [digits data](https://nbviewer.jupyter.org/github/sathayas/JupyterAnalyticsSpring2019/blob/master/PCA.ipynb). In brief, the data set contains images of hand-written digits; there are 10 classes in this data set, corresponding to digits 0-9. Let's load the data."
   ]
  },
  {
   "cell_type": "markdown",
   "metadata": {},
   "source": [
    "`<DigitsLDA.py>`"
   ]
  },
  {
   "cell_type": "code",
   "execution_count": 9,
   "metadata": {},
   "outputs": [],
   "source": [
    "import matplotlib.pyplot as plt\n",
    "import numpy as np\n",
    "from sklearn import datasets\n",
    "from sklearn.discriminant_analysis import LinearDiscriminantAnalysis\n",
    "\n",
    "\n",
    "# loading the digits data\n",
    "digits = datasets.load_digits()\n",
    "digitsX = digits.data    # the data, 1797 x 64 array\n",
    "digitsTargets = digits.target # target information\n",
    "digitsFeatureNames = digits.target_names  # digits"
   ]
  },
  {
   "cell_type": "markdown",
   "metadata": {},
   "source": [
    "Then let's perform an LDA. In this case, I do not specify **`n_components`**. If I do not specify `n_components`, then `LinearDiscriminantAnalysis` calculated as many components as necessary to achieve the cumulative explained variance of 1.0. In other words, the number of components necessary to explain all the variance in the data. Since we are providing the class information, the number of components may be significantly smaller than the number of all available features. Upon examining the Scree plot (using the **`.explained_variance_ratio_`** as in a PCA), we can see that there are only 9 components resulting from this LDA."
   ]
  },
  {
   "cell_type": "code",
   "execution_count": 10,
   "metadata": {},
   "outputs": [
    {
     "name": "stderr",
     "output_type": "stream",
     "text": [
      "/Library/Frameworks/Python.framework/Versions/3.6/lib/python3.6/site-packages/sklearn/discriminant_analysis.py:388: UserWarning: Variables are collinear.\n",
      "  warnings.warn(\"Variables are collinear.\")\n"
     ]
    },
    {
     "data": {
      "image/png": "[encoded data removed]",
      "text/plain": [
       "<Figure size 432x288 with 1 Axes>"
      ]
     },
     "metadata": {},
     "output_type": "display_data"
    }
   ],
   "source": [
    "# Performing the linear discriminant analysis\n",
    "digitsLDA = LinearDiscriminantAnalysis()\n",
    "X_LDA = digitsLDA.fit_transform(digitsX,digitsTargets)\n",
    "\n",
    "# plotting the Scree plot\n",
    "plt.plot(np.arange(1,len(digitsLDA.explained_variance_ratio_)+1),\n",
    "         digitsLDA.explained_variance_ratio_)\n",
    "plt.xlabel('Number of components')\n",
    "plt.ylabel('Variance explained')\n",
    "plt.show()\n"
   ]
  },
  {
   "cell_type": "markdown",
   "metadata": {},
   "source": [
    "You can determine the number of components based on the *elbow* on the Scree plot, or cumulative explained variance exceesing a certain threshold (e.g., 90% or variability explained)."
   ]
  },
  {
   "cell_type": "code",
   "execution_count": 11,
   "metadata": {},
   "outputs": [
    {
     "data": {
      "image/png": "[encoded data removed]",
      "text/plain": [
       "<Figure size 432x288 with 1 Axes>"
      ]
     },
     "metadata": {},
     "output_type": "display_data"
    }
   ],
   "source": [
    "# plotting the cumulative explained variance\n",
    "plt.plot(np.arange(1,len(digitsLDA.explained_variance_ratio_)+1),\n",
    "         np.cumsum(digitsLDA.explained_variance_ratio_))\n",
    "plt.xlabel('Number of components')\n",
    "plt.ylabel('Variance explained')\n",
    "plt.show()"
   ]
  },
  {
   "cell_type": "markdown",
   "metadata": {},
   "source": [
    "To examine the results, I plotted LD1 vs. LD2, with different digits denoted by different colors."
   ]
  },
  {
   "cell_type": "code",
   "execution_count": 12,
   "metadata": {},
   "outputs": [
    {
     "data": {
      "image/png": "[encoded data removed]",
      "text/plain": [
       "<Figure size 432x288 with 1 Axes>"
      ]
     },
     "metadata": {},
     "output_type": "display_data"
    }
   ],
   "source": [
    "# Plotting the first and second LDs\n",
    "plt.scatter(X_LDA[:,0],X_LDA[:,1],c=digitsTargets,marker='+')\n",
    "plt.xlabel('LD1')\n",
    "plt.ylabel('LD2')\n",
    "plt.title('Linear discriminant analysis')\n",
    "plt.show()"
   ]
  },
  {
   "cell_type": "markdown",
   "metadata": {},
   "source": [
    "# 5. LDA classifier\n",
    "<hr style=\"height:1px;border:none\" />\n",
    "\n",
    "Once we fit a data set to an LDA object, then it produces boundaries between different classes in the LD space. We can exploit such boundaries to ***classify*** (or assign a class label) if we have another data set with features but not targets. Here, we examine an LDA ***classifier*** resulting from the iris data analysis we saw earlier. "
   ]
  },
  {
   "cell_type": "markdown",
   "metadata": {},
   "source": [
    "`<IrisLDAPred.py>`"
   ]
  },
  {
   "cell_type": "code",
   "execution_count": 13,
   "metadata": {},
   "outputs": [],
   "source": [
    "import matplotlib.pyplot as plt\n",
    "import numpy as np\n",
    "from sklearn import datasets\n",
    "from sklearn.discriminant_analysis import LinearDiscriminantAnalysis\n",
    "from sklearn.model_selection import train_test_split\n",
    "from sklearn.metrics import confusion_matrix, classification_report\n",
    "\n",
    "\n",
    "# Loading the iris data\n",
    "iris = datasets.load_iris()\n",
    "X = iris.data\n",
    "y = iris.target\n",
    "target_names = iris.target_names"
   ]
  },
  {
   "cell_type": "markdown",
   "metadata": {},
   "source": [
    "## Training and testing data\n",
    "\n",
    "When you have a classifier, and want to examine how accurately it can classify, it is a good idea to have two separate data sets: **training data** and **testing data**. The training data is used to estimate the LDA classifier, including the boundaries between different classes. Both the features and the target information from the training data set are used to generate a classifier. Then the feature informaiotn from the testing data is fit to the classifier, in order to examine how accurately it can classify, or predict the class labels. The accuracy is assessed based on the target information from the test data set. \n",
    "\n",
    "There is a function called **`train_test_split`** under **`sklearn.model_selection`**. This function randomly split a data set into training and testing data sets. You can specify the proportion of the data to be saved later as the testing data (**`test_size`** parameter). In this example, we will use 40% (`test_size=0.4`) as the testing data."
   ]
  },
  {
   "cell_type": "code",
   "execution_count": 14,
   "metadata": {},
   "outputs": [],
   "source": [
    "# spliting the data into training and testing data sets\n",
    "X_train, X_test, y_train, y_test = train_test_split(X, y, test_size=0.4)"
   ]
  },
  {
   "cell_type": "markdown",
   "metadata": {},
   "source": [
    "Notice that it splits the features (the first two output parameters) and the targets (the last two output parameters). "
   ]
  },
  {
   "cell_type": "markdown",
   "metadata": {},
   "source": [
    "## Fitting an LDA on the training data\n",
    "\n",
    "Now let's fit the LDA on the training data."
   ]
  },
  {
   "cell_type": "code",
   "execution_count": 15,
   "metadata": {},
   "outputs": [],
   "source": [
    "# Fitting the LDA to the training data\n",
    "irisLDA = LinearDiscriminantAnalysis(n_components=2)\n",
    "X_train_LDA = irisLDA.fit_transform(X_train,y_train)"
   ]
  },
  {
   "cell_type": "markdown",
   "metadata": {},
   "source": [
    "## Fitting the testing data to the LDA classifier\n",
    "\n",
    "Now the LDA classifier is available as **`irisLDA`**. Then we use the **`.fit`** method to transform the testing data features into the LD space. Also, we produce the predicted target labels using the **`.predict`** method, based on the testing data features."
   ]
  },
  {
   "cell_type": "code",
   "execution_count": 16,
   "metadata": {},
   "outputs": [],
   "source": [
    "# Classification on the testing data\n",
    "X_test_LDA = irisLDA.transform(X_test)\n",
    "y_pred = irisLDA.predict(X_test)"
   ]
  },
  {
   "cell_type": "markdown",
   "metadata": {},
   "source": [
    "Just to see how accurate the classification results are, we plot the training data set with '+' and the testing data set with triangles. "
   ]
  },
  {
   "cell_type": "code",
   "execution_count": 17,
   "metadata": {},
   "outputs": [
    {
     "data": {
      "image/png": "[encoded data removed]",
      "text/plain": [
       "<Figure size 432x288 with 1 Axes>"
      ]
     },
     "metadata": {},
     "output_type": "display_data"
    }
   ],
   "source": [
    "# Plotting the training and testing data\n",
    "plt.scatter(X_train_LDA[:,0],X_train_LDA[:,1],c=y_train,marker='+') # training data\n",
    "plt.scatter(X_test_LDA[:,0],X_test_LDA[:,1],c=y_pred,marker='^') # testing data\n",
    "plt.xlabel('LD1')\n",
    "plt.ylabel('LD2')\n",
    "plt.title('Linear discriminant analysis')\n",
    "plt.show()"
   ]
  },
  {
   "cell_type": "markdown",
   "metadata": {},
   "source": [
    "As you can see, the classification of the testing data seems fairly accurate."
   ]
  },
  {
   "cell_type": "markdown",
   "metadata": {},
   "source": [
    "## Assessing the classification performance\n",
    "\n",
    "We can examine the classification results more closely. A good tool to examine classification results is a **confusion matrix**. In this matrix, the rows represent true class labels, and the columns represent different classes in the predicted classes from the testing data. If everything is classified accurately, then all observations are tallied on the main diagonal. Any off-diagonal elements are mis-classified observations. The confusion matrix allows us to examine in which categories observations are incorrectly classified. \n",
    "\n",
    "There is a function called **`confusion_matrix`** under **`sklearn.metrics`**. You just need to provide the target labels (the first input argument) and predicted labels (the second input argument). "
   ]
  },
  {
   "cell_type": "code",
   "execution_count": 18,
   "metadata": {},
   "outputs": [
    {
     "data": {
      "text/plain": [
       "array([[26,  0,  0],\n",
       "       [ 0, 15,  1],\n",
       "       [ 0,  1, 17]])"
      ]
     },
     "execution_count": 18,
     "metadata": {},
     "output_type": "execute_result"
    }
   ],
   "source": [
    "# Confusion matrix\n",
    "confusion_matrix(y_test,y_pred)"
   ]
  },
  {
   "cell_type": "markdown",
   "metadata": {},
   "source": [
    "Here, we see that all Setosas (first row / first column) are classified correctly. However, one Versicolor (second row) was classified as Virginica (third column).\n",
    "\n",
    "There is also a function called **`classification_report`** under **`sklearn.metrics`**. This function calculates various metrics of classification performance under different classes. Like the `confusion_matrix` function, you provide the target labels (the first input argument) and predicted labels (the second input argument). You can also provide the target names as the parameter **`target_names`**."
   ]
  },
  {
   "cell_type": "code",
   "execution_count": 19,
   "metadata": {},
   "outputs": [
    {
     "name": "stdout",
     "output_type": "stream",
     "text": [
      "             precision    recall  f1-score   support\n",
      "\n",
      "     setosa       1.00      1.00      1.00        26\n",
      " versicolor       0.94      0.94      0.94        16\n",
      "  virginica       0.94      0.94      0.94        18\n",
      "\n",
      "avg / total       0.97      0.97      0.97        60\n",
      "\n"
     ]
    }
   ],
   "source": [
    "# classification report\n",
    "print(classification_report(y_test, y_pred, target_names=target_names))"
   ]
  },
  {
   "cell_type": "markdown",
   "metadata": {},
   "source": [
    "Here, \n",
    "  * **`precision`** refers to the ratio of the true positives (tp) to the sum of true positives (tp) and false positives (fp). i.e., tp/(tp+fp). In other words, the proportion of true positives among all positives discovered by the classifier.\n",
    "  * **`recall`** refers to the ratio of the true positives (tp) to the sum of the true positives (tp) and false negatives (fn). i.e., tp/(tp+fn). In other words, the proportion of all positives discovered by the classifier among all the positives that should have been discovered by the classifier.\n",
    "  * **`support`** refers to the number of observations in that class. "
   ]
  },
  {
   "cell_type": "markdown",
   "metadata": {},
   "source": [
    "# 6. LDA classifier application: breast cancer data\n",
    "<hr style=\"height:1px;border:none\" />\n",
    "\n",
    "Now let's apply an LDA classifier to another data set, found in the file **`WiscBrCa_clean.csv`**. This data set contains various pathological measurements of N=683 breast tumors, along with the diagnosis (benign or malignant). Here are the variables:\n",
    "\n",
    "  * **`ID`**: ID number \n",
    "  * **`ClumpThick`**: Clump thickness, integer 1 - 10 \n",
    "  * **`UniCellSize`**: Uniformity of cell size, integer 1 - 10 \n",
    "  * **`UniCellShape`**: Uniformity of cell shape, integer 1 - 10 \n",
    "  * **`Adhesion`**: Marginal adhesion, integer 1 - 10 \n",
    "  * **`EpiCellSize`**: Single epithelial cell size, integer 1 - 10 \n",
    "  * **`BareNuc`**: Bare nuclei, integer 1 - 10 \n",
    "  * **`Chromatin`**: Bland chromatin, integer 1 - 10 \n",
    "  * **`Nucleoli`**: Normal nucleoli, integer 1 - 10 \n",
    "  * **`Mitoses`**: Mitoses, integer 1 - 10 \n",
    "  * **`Class`**: Diagnosis (2 for benign, 4 for malignant)\n",
    "\n",
    "We will use 9 features (**`ClumpThick` - `Mitoses`**), as well as the diagnosis **`Class`** (converted to 0: benign and 1: malignant).\n"
   ]
  },
  {
   "cell_type": "markdown",
   "metadata": {},
   "source": [
    "`<WiscBrCaLDAPred.py>`"
   ]
  },
  {
   "cell_type": "code",
   "execution_count": 23,
   "metadata": {
    "collapsed": true
   },
   "outputs": [],
   "source": [
    "import matplotlib.pyplot as plt\n",
    "import numpy as np\n",
    "import pandas as pd\n",
    "from sklearn import datasets\n",
    "from sklearn.discriminant_analysis import LinearDiscriminantAnalysis\n",
    "from sklearn.model_selection import train_test_split\n",
    "from sklearn.metrics import confusion_matrix, classification_report\n",
    "\n",
    "\n",
    "# loading the data, extracting features and targets\n",
    "BrCaData = pd.read_csv('WiscBrCa_clean.csv')\n",
    "BrCaFeatures = np.array(BrCaData.iloc[:,1:10])\n",
    "BrCaTargets = np.int_(np.array(BrCaData.iloc[:,10]) /2 -1)  # 0: benign, 1: malignant\n",
    "featureNames = np.array(BrCaData.columns[1:10])\n",
    "targetNames = ['Benign','Malignant']"
   ]
  },
  {
   "cell_type": "markdown",
   "metadata": {},
   "source": [
    "### Exercise\n",
    "1. **LDA on the BrCa training data**. Split the data set so that 33% of observations are set aside as the testing data. Then perform an LDA with one component to the training data. Print out the *scalings* resulting from the LDA and determine which features contribute most to the LD.\n",
    "2. **LDA classifier performance**. Fit the testing data to the LDA model from the earlier and generate predicted labels. Assess the classifier performance by generating a confusion matrix and a classification report.  "
   ]
  },
  {
   "cell_type": "code",
   "execution_count": null,
   "metadata": {},
   "outputs": [],
   "source": [
    "# spliting the data into training and testing data sets\n",
    "X_train, X_test, y_train, y_test = train_test_split(BrCaFeatures, BrCaTargets, test_size=0.33)\n",
    "\n",
    "# Fitting the LDA to the training data\n",
    "wiscLDA = LinearDiscriminantAnalysis(n_components=1)\n",
    "X_train_LDA = wiscLDA.fit_transform(X_train,y_train)\n",
    "\n",
    "# LD scaling\n",
    "print(wiscLDA.scalings_[:,0])\n",
    "\n",
    "# Classification on the testing data\n",
    "X_test_LDA = wiscLDA.transform(X_test)\n",
    "y_pred = wiscLDA.predict(X_test)\n",
    "\n",
    "# Confusion matrix\n",
    "print(confusion_matrix(y_test,y_pred))\n",
    "\n",
    "# classification report\n",
    "print(classification_report(y_test, y_pred, target_names=targetNames))"
   ]
  }
 ],
 "metadata": {
  "kernelspec": {
   "display_name": "Python 3",
   "language": "python",
   "name": "python3"
  },
  "language_info": {
   "codemirror_mode": {
    "name": "ipython",
    "version": 3
   },
   "file_extension": ".py",
   "mimetype": "text/x-python",
   "name": "python",
   "nbconvert_exporter": "python",
   "pygments_lexer": "ipython3",
   "version": "3.7.1"
  }
 },
 "nbformat": 4,
 "nbformat_minor": 2
}
