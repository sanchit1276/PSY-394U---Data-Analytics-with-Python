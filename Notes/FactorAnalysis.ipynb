{
 "cells": [
  {
   "cell_type": "markdown",
   "metadata": {},
   "source": [
    "<p style=\"text-align:center\">\n",
    "PSY 394U <b>Data Analytics with Python</b>, Spring 2019\n",
    "\n",
    "\n",
    "<img style=\"width: 700px; padding: 0px;\" src=\"https://github.com/sathayas/JupyterAnalyticsSpring2019/blob/master/Images/Banner.png?raw=true\" alt=\"title pics\"/>\n",
    "\n",
    "</p>\n",
    "\n",
    "<p style=\"text-align:center; font-size:40px; margin-bottom: 30px;\"><b>Factor Analysis</b></p>\n",
    "\n",
    "<p style=\"text-align:center; font-size:18px; margin-bottom: 32px;\"><b>January 31, 2019</b></p>\n",
    "\n",
    "<hr style=\"height:5px;border:none\" />"
   ]
  },
  {
   "cell_type": "markdown",
   "metadata": {},
   "source": [
    "# 1. What is a factor analysis\n",
    "<hr style=\"height:1px;border:none\" />\n",
    "\n",
    "A **factor analysis** is similar to a PCA in a sense that it seeks a small number of factors to explain the data. However, conceptually a PCA and a factor analysis are different. While a PCA seeks to summarize the variability in a data with correlated features as uncorrelated principal components, a factor analysis tries to describe each of correlated features as a linear combination of a small number of uncorrelated variables, known as latent variables, or factors. In other words, the goal of a factor analysis is to describe the data with a small number of factors.\n",
    "\n",
    "A factor analysis makes additional assumptions not in a PCA:\n",
    "  * Latent variables are distributed as independent Gaussian random variables.\n",
    "  * Latent variables have zero mean and unit variance.\n",
    "  \n",
    "To understand a factor analysis, let's take a look at a simple example."
   ]
  },
  {
   "cell_type": "markdown",
   "metadata": {},
   "source": [
    "# 2. Example\n",
    "<hr style=\"height:1px;border:none\" />\n",
    "\n",
    "## Data\n",
    "The data set for this example, **`wiscsem.txt`** consists of the Weschler Intelligence Scale for Children (WISC) of 175 children. There are 11 features in this data set.\n",
    "\n",
    " * `info`: Information\n",
    " * `comp`: Comprehension\n",
    " * `arith`: Arithmetic\n",
    " * `simil`: Similarities\n",
    " * `vocab`: Vocabulary\n",
    " * `digit`: Digit Span\n",
    " * `pictcomp`: Picture Completion\n",
    " * `parang`: Paragraph Arrangement\n",
    " * `block`: Block Design\n",
    " * `object`: Object Assembly\n",
    " * `coding`: Coding\n",
    " \n",
    "<p style=\"text-align:center; font-size:10px; margin-top: 12px; margin-bottom: 12px;\"> \n",
    "Source: Tabachnick & Fidell, *Using Multivariate Statistics*, 6th Ed. Pearson.\n",
    "http://media.pearsoncmg.com/ab/ab_tabachnick_multistats_6/datafiles/ASCII/wiscsem.dat </p>\n",
    "\n",
    "Here is a code snippet to load the data."
   ]
  },
  {
   "cell_type": "markdown",
   "metadata": {},
   "source": [
    "`<WiscFA.py>`"
   ]
  },
  {
   "cell_type": "code",
   "execution_count": 1,
   "metadata": {},
   "outputs": [],
   "source": [
    "%matplotlib inline"
   ]
  },
  {
   "cell_type": "code",
   "execution_count": 2,
   "metadata": {},
   "outputs": [],
   "source": [
    "import numpy as np\n",
    "import pandas as pd\n",
    "import matplotlib.pyplot as plt\n",
    "from sklearn.decomposition import FactorAnalysis\n",
    "\n",
    "# loadin the data\n",
    "wiscData = pd.read_csv('wiscsem.txt', sep='\\t')\n",
    "wiscFeatures = np.array(wiscData.iloc[:,2:13])\n",
    "featureNames = np.array(wiscData.columns[2:13])"
   ]
  },
  {
   "cell_type": "code",
   "execution_count": 4,
   "metadata": {},
   "outputs": [
    {
     "data": {
      "text/html": [
       "<div>\n",
       "<style scoped>\n",
       "    .dataframe tbody tr th:only-of-type {\n",
       "        vertical-align: middle;\n",
       "    }\n",
       "\n",
       "    .dataframe tbody tr th {\n",
       "        vertical-align: top;\n",
       "    }\n",
       "\n",
       "    .dataframe thead th {\n",
       "        text-align: right;\n",
       "    }\n",
       "</style>\n",
       "<table border=\"1\" class=\"dataframe\">\n",
       "  <thead>\n",
       "    <tr style=\"text-align: right;\">\n",
       "      <th></th>\n",
       "      <th>client</th>\n",
       "      <th>agemate</th>\n",
       "      <th>info</th>\n",
       "      <th>comp</th>\n",
       "      <th>arith</th>\n",
       "      <th>simil</th>\n",
       "      <th>vocab</th>\n",
       "      <th>digit</th>\n",
       "      <th>pictcomp</th>\n",
       "      <th>parang</th>\n",
       "      <th>block</th>\n",
       "      <th>object</th>\n",
       "      <th>coding</th>\n",
       "    </tr>\n",
       "  </thead>\n",
       "  <tbody>\n",
       "    <tr>\n",
       "      <th>count</th>\n",
       "      <td>175.000000</td>\n",
       "      <td>175.000000</td>\n",
       "      <td>175.000000</td>\n",
       "      <td>175.000000</td>\n",
       "      <td>175.000000</td>\n",
       "      <td>175.000000</td>\n",
       "      <td>175.000000</td>\n",
       "      <td>175.000000</td>\n",
       "      <td>175.000000</td>\n",
       "      <td>175.000000</td>\n",
       "      <td>175.000000</td>\n",
       "      <td>175.000000</td>\n",
       "      <td>175.000000</td>\n",
       "    </tr>\n",
       "    <tr>\n",
       "      <th>mean</th>\n",
       "      <td>119.485714</td>\n",
       "      <td>2.051429</td>\n",
       "      <td>9.497143</td>\n",
       "      <td>10.000000</td>\n",
       "      <td>9.000000</td>\n",
       "      <td>10.611429</td>\n",
       "      <td>10.702857</td>\n",
       "      <td>8.731429</td>\n",
       "      <td>10.680000</td>\n",
       "      <td>10.371429</td>\n",
       "      <td>10.314286</td>\n",
       "      <td>10.902857</td>\n",
       "      <td>8.548571</td>\n",
       "    </tr>\n",
       "    <tr>\n",
       "      <th>std</th>\n",
       "      <td>71.576248</td>\n",
       "      <td>0.954533</td>\n",
       "      <td>2.912269</td>\n",
       "      <td>2.965317</td>\n",
       "      <td>2.306911</td>\n",
       "      <td>3.183630</td>\n",
       "      <td>2.932721</td>\n",
       "      <td>2.704166</td>\n",
       "      <td>2.934221</td>\n",
       "      <td>2.659679</td>\n",
       "      <td>2.709831</td>\n",
       "      <td>2.843978</td>\n",
       "      <td>2.872118</td>\n",
       "    </tr>\n",
       "    <tr>\n",
       "      <th>min</th>\n",
       "      <td>3.000000</td>\n",
       "      <td>0.000000</td>\n",
       "      <td>3.000000</td>\n",
       "      <td>0.000000</td>\n",
       "      <td>4.000000</td>\n",
       "      <td>2.000000</td>\n",
       "      <td>2.000000</td>\n",
       "      <td>0.000000</td>\n",
       "      <td>2.000000</td>\n",
       "      <td>2.000000</td>\n",
       "      <td>2.000000</td>\n",
       "      <td>3.000000</td>\n",
       "      <td>0.000000</td>\n",
       "    </tr>\n",
       "    <tr>\n",
       "      <th>25%</th>\n",
       "      <td>55.500000</td>\n",
       "      <td>1.000000</td>\n",
       "      <td>8.000000</td>\n",
       "      <td>8.000000</td>\n",
       "      <td>7.000000</td>\n",
       "      <td>9.000000</td>\n",
       "      <td>9.000000</td>\n",
       "      <td>7.000000</td>\n",
       "      <td>9.000000</td>\n",
       "      <td>9.000000</td>\n",
       "      <td>9.000000</td>\n",
       "      <td>9.000000</td>\n",
       "      <td>6.000000</td>\n",
       "    </tr>\n",
       "    <tr>\n",
       "      <th>50%</th>\n",
       "      <td>118.000000</td>\n",
       "      <td>2.000000</td>\n",
       "      <td>10.000000</td>\n",
       "      <td>10.000000</td>\n",
       "      <td>9.000000</td>\n",
       "      <td>11.000000</td>\n",
       "      <td>10.000000</td>\n",
       "      <td>8.000000</td>\n",
       "      <td>11.000000</td>\n",
       "      <td>10.000000</td>\n",
       "      <td>10.000000</td>\n",
       "      <td>11.000000</td>\n",
       "      <td>9.000000</td>\n",
       "    </tr>\n",
       "    <tr>\n",
       "      <th>75%</th>\n",
       "      <td>183.500000</td>\n",
       "      <td>3.000000</td>\n",
       "      <td>11.500000</td>\n",
       "      <td>12.000000</td>\n",
       "      <td>10.500000</td>\n",
       "      <td>12.000000</td>\n",
       "      <td>12.000000</td>\n",
       "      <td>11.000000</td>\n",
       "      <td>13.000000</td>\n",
       "      <td>12.000000</td>\n",
       "      <td>12.000000</td>\n",
       "      <td>13.000000</td>\n",
       "      <td>11.000000</td>\n",
       "    </tr>\n",
       "    <tr>\n",
       "      <th>max</th>\n",
       "      <td>241.000000</td>\n",
       "      <td>6.000000</td>\n",
       "      <td>19.000000</td>\n",
       "      <td>18.000000</td>\n",
       "      <td>16.000000</td>\n",
       "      <td>18.000000</td>\n",
       "      <td>19.000000</td>\n",
       "      <td>16.000000</td>\n",
       "      <td>19.000000</td>\n",
       "      <td>17.000000</td>\n",
       "      <td>18.000000</td>\n",
       "      <td>19.000000</td>\n",
       "      <td>15.000000</td>\n",
       "    </tr>\n",
       "  </tbody>\n",
       "</table>\n",
       "</div>"
      ],
      "text/plain": [
       "           client     agemate        info        comp       arith       simil  \\\n",
       "count  175.000000  175.000000  175.000000  175.000000  175.000000  175.000000   \n",
       "mean   119.485714    2.051429    9.497143   10.000000    9.000000   10.611429   \n",
       "std     71.576248    0.954533    2.912269    2.965317    2.306911    3.183630   \n",
       "min      3.000000    0.000000    3.000000    0.000000    4.000000    2.000000   \n",
       "25%     55.500000    1.000000    8.000000    8.000000    7.000000    9.000000   \n",
       "50%    118.000000    2.000000   10.000000   10.000000    9.000000   11.000000   \n",
       "75%    183.500000    3.000000   11.500000   12.000000   10.500000   12.000000   \n",
       "max    241.000000    6.000000   19.000000   18.000000   16.000000   18.000000   \n",
       "\n",
       "            vocab       digit    pictcomp      parang       block      object  \\\n",
       "count  175.000000  175.000000  175.000000  175.000000  175.000000  175.000000   \n",
       "mean    10.702857    8.731429   10.680000   10.371429   10.314286   10.902857   \n",
       "std      2.932721    2.704166    2.934221    2.659679    2.709831    2.843978   \n",
       "min      2.000000    0.000000    2.000000    2.000000    2.000000    3.000000   \n",
       "25%      9.000000    7.000000    9.000000    9.000000    9.000000    9.000000   \n",
       "50%     10.000000    8.000000   11.000000   10.000000   10.000000   11.000000   \n",
       "75%     12.000000   11.000000   13.000000   12.000000   12.000000   13.000000   \n",
       "max     19.000000   16.000000   19.000000   17.000000   18.000000   19.000000   \n",
       "\n",
       "           coding  \n",
       "count  175.000000  \n",
       "mean     8.548571  \n",
       "std      2.872118  \n",
       "min      0.000000  \n",
       "25%      6.000000  \n",
       "50%      9.000000  \n",
       "75%     11.000000  \n",
       "max     15.000000  "
      ]
     },
     "execution_count": 4,
     "metadata": {},
     "output_type": "execute_result"
    }
   ],
   "source": [
    "wiscData.describe()"
   ]
  },
  {
   "cell_type": "markdown",
   "metadata": {},
   "source": [
    "## Factor analysis\n",
    "\n",
    "Like PCA, a factor analysis is a transformation object **`FactorAnalysis`** under **`sklern.decompositon`**. Now, we shall apply the factor analysis to the WISC data. Here, we do not specify the number of components, so that the maximum possible number of factors (equals to the number of features) will be determined.\n"
   ]
  },
  {
   "cell_type": "code",
   "execution_count": 5,
   "metadata": {},
   "outputs": [],
   "source": [
    "# applying factor analysis\n",
    "FA = FactorAnalysis()  # creating a factor analysis transformation object\n",
    "wiscFA = FA.fit(wiscFeatures) # fit the data"
   ]
  },
  {
   "cell_type": "markdown",
   "metadata": {},
   "source": [
    "Now, let's take a look at the results from this analysis. Like PCA, the factors are stored in **`FA.components_`**. "
   ]
  },
  {
   "cell_type": "code",
   "execution_count": 6,
   "metadata": {},
   "outputs": [
    {
     "data": {
      "text/plain": [
       "(11, 11)"
      ]
     },
     "execution_count": 6,
     "metadata": {},
     "output_type": "execute_result"
    }
   ],
   "source": [
    "FA.components_.shape"
   ]
  },
  {
   "cell_type": "markdown",
   "metadata": {},
   "source": [
    "Here, the rows corresponds to factors, and columns correspond to features. Let's take a look at the first factor, Factor 1. "
   ]
  },
  {
   "cell_type": "code",
   "execution_count": 7,
   "metadata": {},
   "outputs": [
    {
     "data": {
      "text/plain": [
       "array([2.10071154, 2.22649291, 1.26055822, 2.42251688, 2.17578256,\n",
       "       1.07024014, 1.64726752, 1.10643563, 1.46536729, 1.30636613,\n",
       "       0.23448759])"
      ]
     },
     "execution_count": 7,
     "metadata": {},
     "output_type": "execute_result"
    }
   ],
   "source": [
    "FA.components_[0,:]"
   ]
  },
  {
   "cell_type": "code",
   "execution_count": 8,
   "metadata": {},
   "outputs": [
    {
     "data": {
      "text/plain": [
       "array(['info', 'comp', 'arith', 'simil', 'vocab', 'digit', 'pictcomp',\n",
       "       'parang', 'block', 'object', 'coding'], dtype=object)"
      ]
     },
     "execution_count": 8,
     "metadata": {},
     "output_type": "execute_result"
    }
   ],
   "source": [
    "featureNames"
   ]
  },
  {
   "cell_type": "markdown",
   "metadata": {},
   "source": [
    "These numbers are called **loadings** or ** factor loadings**. Each of these numbers represent how much Factor 1 contributes to a feature. For example, the factor loading corresponding to feature **`info`** is 2.10. This means 2.10$\\times$Factor 1 is the contribution from Factor 1 to `info`. The larger the loading, then the larger the contribution from the corresponding Factor."
   ]
  },
  {
   "cell_type": "markdown",
   "metadata": {},
   "source": [
    "## Scree plot\n",
    "\n",
    "Now, in the earlier factor analysis, we calculated as many factors as we were able to. But we would like to have as few factors as possible. To determine the number of required factors, we generate a Scree plot, just as in a PCA. Unlike a PCA, we plot **eigenvalues** associated with each factor on the y-axis, and the component number on the x-axis. The eigenvalue of a factor can be calculated by squaring all the factor loadings associated with that factor, and summing them together. Here is a code to calculate eigenvalues and produce a Scree plot."
   ]
  },
  {
   "cell_type": "code",
   "execution_count": 10,
   "metadata": {
    "scrolled": true
   },
   "outputs": [
    {
     "data": {
      "image/png": "[encoded data removed]",
      "text/plain": [
       "<Figure size 432x288 with 1 Axes>"
      ]
     },
     "metadata": {
      "needs_background": "light"
     },
     "output_type": "display_data"
    }
   ],
   "source": [
    "# Scree plot\n",
    "eigenV = np.sum(FA.components_**2, axis=1)\n",
    "plt.plot(np.arange(1,12), eigenV)\n",
    "plt.xlabel('Component number')\n",
    "plt.ylabel('Eigenvalue')\n",
    "plt.show()"
   ]
  },
  {
   "cell_type": "markdown",
   "metadata": {},
   "source": [
    "It seems that there is an *elbow* at Factor 2. So we re-run the factor analysis with just 2 components this time."
   ]
  },
  {
   "cell_type": "code",
   "execution_count": 20,
   "metadata": {},
   "outputs": [],
   "source": [
    "# applying factor analysis with 2 components only\n",
    "reFA = FactorAnalysis(n_components=2)  # creating a factor analysis transformation object\n",
    "wiscReFA = reFA.fit_transform(wiscFeatures) # fit the data"
   ]
  },
  {
   "cell_type": "markdown",
   "metadata": {},
   "source": [
    "And let's examine factor loadings."
   ]
  },
  {
   "cell_type": "code",
   "execution_count": 21,
   "metadata": {},
   "outputs": [
    {
     "name": "stdout",
     "output_type": "stream",
     "text": [
      "Feature \tFactor 1\tFactor 2\n",
      "info    \t   2.167\t   0.834\n",
      "comp    \t   2.086\t  -0.288\n",
      "arith   \t   1.268\t   0.422\n",
      "simil   \t   2.224\t   0.001\n",
      "vocab   \t   2.186\t   0.557\n",
      "digit   \t   0.999\t   0.591\n",
      "pictcomp\t   1.402\t  -1.184\n",
      "parang  \t   0.918\t  -0.683\n",
      "block   \t   1.294\t  -1.125\n",
      "object  \t   1.087\t  -1.362\n",
      "coding  \t   0.198\t   0.065\n"
     ]
    }
   ],
   "source": [
    "# printing out the factor loading\n",
    "print('Feature \\tFactor 1\\tFactor 2')\n",
    "for i, iFeature in enumerate(featureNames):\n",
    "    print('%-8s' % iFeature + '\\t%8.3f' % reFA.components_[0,i]\n",
    "          + '\\t%8.3f' % reFA.components_[1,i])"
   ]
  },
  {
   "cell_type": "markdown",
   "metadata": {},
   "source": [
    "Here, Factor 1 seems contribute to `info`, `comp`, `arith`, `simil`, `vocab`, `pictcomp`, `block`, and `object`. On the other hand, Factor 2 seems to contribute negatively to `pictcomp`, `block`, and `object`. If you are an expert in the field, you can ascribe meanings to these factors based on the loadings."
   ]
  },
  {
   "cell_type": "markdown",
   "metadata": {},
   "source": [
    "# 3. Application\n",
    "<hr style=\"height:1px;border:none\" />\n",
    "\n",
    "## Data\n",
    "The data set consists of 32 personality trait ratings from 240 individuals. Our goal is to describe this data with a smaller number of factors.\n",
    "\n",
    "<p style=\"text-align:center; font-size:10px; margin-top: 12px; margin-bottom: 12px;\"> \n",
    "Source: https://web.stanford.edu/class/psych253/tutorials/FactorAnalysis.html </p>\n",
    "\n",
    "Here is a code snippet to load the data from a file **`personality0.txt`**."
   ]
  },
  {
   "cell_type": "markdown",
   "metadata": {},
   "source": [
    "`<PersonalityFA.py>`"
   ]
  },
  {
   "cell_type": "code",
   "execution_count": 22,
   "metadata": {},
   "outputs": [],
   "source": [
    "import numpy as np\n",
    "import pandas as pd\n",
    "import matplotlib.pyplot as plt\n",
    "from sklearn.decomposition import FactorAnalysis\n",
    "\n",
    "# loadin the data\n",
    "pTraitData = pd.read_csv('personality0.txt', sep=' ')\n",
    "numFeatures = 32"
   ]
  },
  {
   "cell_type": "markdown",
   "metadata": {},
   "source": [
    "### Exercise\n",
    "1. **Factor analysis**. Define a factor analysis transformation object, call it **`FA`**, with as many factors as possible. Then perform the factor analysis. \n",
    "2. **Scree plot**. Based on your analysis results from the factor analysis above, calculate eigenvalues for all the factors and produce a Scree plot. Determine the optimal number of factors based on the plot."
   ]
  },
  {
   "cell_type": "code",
   "execution_count": 23,
   "metadata": {},
   "outputs": [
    {
     "data": {
      "image/png": "[encoded data removed]",
      "text/plain": [
       "<Figure size 432x288 with 1 Axes>"
      ]
     },
     "metadata": {
      "needs_background": "light"
     },
     "output_type": "display_data"
    }
   ],
   "source": [
    "# applying factor analysis\n",
    "FA = FactorAnalysis()  # creating a factor analysis transformation object\n",
    "pTraitFA = FA.fit(pTraitData) # fit the data\n",
    "\n",
    "# Scree plot\n",
    "eigenV = np.sum(FA.components_**2, axis=1)\n",
    "plt.plot(np.arange(1,33), eigenV)\n",
    "plt.xlabel('Component number')\n",
    "plt.ylabel('Eigenvalue')\n",
    "plt.show()\n",
    "\n",
    "##optimal number of factors = 7"
   ]
  },
  {
   "cell_type": "code",
   "execution_count": 24,
   "metadata": {},
   "outputs": [
    {
     "data": {
      "text/plain": [
       "array([1.98027652e+01, 1.30409777e+01, 8.54486925e+00, 5.33721105e+00,\n",
       "       4.01324800e+00, 2.81948567e+00, 1.60272995e+00, 1.40441297e+00,\n",
       "       1.26740446e+00, 9.79241282e-01, 9.24857350e-01, 8.66005561e-01,\n",
       "       6.20999588e-01, 5.84921554e-01, 4.86319529e-01, 4.23308560e-01,\n",
       "       3.64326011e-01, 2.74955885e-01, 2.34872905e-01, 2.05335009e-01,\n",
       "       1.38603851e-01, 4.08757914e-02, 1.83549260e-02, 0.00000000e+00,\n",
       "       0.00000000e+00, 0.00000000e+00, 0.00000000e+00, 0.00000000e+00,\n",
       "       0.00000000e+00, 0.00000000e+00, 0.00000000e+00, 0.00000000e+00])"
      ]
     },
     "execution_count": 24,
     "metadata": {},
     "output_type": "execute_result"
    }
   ],
   "source": [
    "eigenV"
   ]
  },
  {
   "cell_type": "markdown",
   "metadata": {},
   "source": [
    "Once the number of components is determined, we can perform a factor analysis again, and examine factor loadings."
   ]
  },
  {
   "cell_type": "code",
   "execution_count": 27,
   "metadata": {},
   "outputs": [
    {
     "name": "stdout",
     "output_type": "stream",
     "text": [
      "Feature  \tFactor 1\tFactor 2\tFactor 3\tFactor 4\tFactor 5\tFactor 6\tFactor 7\n",
      "distant \t   1.042\t  -0.378\t  -0.213\t   0.111\t   0.411\t  -0.245\t   0.122\n",
      "talkatv \t  -0.840\t   0.562\t   0.833\t   0.093\t   0.128\t   0.043\t  -0.012\n",
      "carelss \t   0.849\t   0.785\t   0.473\t  -0.094\t   0.164\t  -0.249\t   0.154\n",
      "hardwrk \t  -0.616\t  -0.628\t   0.240\t   0.008\t   0.219\t  -0.405\t   0.219\n",
      "anxious \t   0.680\t  -0.633\t   0.839\t  -0.756\t   0.094\t   0.122\t   0.373\n",
      "agreebl \t  -0.329\t   0.181\t  -0.225\t  -0.737\t   0.248\t  -0.057\t   0.017\n",
      "tense   \t   0.749\t  -0.828\t   1.004\t  -0.530\t  -0.008\t   0.080\t   0.255\n",
      "kind    \t  -0.577\t  -0.180\t  -0.153\t  -0.649\t   0.225\t   0.021\t  -0.299\n",
      "opposng \t   0.448\t  -0.001\t   0.617\t   0.396\t   0.630\t   0.151\t  -0.307\n",
      "relaxed \t  -0.414\t   0.798\t  -0.816\t  -0.033\t   0.526\t   0.030\t   0.022\n",
      "disorgn \t   0.991\t   1.395\t   0.433\t  -0.361\t   0.045\t  -0.630\t  -0.133\n",
      "outgoin \t  -1.245\t   0.539\t   0.752\t  -0.052\t   0.045\t   0.138\t   0.138\n",
      "approvn \t  -0.627\t   0.160\t  -0.046\t  -0.449\t   0.232\t   0.000\t   0.078\n",
      "shy     \t   1.220\t  -0.412\t  -0.695\t  -0.447\t  -0.065\t   0.130\t  -0.117\n",
      "discipl \t  -0.516\t  -0.853\t  -0.032\t   0.064\t   0.331\t  -0.628\t   0.249\n",
      "harsh   \t   0.606\t  -0.034\t   0.554\t   0.564\t   0.596\t   0.015\t  -0.100\n",
      "persevr \t  -0.551\t  -0.495\t   0.188\t  -0.126\t   0.249\t  -0.453\t  -0.032\n",
      "friendl \t  -0.709\t   0.122\t   0.199\t  -0.499\t   0.087\t   0.053\t  -0.129\n",
      "worryin \t   0.772\t  -0.810\t   0.891\t  -0.742\t  -0.161\t   0.272\t   0.107\n",
      "respnsi \t  -0.616\t  -0.748\t  -0.076\t  -0.125\t   0.276\t  -0.237\t  -0.220\n",
      "contrar \t   0.575\t  -0.055\t   0.632\t   0.383\t   0.634\t   0.123\t  -0.238\n",
      "sociabl \t  -0.965\t   0.541\t   0.442\t  -0.174\t  -0.029\t   0.299\t  -0.074\n",
      "lazy    \t   1.008\t   0.707\t   0.097\t  -0.265\t   0.071\t   0.664\t  -0.123\n",
      "coopera \t  -0.507\t   0.038\t  -0.260\t  -0.531\t   0.084\t  -0.094\t  -0.152\n",
      "quiet   \t   1.126\t  -0.568\t  -0.699\t  -0.590\t   0.253\t   0.113\t  -0.158\n",
      "organiz \t  -1.057\t  -1.220\t  -0.251\t   0.255\t   0.221\t   0.438\t   0.103\n",
      "criticl \t   0.315\t  -0.494\t   0.498\t   0.409\t   0.682\t   0.142\t  -0.334\n",
      "lax     \t   0.296\t   0.755\t  -0.149\t  -0.227\t   0.358\t   0.247\t   0.165\n",
      "laidbck \t  -0.189\t   0.904\t  -0.591\t   0.028\t   0.736\t   0.127\t   0.574\n",
      "withdrw \t   1.243\t  -0.441\t  -0.336\t  -0.011\t   0.365\t  -0.105\t   0.128\n",
      "givinup \t   0.944\t   0.089\t   0.074\t  -0.112\t  -0.020\t   0.384\t   0.142\n",
      "easygon \t  -0.440\t   0.626\t  -0.404\t  -0.242\t   0.510\t   0.236\t   0.210\n"
     ]
    }
   ],
   "source": [
    "# applying factor analysis again\n",
    "numFactors = 7 ### Fill in based on your answer to Exercise 2.\n",
    "reFA = FactorAnalysis(n_components=numFactors)  # creating a factor analysis transformation object\n",
    "pTraitReFA = reFA.fit(pTraitData) # fit the data\n",
    "\n",
    "# printing out the factor loading\n",
    "print('Feature  ', end='')\n",
    "for iFactor in range(numFactors):\n",
    "    print('\\tFactor ' + str(iFactor+1), end='')\n",
    "print()\n",
    "for iFeature in range(numFeatures):\n",
    "    print('%-8s' % pTraitData.columns[iFeature], end='')\n",
    "    for iFactor in range(7):\n",
    "        print('\\t%8.3f' % reFA.components_[iFactor,iFeature], end='')\n",
    "    print()"
   ]
  },
  {
   "cell_type": "code",
   "execution_count": null,
   "metadata": {},
   "outputs": [],
   "source": []
  }
 ],
 "metadata": {
  "kernelspec": {
   "display_name": "Python 3",
   "language": "python",
   "name": "python3"
  },
  "language_info": {
   "codemirror_mode": {
    "name": "ipython",
    "version": 3
   },
   "file_extension": ".py",
   "mimetype": "text/x-python",
   "name": "python",
   "nbconvert_exporter": "python",
   "pygments_lexer": "ipython3",
   "version": "3.7.1"
  }
 },
 "nbformat": 4,
 "nbformat_minor": 2
}
