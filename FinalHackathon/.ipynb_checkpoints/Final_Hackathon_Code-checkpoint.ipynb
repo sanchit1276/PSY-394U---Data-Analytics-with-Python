{
 "cells": [
  {
   "cell_type": "code",
   "execution_count": 4,
   "metadata": {},
   "outputs": [],
   "source": [
    "## import required libraries\n",
    "import nltk\n",
    "import random\n",
    "from sklearn.feature_extraction.text import CountVectorizer\n",
    "from sklearn.feature_extraction.text import TfidfTransformer\n",
    "from sklearn.model_selection import train_test_split\n",
    "from sklearn.naive_bayes import MultinomialNB\n",
    "from sklearn.svm import LinearSVC\n",
    "from sklearn.metrics import confusion_matrix, accuracy_score, classification_report\n",
    "\n",
    "import re\n",
    "import numpy as np\n",
    "import pandas as pd\n",
    "import glob\n",
    "import os"
   ]
  },
  {
   "cell_type": "code",
   "execution_count": 5,
   "metadata": {},
   "outputs": [],
   "source": [
    "##read the data\n",
    "spam_path = 'SpamData/spam-train/*.txt'  \n",
    "spam_files = glob.glob(spam_path) \n",
    "\n",
    "spam_train = []\n",
    "notSpam_train = []\n",
    "\n",
    "for input_file in spam_files:\n",
    "    path = open(input_file) \n",
    "    filename = path.read()\n",
    "    spam_train.append(filename)\n",
    "\n",
    "\n",
    "\n",
    "notSpam_path = 'SpamData/nonspam-train/*.txt'  \n",
    "notSpam_files = glob.glob(notSpam_path) \n",
    "\n",
    "\n",
    "for input_file in notSpam_files:\n",
    "    path = open(input_file) \n",
    "    filename = path.read()\n",
    "    notSpam_train.append(filename)\n",
    "\n",
    "\n",
    "\n",
    "spam_path_test = 'SpamData/spam-test/*.txt'  \n",
    "spam_files_test = glob.glob(spam_path_test) \n",
    "\n",
    "spam_test = []\n",
    "notSpam_test= []\n",
    "\n",
    "for input_file in spam_files_test:\n",
    "    path = open(input_file) \n",
    "    filename = path.read()\n",
    "    spam_test.append(filename)\n",
    "\n",
    "\n",
    "\n",
    "notSpam_path_test = 'SpamData/nonspam-test/*.txt'  \n",
    "notSpam_files_test = glob.glob(notSpam_path_test) \n",
    "\n",
    "\n",
    "for input_file in notSpam_files_test:\n",
    "    path = open(input_file) \n",
    "    filename = path.read()\n",
    "    notSpam_test.append(filename)"
   ]
  },
  {
   "cell_type": "code",
   "execution_count": 6,
   "metadata": {},
   "outputs": [],
   "source": [
    "#Create training data\n",
    "X_train = spam_train + notSpam_train\n",
    "Y_spam = [1]*350\n",
    "Y_nonspam = [0]*350\n",
    "Y_train = Y_spam + Y_nonspam"
   ]
  },
  {
   "cell_type": "code",
   "execution_count": 7,
   "metadata": {},
   "outputs": [],
   "source": [
    "#Create testing data\n",
    "X_test = spam_test + notSpam_test\n",
    "Y_spam = [1]*130\n",
    "Y_nonspam = [0]*130\n",
    "Y_test = Y_spam + Y_nonspam"
   ]
  },
  {
   "cell_type": "code",
   "execution_count": 8,
   "metadata": {},
   "outputs": [],
   "source": [
    "#shuffle data to reduce bias\n",
    "combined = list(zip(X_train, Y_train))\n",
    "random.shuffle(combined)\n",
    "\n",
    "X_train[:], Y_train[:] = zip(*combined)"
   ]
  },
  {
   "cell_type": "code",
   "execution_count": 9,
   "metadata": {},
   "outputs": [],
   "source": [
    "# word occurrence counts\n",
    "count_vect = CountVectorizer()\n",
    "X_train_counts = count_vect.fit_transform(X_train)# List of words\n",
    "count_vect.get_feature_names()\n",
    "X_train_counts.shape\n",
    "# indices for non-zero elements in the sparse matrix\n",
    "X_train_counts.nonzero()\n",
    "# converting to term frequency\n",
    "tf_transformer = TfidfTransformer()\n",
    "X_train_tf = tf_transformer.fit_transform(X_train_counts)\n",
    "# classifier (naive Bayes)\n",
    "clf_nb = MultinomialNB().fit(X_train_tf, Y_train)\n",
    "# converting the testing set to term frequency\n",
    "X_test_counts = count_vect.transform(X_test)  # NB you don't have to fit\n",
    "X_test_tf = tf_transformer.transform(X_test_counts)  # NB you don't have to fit"
   ]
  },
  {
   "cell_type": "code",
   "execution_count": 10,
   "metadata": {},
   "outputs": [
    {
     "name": "stdout",
     "output_type": "stream",
     "text": [
      "Accuracy - Naive Bayes: 0.9692\n",
      "[[122   8]\n",
      " [  0 130]]\n",
      "              precision    recall  f1-score   support\n",
      "\n",
      "           0       1.00      0.94      0.97       130\n",
      "           1       0.94      1.00      0.97       130\n",
      "\n",
      "   micro avg       0.97      0.97      0.97       260\n",
      "   macro avg       0.97      0.97      0.97       260\n",
      "weighted avg       0.97      0.97      0.97       260\n",
      "\n"
     ]
    }
   ],
   "source": [
    "##MODEL 1 - NAIVE BAYES\n",
    "\n",
    "# classifying the testing data\n",
    "Y_pred_nb = clf_nb.predict(X_test_tf)\n",
    "# accuracy\n",
    "print('Accuracy - Naive Bayes: %6.4f' % accuracy_score(Y_test,Y_pred_nb))\n",
    "print(confusion_matrix(Y_test,Y_pred_nb))\n",
    "print(classification_report(Y_test,Y_pred_nb))"
   ]
  },
  {
   "cell_type": "code",
   "execution_count": 11,
   "metadata": {},
   "outputs": [
    {
     "name": "stdout",
     "output_type": "stream",
     "text": [
      "Accuracy - Linear SVM: 0.9846\n",
      "[[129   1]\n",
      " [  3 127]]\n",
      "              precision    recall  f1-score   support\n",
      "\n",
      "           0       0.98      0.99      0.98       130\n",
      "           1       0.99      0.98      0.98       130\n",
      "\n",
      "   micro avg       0.98      0.98      0.98       260\n",
      "   macro avg       0.98      0.98      0.98       260\n",
      "weighted avg       0.98      0.98      0.98       260\n",
      "\n"
     ]
    }
   ],
   "source": [
    "##MODEL 2 - SVM\n",
    "\n",
    "# classifier (Linear SVM)\n",
    "clf_svm = LinearSVC().fit(X_train_tf, Y_train)\n",
    "\n",
    "# classifying the testing data\n",
    "Y_pred_svm = clf_svm.predict(X_test_tf)\n",
    "\n",
    "# accuracy\n",
    "print('Accuracy - Linear SVM: %6.4f' % accuracy_score(Y_test,Y_pred_svm))\n",
    "print(confusion_matrix(Y_test,Y_pred_svm))\n",
    "print(classification_report(Y_test,Y_pred_svm))"
   ]
  },
  {
   "cell_type": "code",
   "execution_count": null,
   "metadata": {},
   "outputs": [],
   "source": []
  }
 ],
 "metadata": {
  "kernelspec": {
   "display_name": "Python 3",
   "language": "python",
   "name": "python3"
  },
  "language_info": {
   "codemirror_mode": {
    "name": "ipython",
    "version": 3
   },
   "file_extension": ".py",
   "mimetype": "text/x-python",
   "name": "python",
   "nbconvert_exporter": "python",
   "pygments_lexer": "ipython3",
   "version": "3.7.1"
  }
 },
 "nbformat": 4,
 "nbformat_minor": 2
}
